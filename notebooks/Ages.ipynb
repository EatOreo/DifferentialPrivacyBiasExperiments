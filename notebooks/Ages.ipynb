{
 "cells": [
  {
   "cell_type": "code",
   "execution_count": 206,
   "metadata": {
    "collapsed": true
   },
   "outputs": [
    {
     "data": {
      "text/plain": "      age gender                               patient\n0      40      F  0220e8b3-e108-768c-dfcf-22ad951ae7ac\n1      40      M  034f2cbf-41f7-53b5-9cbb-9c69f3c3ae1e\n2      40      F  03b204cd-c4e6-30a0-57f2-7f7e182da896\n3      40      M  04b64150-7905-97c4-6ce7-12134e09b24c\n4      40      M  04d185d2-0af9-a96a-a035-0b22861e0e51\n...   ...    ...                                   ...\n9231   80      F  e89dd75a-f0fc-3bdf-a062-ac047cf72e33\n9232   80      F  ea0c6652-cb7f-e564-0e17-ce251bd074c0\n9233   80      F  f0b72501-8806-4cbf-31e2-541c5913bc87\n9234   80      F  f99d16b5-ca1b-1fda-820c-096878b91d30\n9235   80      F  fa35e460-29b7-a919-e118-1414dbc859d7\n\n[9236 rows x 3 columns]",
      "text/html": "<div>\n<style scoped>\n    .dataframe tbody tr th:only-of-type {\n        vertical-align: middle;\n    }\n\n    .dataframe tbody tr th {\n        vertical-align: top;\n    }\n\n    .dataframe thead th {\n        text-align: right;\n    }\n</style>\n<table border=\"1\" class=\"dataframe\">\n  <thead>\n    <tr style=\"text-align: right;\">\n      <th></th>\n      <th>age</th>\n      <th>gender</th>\n      <th>patient</th>\n    </tr>\n  </thead>\n  <tbody>\n    <tr>\n      <th>0</th>\n      <td>40</td>\n      <td>F</td>\n      <td>0220e8b3-e108-768c-dfcf-22ad951ae7ac</td>\n    </tr>\n    <tr>\n      <th>1</th>\n      <td>40</td>\n      <td>M</td>\n      <td>034f2cbf-41f7-53b5-9cbb-9c69f3c3ae1e</td>\n    </tr>\n    <tr>\n      <th>2</th>\n      <td>40</td>\n      <td>F</td>\n      <td>03b204cd-c4e6-30a0-57f2-7f7e182da896</td>\n    </tr>\n    <tr>\n      <th>3</th>\n      <td>40</td>\n      <td>M</td>\n      <td>04b64150-7905-97c4-6ce7-12134e09b24c</td>\n    </tr>\n    <tr>\n      <th>4</th>\n      <td>40</td>\n      <td>M</td>\n      <td>04d185d2-0af9-a96a-a035-0b22861e0e51</td>\n    </tr>\n    <tr>\n      <th>...</th>\n      <td>...</td>\n      <td>...</td>\n      <td>...</td>\n    </tr>\n    <tr>\n      <th>9231</th>\n      <td>80</td>\n      <td>F</td>\n      <td>e89dd75a-f0fc-3bdf-a062-ac047cf72e33</td>\n    </tr>\n    <tr>\n      <th>9232</th>\n      <td>80</td>\n      <td>F</td>\n      <td>ea0c6652-cb7f-e564-0e17-ce251bd074c0</td>\n    </tr>\n    <tr>\n      <th>9233</th>\n      <td>80</td>\n      <td>F</td>\n      <td>f0b72501-8806-4cbf-31e2-541c5913bc87</td>\n    </tr>\n    <tr>\n      <th>9234</th>\n      <td>80</td>\n      <td>F</td>\n      <td>f99d16b5-ca1b-1fda-820c-096878b91d30</td>\n    </tr>\n    <tr>\n      <th>9235</th>\n      <td>80</td>\n      <td>F</td>\n      <td>fa35e460-29b7-a919-e118-1414dbc859d7</td>\n    </tr>\n  </tbody>\n</table>\n<p>9236 rows × 3 columns</p>\n</div>"
     },
     "execution_count": 206,
     "metadata": {},
     "output_type": "execute_result"
    }
   ],
   "source": [
    "import sqlite3\n",
    "\n",
    "import matplotlib.pyplot as plt\n",
    "import pandas as pd\n",
    "\n",
    "conn = sqlite3.connect(\"../data/conditions.db\")\n",
    "\n",
    "query = \"\"\"\n",
    "SELECT age, gender, patient\n",
    "FROM (\n",
    "    SELECT c.patient, p.gender, DATE(p.birthdate) as dob, min(DATE(c.start)) as start, (cast(strftime('%Y.%m%d', min(DATE(c.start))) - strftime('%Y.%m%d', DATE(p.birthdate)) as int) / 2) * 2 as age\n",
    "    FROM conditions c\n",
    "    JOIN patients p on c.patient = p.id\n",
    "    WHERE c.description = 'Ischemic heart disease (disorder)'\n",
    "    GROUP BY c.patient\n",
    "    ORDER BY age\n",
    " ) h\n",
    "WHERE age >= 20;\n",
    "\"\"\"\n",
    "\n",
    "\n",
    "df = pd.read_sql(query, conn)\n",
    "df"
   ]
  },
  {
   "cell_type": "code",
   "execution_count": 207,
   "outputs": [
    {
     "name": "stderr",
     "output_type": "stream",
     "text": [
      "C:\\Users\\krist\\AppData\\Local\\Temp\\ipykernel_20580\\3459853752.py:1: FutureWarning: Dropping of nuisance columns in DataFrame reductions (with 'numeric_only=None') is deprecated; in a future version this will raise TypeError.  Select only valid columns before calling the reduction.\n",
      "  womenMeanDf = df.where(df.gender == \"F\").dropna().mean()\n",
      "C:\\Users\\krist\\AppData\\Local\\Temp\\ipykernel_20580\\3459853752.py:2: FutureWarning: Dropping of nuisance columns in DataFrame reductions (with 'numeric_only=None') is deprecated; in a future version this will raise TypeError.  Select only valid columns before calling the reduction.\n",
      "  menMeanDf = df.where(df.gender == \"M\").dropna().mean()\n"
     ]
    }
   ],
   "source": [
    "womenMeanDf = df.where(df.gender == \"F\").dropna().mean()\n",
    "menMeanDf = df.where(df.gender == \"M\").dropna().mean()"
   ],
   "metadata": {
    "collapsed": false
   }
  },
  {
   "cell_type": "markdown",
   "source": [
    "MALES Below\n"
   ],
   "metadata": {
    "collapsed": false
   }
  },
  {
   "cell_type": "code",
   "execution_count": 208,
   "outputs": [
    {
     "name": "stdout",
     "output_type": "stream",
     "text": [
      "5792\n"
     ]
    }
   ],
   "source": [
    "import numpy.random as np\n",
    "howManyMenQuery = \"\"\"\n",
    "SELECT COUNT(*) as count\n",
    "FROM (\n",
    "    SELECT c.patient, p.gender, DATE(p.birthdate) as dob, min(DATE(c.start)) as start, (cast(strftime('%Y.%m%d', min(DATE(c.start))) - strftime('%Y.%m%d', DATE(p.birthdate)) as int) / 2) * 2 as age\n",
    "    FROM conditions c\n",
    "    JOIN patients p on c.patient = p.id\n",
    "    WHERE c.description = 'Ischemic heart disease (disorder)'\n",
    "    GROUP BY c.patient\n",
    "    ORDER BY age\n",
    " ) h\n",
    "WHERE age >= 20 and gender = 'M'\n",
    "ORDER by gender\n",
    ";\n",
    "\"\"\"\n",
    "\n",
    "maxMaleQuery = \"\"\"\n",
    "SELECT MAX(age)\n",
    "FROM (\n",
    "    SELECT c.patient, p.gender, DATE(p.birthdate) as dob, min(DATE(c.start)) as start, (cast(strftime('%Y.%m%d', min(DATE(c.start))) - strftime('%Y.%m%d', DATE(p.birthdate)) as int) / 2) * 2 as age\n",
    "    FROM conditions c\n",
    "    JOIN patients p on c.patient = p.id\n",
    "    WHERE c.description = 'Ischemic heart disease (disorder)'\n",
    "    GROUP BY c.patient\n",
    "    ORDER BY age\n",
    " ) h\n",
    "WHERE age >= 20 and gender = 'M'\n",
    "ORDER by gender\n",
    ";\n",
    "\"\"\"\n",
    "\n",
    "\n",
    "howManyMenDF = pd.read_sql(howManyMenQuery, conn)\n",
    "maxMaleDF = pd.read_sql(maxMaleQuery, conn)\n",
    "nOfMen = int(howManyMenDF.to_string(index=False, header=False))\n",
    "maxMaleage = int(maxMaleDF.to_string(index=False, header=False))\n",
    "\n",
    "\n",
    "print(nOfMen)\n",
    "menavg = menMeanDf[\"age\"].astype(float)"
   ],
   "metadata": {
    "collapsed": false
   }
  },
  {
   "cell_type": "markdown",
   "source": [
    "FEMALES below"
   ],
   "metadata": {
    "collapsed": false
   }
  },
  {
   "cell_type": "code",
   "execution_count": 209,
   "outputs": [
    {
     "name": "stdout",
     "output_type": "stream",
     "text": [
      "3444\n"
     ]
    }
   ],
   "source": [
    "maxFemaleQuery = \"\"\"\n",
    "SELECT MAX(age)\n",
    "FROM (\n",
    "    SELECT c.patient, p.gender, DATE(p.birthdate) as dob, min(DATE(c.start)) as start, (cast(strftime('%Y.%m%d', min(DATE(c.start))) - strftime('%Y.%m%d', DATE(p.birthdate)) as int) / 2) * 2 as age\n",
    "    FROM conditions c\n",
    "    JOIN patients p on c.patient = p.id\n",
    "    WHERE c.description = 'Ischemic heart disease (disorder)'\n",
    "    GROUP BY c.patient\n",
    "    ORDER BY age\n",
    " ) h\n",
    "WHERE age >= 20 and gender = 'F'\n",
    "ORDER by gender\n",
    ";\n",
    "\"\"\"\n",
    "\n",
    "howManyWomenQuery = \"\"\"\n",
    "SELECT count(*) as count\n",
    "FROM (\n",
    "    SELECT c.patient, p.gender, DATE(p.birthdate) as dob, min(DATE(c.start)) as start, (cast(strftime('%Y.%m%d', min(DATE(c.start))) - strftime('%Y.%m%d', DATE(p.birthdate)) as int) / 2) * 2 as age\n",
    "    FROM conditions c\n",
    "    JOIN patients p on c.patient = p.id\n",
    "    WHERE c.description = 'Ischemic heart disease (disorder)'\n",
    "    GROUP BY c.patient\n",
    "    ORDER BY age\n",
    " ) h\n",
    "WHERE age >= 20 and gender = 'F'\n",
    "ORDER by gender\n",
    ";\n",
    "\"\"\"\n",
    "\n",
    "\n",
    "howManyWomenDF = pd.read_sql(howManyWomenQuery, conn)\n",
    "nOfWomen = int(howManyWomenDF.to_string(index=False, header=False))\n",
    "maxFemaleDF = pd.read_sql(maxFemaleQuery, conn)\n",
    "maxFemaleAge = int(maxMaleDF.to_string(index=False, header=False))\n",
    "\n",
    "print(nOfWomen)\n",
    "womenavg = womenMeanDf[\"age\"].astype(float)\n"
   ],
   "metadata": {
    "collapsed": false
   }
  },
  {
   "cell_type": "markdown",
   "source": [],
   "metadata": {
    "collapsed": false
   }
  },
  {
   "cell_type": "markdown",
   "source": [
    "Make a distribution for both men and women"
   ],
   "metadata": {
    "collapsed": false
   }
  },
  {
   "cell_type": "code",
   "execution_count": 260,
   "outputs": [
    {
     "name": "stdout",
     "output_type": "stream",
     "text": [
      "3.9213396987955704\n",
      "58.84188531901104\n"
     ]
    },
    {
     "data": {
      "text/plain": "<Figure size 640x480 with 1 Axes>",
      "image/png": "[encoded data removed]"
     },
     "metadata": {},
     "output_type": "display_data"
    }
   ],
   "source": [
    "import numpy.random as np\n",
    "import numpy as npp\n",
    "menArr = []\n",
    "womenArr = []\n",
    "\n",
    "for i in range(100):\n",
    "\n",
    "    deltaWomen = maxFemaleAge / nOfWomen\n",
    "    scaleWomen = deltaWomen / 0.1\n",
    "    lapWomen = np.laplace(0, scaleWomen)\n",
    "\n",
    "    womenArr.append(womenavg+lapWomen)\n",
    "\n",
    "    delta = maxMaleage / nOfMen\n",
    "    scale = delta / 0.1\n",
    "    lap = np.laplace(0, scale)\n",
    "\n",
    "    menArr.append(menavg+lap)\n",
    "\n",
    "\n",
    "\n",
    "plt.hist(menArr, color=\"deepskyblue\", alpha=0.7)\n",
    "plt.axvline(x=womenavg, color=\"g\")\n",
    "plt.axvline(x=menavg, color =\"g\")\n",
    "\n",
    "x= [menavg, womenavg]\n",
    "y=[35, 35]\n",
    "\n",
    "plt.plot(x, y, linestyle=\"--\", color=\"r\")\n",
    "\n",
    "difference = womenavg-menavg\n",
    "print(difference)\n",
    "swag = (womenavg+menavg) / 2\n",
    "print(swag)\n",
    "plt.text(swag-2, 33, \"Mean difference = \" + str(difference))\n",
    "\n",
    "\n",
    "\n",
    "plt.hist(womenArr, color=\"orangered\", alpha=0.7)\n",
    "plt.show()\n"
   ],
   "metadata": {
    "collapsed": false
   }
  },
  {
   "cell_type": "markdown",
   "source": [
    "With DP"
   ],
   "metadata": {
    "collapsed": false
   }
  },
  {
   "cell_type": "code",
   "execution_count": 211,
   "outputs": [
    {
     "name": "stdout",
     "output_type": "stream",
     "text": [
      "After DP, for men and women:  13.29266551328522\n"
     ]
    }
   ],
   "source": [
    "# calculate the Cohen's d between two samples\n",
    "from numpy import mean\n",
    "from numpy import var\n",
    "from math import sqrt\n",
    "\n",
    "# function to calculate Cohen's d for independent samples\n",
    "def cohend(d1, d2):\n",
    "    # calculate the size of samples\n",
    "    n1, n2 = len(d1), len(d2)\n",
    "    # calculate the variance of the samples\n",
    "    s1, s2 = var(d1, ddof=1), var(d2, ddof=1)\n",
    "    # calculate the pooled standard deviation\n",
    "    s = sqrt(((n1 - 1) * s1 + (n2 - 1) * s2) / (n1 + n2 - 2))\n",
    "    # calculate the means of the samples\n",
    "    u1, u2 = mean(d1), mean(d2)\n",
    "    # calculate the effect size\n",
    "    return (u1 - u2) / s\n",
    "\n",
    "dBDP = cohend(womenArr, menArr)\n",
    "print(\"After DP, for men and women: \", dBDP)\n"
   ],
   "metadata": {
    "collapsed": false
   }
  },
  {
   "cell_type": "markdown",
   "source": [
    "Try with the epsilon vs effect size in this experiment\n",
    "\n"
   ],
   "metadata": {
    "collapsed": false
   }
  },
  {
   "cell_type": "code",
   "execution_count": null,
   "outputs": [],
   "source": [
    "\n",
    "# Python program to illustrate\n",
    "# enumerate function\n",
    "import numpy as np\n",
    "\n",
    "for  i in np.arange(0.5, 1.5, 0.2):\n",
    "    print(i, end =\" \")#%%\n",
    "import sqlite3\n",
    "\n",
    "import matplotlib.pyplot as plt\n",
    "import pandas as pd\n",
    "\n",
    "conn = sqlite3.connect(\"../data/conditions.db\")\n",
    "\n",
    "query = \"\"\"\n",
    "SELECT age, gender, patient\n",
    "FROM (\n",
    "    SELECT c.patient, p.gender, DATE(p.birthdate) as dob, min(DATE(c.start)) as start, (cast(strftime('%Y.%m%d', min(DATE(c.start))) - strftime('%Y.%m%d', DATE(p.birthdate)) as int) / 2) * 2 as age\n",
    "    FROM conditions c\n",
    "    JOIN patients p on c.patient = p.id\n",
    "    WHERE c.description = 'Ischemic heart disease (disorder)'\n",
    "    GROUP BY c.patient\n",
    "    ORDER BY age\n",
    " ) h\n",
    "WHERE age >= 20;\n",
    "\"\"\"\n",
    "\n",
    "\n",
    "df = pd.read_sql(query, conn)\n",
    "df"
   ],
   "metadata": {
    "collapsed": false
   }
  },
  {
   "cell_type": "code",
   "execution_count": null,
   "outputs": [],
   "source": [
    "womenMeanDf = df.where(df.gender == \"F\").dropna().mean()\n",
    "menMeanDf = df.where(df.gender == \"M\").dropna().mean()"
   ],
   "metadata": {
    "collapsed": false
   }
  },
  {
   "cell_type": "markdown",
   "source": [
    "MALES Below\n"
   ],
   "metadata": {
    "collapsed": false
   }
  },
  {
   "cell_type": "code",
   "execution_count": null,
   "outputs": [],
   "source": [
    "import numpy.random as np\n",
    "howManyMenQuery = \"\"\"\n",
    "SELECT COUNT(*) as count\n",
    "FROM (\n",
    "    SELECT c.patient, p.gender, DATE(p.birthdate) as dob, min(DATE(c.start)) as start, (cast(strftime('%Y.%m%d', min(DATE(c.start))) - strftime('%Y.%m%d', DATE(p.birthdate)) as int) / 2) * 2 as age\n",
    "    FROM conditions c\n",
    "    JOIN patients p on c.patient = p.id\n",
    "    WHERE c.description = 'Ischemic heart disease (disorder)'\n",
    "    GROUP BY c.patient\n",
    "    ORDER BY age\n",
    " ) h\n",
    "WHERE age >= 20 and gender = 'M'\n",
    "ORDER by gender\n",
    ";\n",
    "\"\"\"\n",
    "\n",
    "maxMaleQuery = \"\"\"\n",
    "SELECT MAX(age)\n",
    "FROM (\n",
    "    SELECT c.patient, p.gender, DATE(p.birthdate) as dob, min(DATE(c.start)) as start, (cast(strftime('%Y.%m%d', min(DATE(c.start))) - strftime('%Y.%m%d', DATE(p.birthdate)) as int) / 2) * 2 as age\n",
    "    FROM conditions c\n",
    "    JOIN patients p on c.patient = p.id\n",
    "    WHERE c.description = 'Ischemic heart disease (disorder)'\n",
    "    GROUP BY c.patient\n",
    "    ORDER BY age\n",
    " ) h\n",
    "WHERE age >= 20 and gender = 'M'\n",
    "ORDER by gender\n",
    ";\n",
    "\"\"\"\n",
    "\n",
    "\n",
    "howManyMenDF = pd.read_sql(howManyMenQuery, conn)\n",
    "maxMaleDF = pd.read_sql(maxMaleQuery, conn)\n",
    "nOfMen = int(howManyMenDF.to_string(index=False, header=False))\n",
    "maxMaleage = int(maxMaleDF.to_string(index=False, header=False))\n",
    "\n",
    "\n",
    "print(nOfMen)\n",
    "menavg = menMeanDf[\"age\"].astype(float)"
   ],
   "metadata": {
    "collapsed": false
   }
  },
  {
   "cell_type": "markdown",
   "source": [
    "FEMALES below"
   ],
   "metadata": {
    "collapsed": false
   }
  },
  {
   "cell_type": "code",
   "execution_count": null,
   "outputs": [],
   "source": [
    "maxFemaleQuery = \"\"\"\n",
    "SELECT MAX(age)\n",
    "FROM (\n",
    "    SELECT c.patient, p.gender, DATE(p.birthdate) as dob, min(DATE(c.start)) as start, (cast(strftime('%Y.%m%d', min(DATE(c.start))) - strftime('%Y.%m%d', DATE(p.birthdate)) as int) / 2) * 2 as age\n",
    "    FROM conditions c\n",
    "    JOIN patients p on c.patient = p.id\n",
    "    WHERE c.description = 'Ischemic heart disease (disorder)'\n",
    "    GROUP BY c.patient\n",
    "    ORDER BY age\n",
    " ) h\n",
    "WHERE age >= 20 and gender = 'F'\n",
    "ORDER by gender\n",
    ";\n",
    "\"\"\"\n",
    "\n",
    "howManyWomenQuery = \"\"\"\n",
    "SELECT count(*) as count\n",
    "FROM (\n",
    "    SELECT c.patient, p.gender, DATE(p.birthdate) as dob, min(DATE(c.start)) as start, (cast(strftime('%Y.%m%d', min(DATE(c.start))) - strftime('%Y.%m%d', DATE(p.birthdate)) as int) / 2) * 2 as age\n",
    "    FROM conditions c\n",
    "    JOIN patients p on c.patient = p.id\n",
    "    WHERE c.description = 'Ischemic heart disease (disorder)'\n",
    "    GROUP BY c.patient\n",
    "    ORDER BY age\n",
    " ) h\n",
    "WHERE age >= 20 and gender = 'F'\n",
    "ORDER by gender\n",
    ";\n",
    "\"\"\"\n",
    "\n",
    "\n",
    "howManyWomenDF = pd.read_sql(howManyWomenQuery, conn)\n",
    "nOfWomen = int(howManyWomenDF.to_string(index=False, header=False))\n",
    "maxFemaleDF = pd.read_sql(maxFemaleQuery, conn)\n",
    "maxFemaleAge = int(maxMaleDF.to_string(index=False, header=False))\n",
    "\n",
    "print(nOfWomen)\n",
    "womenavg = womenMeanDf[\"age\"].astype(float)\n"
   ],
   "metadata": {
    "collapsed": false
   }
  },
  {
   "cell_type": "markdown",
   "source": [],
   "metadata": {
    "collapsed": false
   }
  },
  {
   "cell_type": "markdown",
   "source": [
    "Make a distribution for both men and women"
   ],
   "metadata": {
    "collapsed": false
   }
  },
  {
   "cell_type": "code",
   "execution_count": null,
   "outputs": [],
   "source": [
    "import numpy.random as np\n",
    "import numpy as npp\n",
    "menArr = []\n",
    "womenArr = []\n",
    "\n",
    "for i in range(100):\n",
    "\n",
    "    deltaWomen = maxFemaleAge / nOfWomen\n",
    "    scaleWomen = deltaWomen / 0.1\n",
    "    lapWomen = np.laplace(0, scaleWomen)\n",
    "\n",
    "    womenArr.append(womenavg+lapWomen)\n",
    "\n",
    "    delta = maxMaleage / nOfMen\n",
    "    scale = delta / 0.1\n",
    "    lap = np.laplace(0, scale)\n",
    "\n",
    "    menArr.append(menavg+lap)\n",
    "\n",
    "\n",
    "\n",
    "plt.hist(menArr, color=\"deepskyblue\", alpha=0.7)\n",
    "plt.axvline(x=womenavg, color=\"g\")\n",
    "plt.axvline(x=menavg, color =\"g\")\n",
    "\n",
    "x= [menavg, womenavg]\n",
    "y=[35, 35]\n",
    "\n",
    "plt.plot(x, y, linestyle=\"--\", color=\"r\")\n",
    "\n",
    "difference = womenavg-menavg\n",
    "print(difference)\n",
    "swag = (womenavg+menavg) / 2\n",
    "print(swag)\n",
    "plt.text(swag-2, 33, \"Mean difference = \" + str(difference))\n",
    "\n",
    "\n",
    "\n",
    "plt.hist(womenArr, color=\"orangered\", alpha=0.7)\n",
    "plt.show()\n"
   ],
   "metadata": {
    "collapsed": false
   }
  },
  {
   "cell_type": "markdown",
   "source": [
    "With DP"
   ],
   "metadata": {
    "collapsed": false
   }
  },
  {
   "cell_type": "code",
   "execution_count": 331,
   "outputs": [],
   "source": [
    "# calculate the Cohen's d between two samples\n",
    "from numpy import mean\n",
    "from numpy import var\n",
    "from math import sqrt\n",
    "\n",
    "# function to calculate Cohen's d for independent samples\n",
    "def cohend(d1, d2):\n",
    "    # calculate the size of samples\n",
    "    n1, n2 = len(d1), len(d2)\n",
    "    # calculate the variance of the samples\n",
    "    s1, s2 = var(d1, ddof=1), var(d2, ddof=1)\n",
    "    # calculate the pooled standard deviation\n",
    "    s = sqrt(((n1 - 1) * s1 + (n2 - 1) * s2) / (n1 + n2 - 2))\n",
    "    # calculate the means of the samples\n",
    "    u1, u2 = mean(d1), mean(d2)\n",
    "    # calculate the effect size\n",
    "    return (u1 - u2) / s\n",
    "\n",
    "dBDP = cohend(womenArr, menArr)\n",
    "print(\"After DP, for men and women: \", dBDP)"
   ],
   "metadata": {
    "collapsed": false
   }
  },
  {
   "cell_type": "markdown",
   "source": [
    "Try with the epsilon vs effect size in this experiment\n",
    "\n"
   ],
   "metadata": {
    "collapsed": false
   }
  },
  {
   "cell_type": "code",
   "execution_count": 331,
   "outputs": [],
   "source": [],
   "metadata": {
    "collapsed": false
   }
  },
  {
   "cell_type": "code",
   "execution_count": 335,
   "outputs": [
    {
     "name": "stdout",
     "output_type": "stream",
     "text": [
      "0.01\n",
      "59.90946604653403\n",
      "0.01\n",
      "60.41233210442334\n",
      "0.01\n",
      "52.727631519970316\n",
      "0.01\n",
      "62.05597085703854\n",
      "0.01\n",
      "63.18314266267667\n",
      "0.01\n",
      "64.09511098448361\n",
      "0.01\n",
      "60.190866024153614\n",
      "0.01\n",
      "69.79736359338658\n",
      "0.01\n",
      "60.50211826688501\n",
      "0.1\n",
      "61.33679652233184\n",
      "0.1\n",
      "60.786663923138434\n",
      "0.1\n",
      "59.977446986365564\n",
      "0.1\n",
      "60.75561511349547\n",
      "0.1\n",
      "60.66395813826746\n",
      "0.1\n",
      "60.92187310431068\n",
      "0.1\n",
      "61.19750714145604\n",
      "0.1\n",
      "60.86778682954836\n",
      "0.1\n",
      "61.180586643545\n",
      "0.2\n",
      "60.84509547416855\n",
      "0.2\n",
      "60.917853530067035\n",
      "0.2\n",
      "60.884638377543325\n",
      "0.2\n",
      "60.67062987759878\n",
      "0.2\n",
      "60.81081219964054\n",
      "0.2\n",
      "60.98882034425133\n",
      "0.2\n",
      "60.870146330098315\n",
      "0.2\n",
      "61.00223199795547\n",
      "0.2\n",
      "60.65244510197135\n",
      "0.3\n",
      "60.761839272611425\n",
      "0.3\n",
      "60.798264704399905\n",
      "0.3\n",
      "60.867791154875945\n",
      "0.3\n",
      "60.733716169474405\n",
      "0.3\n",
      "60.81627385780189\n",
      "0.3\n",
      "60.74260088253574\n",
      "0.3\n",
      "60.68775138799135\n",
      "0.3\n",
      "60.88283576002229\n",
      "0.3\n",
      "60.730615979585465\n",
      "0.4\n",
      "60.762087978945026\n",
      "0.4\n",
      "60.62737984688095\n",
      "0.4\n",
      "60.71646754662321\n",
      "0.4\n",
      "60.692076080851486\n",
      "0.4\n",
      "60.83471775245579\n",
      "0.4\n",
      "60.79438573283766\n",
      "0.4\n",
      "60.816466447521314\n",
      "0.4\n",
      "60.80134426065353\n",
      "0.4\n",
      "60.835273616661965\n",
      "0.5\n",
      "60.960780426774555\n",
      "0.5\n",
      "60.863808862083765\n",
      "0.5\n",
      "60.837879872995195\n",
      "0.5\n",
      "60.84460279088648\n",
      "0.5\n",
      "60.8240197098272\n",
      "0.5\n",
      "60.870972811627276\n",
      "0.5\n",
      "60.80704639068232\n",
      "0.5\n",
      "60.899817018024855\n",
      "0.5\n",
      "60.81255532162423\n",
      "0.6\n",
      "60.803416258535684\n",
      "0.6\n",
      "60.85860936997306\n",
      "0.6\n",
      "60.82599473293588\n",
      "0.6\n",
      "60.80553279573972\n",
      "0.6\n",
      "60.84330511655262\n",
      "0.6\n",
      "60.8054025265936\n",
      "0.6\n",
      "60.80695468864212\n",
      "0.6\n",
      "60.87833640396183\n",
      "0.6\n",
      "60.752050876405484\n",
      "0.7\n",
      "60.78960270661603\n",
      "0.7\n",
      "60.78527213006643\n",
      "0.7\n",
      "60.81035190933469\n",
      "0.7\n",
      "60.79170910792189\n",
      "0.7\n",
      "60.87135393081229\n",
      "0.7\n",
      "60.744766282713414\n",
      "0.7\n",
      "60.78340888396712\n",
      "0.7\n",
      "60.80948506938044\n",
      "0.7\n",
      "60.79861465181691\n",
      "0.8\n",
      "60.81986274747235\n",
      "0.8\n",
      "60.81667388514597\n",
      "0.8\n",
      "60.80681015186143\n",
      "0.8\n",
      "60.86100948194606\n",
      "0.8\n",
      "60.81408269657251\n",
      "0.8\n",
      "60.82240480641513\n",
      "0.8\n",
      "60.795702664424795\n",
      "0.8\n",
      "60.803679182255266\n",
      "0.8\n",
      "60.68475357480886\n",
      "0.9\n",
      "60.8009164131186\n",
      "0.9\n",
      "60.75147382288159\n",
      "0.9\n",
      "60.803431320340415\n",
      "0.9\n",
      "60.778542231421575\n",
      "0.9\n",
      "60.77198119071007\n",
      "0.9\n",
      "60.80621493929542\n",
      "0.9\n",
      "60.7699658464724\n",
      "0.9\n",
      "60.80577688606696\n",
      "0.9\n",
      "60.77511592261429\n",
      "3.8655246384073716\n",
      "3.8655246384073716\n",
      "[59.90946604653403, 60.41233210442334, 52.727631519970316, 62.05597085703854, 63.18314266267667, 64.09511098448361, 60.190866024153614, 69.79736359338658, 60.50211826688501, 61.33679652233184, 60.786663923138434, 59.977446986365564, 60.75561511349547, 60.66395813826746, 60.92187310431068, 61.19750714145604, 60.86778682954836, 61.180586643545, 60.84509547416855, 60.917853530067035, 60.884638377543325, 60.67062987759878, 60.81081219964054, 60.98882034425133, 60.870146330098315, 61.00223199795547, 60.65244510197135, 60.761839272611425, 60.798264704399905, 60.867791154875945, 60.733716169474405, 60.81627385780189, 60.74260088253574, 60.68775138799135, 60.88283576002229, 60.730615979585465, 60.762087978945026, 60.62737984688095, 60.71646754662321, 60.692076080851486, 60.83471775245579, 60.79438573283766, 60.816466447521314, 60.80134426065353, 60.835273616661965, 60.960780426774555, 60.863808862083765, 60.837879872995195, 60.84460279088648, 60.8240197098272, 60.870972811627276, 60.80704639068232, 60.899817018024855, 60.81255532162423, 60.803416258535684, 60.85860936997306, 60.82599473293588, 60.80553279573972, 60.84330511655262, 60.8054025265936, 60.80695468864212, 60.87833640396183, 60.752050876405484, 60.78960270661603, 60.78527213006643, 60.81035190933469, 60.79170910792189, 60.87135393081229, 60.744766282713414, 60.78340888396712, 60.80948506938044, 60.79861465181691, 60.81986274747235, 60.81667388514597, 60.80681015186143, 60.86100948194606, 60.81408269657251, 60.82240480641513, 60.795702664424795, 60.803679182255266, 60.68475357480886, 60.8009164131186, 60.75147382288159, 60.803431320340415, 60.778542231421575, 60.77198119071007, 60.80621493929542, 60.7699658464724, 60.80577688606696, 60.77511592261429] [59.90946604653403, 60.41233210442334, 52.727631519970316, 62.05597085703854, 63.18314266267667, 64.09511098448361, 60.190866024153614, 69.79736359338658, 60.50211826688501, 61.33679652233184, 60.786663923138434, 59.977446986365564, 60.75561511349547, 60.66395813826746, 60.92187310431068, 61.19750714145604, 60.86778682954836, 61.180586643545, 60.84509547416855, 60.917853530067035, 60.884638377543325, 60.67062987759878, 60.81081219964054, 60.98882034425133, 60.870146330098315, 61.00223199795547, 60.65244510197135, 60.761839272611425, 60.798264704399905, 60.867791154875945, 60.733716169474405, 60.81627385780189, 60.74260088253574, 60.68775138799135, 60.88283576002229, 60.730615979585465, 60.762087978945026, 60.62737984688095, 60.71646754662321, 60.692076080851486, 60.83471775245579, 60.79438573283766, 60.816466447521314, 60.80134426065353, 60.835273616661965, 60.960780426774555, 60.863808862083765, 60.837879872995195, 60.84460279088648, 60.8240197098272, 60.870972811627276, 60.80704639068232, 60.899817018024855, 60.81255532162423, 60.803416258535684, 60.85860936997306, 60.82599473293588, 60.80553279573972, 60.84330511655262, 60.8054025265936, 60.80695468864212, 60.87833640396183, 60.752050876405484, 60.78960270661603, 60.78527213006643, 60.81035190933469, 60.79170910792189, 60.87135393081229, 60.744766282713414, 60.78340888396712, 60.80948506938044, 60.79861465181691, 60.81986274747235, 60.81667388514597, 60.80681015186143, 60.86100948194606, 60.81408269657251, 60.82240480641513, 60.795702664424795, 60.803679182255266, 60.68475357480886, 60.8009164131186, 60.75147382288159, 60.803431320340415, 60.778542231421575, 60.77198119071007, 60.80621493929542, 60.7699658464724, 60.80577688606696, 60.77511592261429]\n"
     ]
    }
   ],
   "source": [
    "\n",
    "# Python program to illustrate\n",
    "# enumerate function\n",
    "import numpy.random as np\n",
    "import numpy as npp\n",
    "menArr = [[]]*10\n",
    "womenArr = [[]]*10\n",
    "epsilons = []\n",
    "cohends = []\n",
    "count = 0\n",
    "\n",
    "for  i in npp.arange(0.01, 1, 0.1):\n",
    "    if i>0.02 : i = round(i,1)\n",
    "    epsilons.append(i)\n",
    "\n",
    "    for y in npp.arange(0,9,1):\n",
    "        deltaWomen = maxFemaleAge / nOfWomen\n",
    "        print(i)\n",
    "        scaleWomen = deltaWomen / i\n",
    "        lapWomen = np.laplace(0, scaleWomen)\n",
    "\n",
    "        print(womenavg+lapWomen)\n",
    "        womenArr[count].append(womenavg+lapWomen)\n",
    "\n",
    "        delta = maxMaleage / nOfMen\n",
    "        scale = delta / i\n",
    "        lap = np.laplace(0, scale)\n",
    "        menArr[count].append(menavg+lap)\n",
    "\n",
    "    count = count + 1\n",
    "\n",
    "\n",
    "\n",
    "\n",
    "\n",
    "print(cohend(womenArr[0], menArr[0]))\n",
    "print(cohend(womenArr[1], menArr[1]))\n",
    "\n",
    "print(womenArr[0], womenArr[1])"
   ],
   "metadata": {
    "collapsed": false
   }
  },
  {
   "cell_type": "code",
   "execution_count": null,
   "outputs": [],
   "source": [],
   "metadata": {
    "collapsed": false
   }
  },
  {
   "cell_type": "code",
   "execution_count": null,
   "outputs": [],
   "source": [],
   "metadata": {
    "collapsed": false
   }
  }
 ],
 "metadata": {
  "kernelspec": {
   "display_name": "Python 3",
   "language": "python",
   "name": "python3"
  },
  "language_info": {
   "codemirror_mode": {
    "name": "ipython",
    "version": 2
   },
   "file_extension": ".py",
   "mimetype": "text/x-python",
   "name": "python",
   "nbconvert_exporter": "python",
   "pygments_lexer": "ipython2",
   "version": "2.7.6"
  }
 },
 "nbformat": 4,
 "nbformat_minor": 0
}
