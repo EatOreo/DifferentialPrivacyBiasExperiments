{
 "cells": [
  {
   "cell_type": "code",
   "execution_count": 336,
   "metadata": {
    "collapsed": true
   },
   "outputs": [
    {
     "data": {
      "text/plain": "      age gender                               patient\n0      40      F  0220e8b3-e108-768c-dfcf-22ad951ae7ac\n1      40      M  034f2cbf-41f7-53b5-9cbb-9c69f3c3ae1e\n2      40      F  03b204cd-c4e6-30a0-57f2-7f7e182da896\n3      40      M  04b64150-7905-97c4-6ce7-12134e09b24c\n4      40      M  04d185d2-0af9-a96a-a035-0b22861e0e51\n...   ...    ...                                   ...\n9231   80      F  e89dd75a-f0fc-3bdf-a062-ac047cf72e33\n9232   80      F  ea0c6652-cb7f-e564-0e17-ce251bd074c0\n9233   80      F  f0b72501-8806-4cbf-31e2-541c5913bc87\n9234   80      F  f99d16b5-ca1b-1fda-820c-096878b91d30\n9235   80      F  fa35e460-29b7-a919-e118-1414dbc859d7\n\n[9236 rows x 3 columns]",
      "text/html": "<div>\n<style scoped>\n    .dataframe tbody tr th:only-of-type {\n        vertical-align: middle;\n    }\n\n    .dataframe tbody tr th {\n        vertical-align: top;\n    }\n\n    .dataframe thead th {\n        text-align: right;\n    }\n</style>\n<table border=\"1\" class=\"dataframe\">\n  <thead>\n    <tr style=\"text-align: right;\">\n      <th></th>\n      <th>age</th>\n      <th>gender</th>\n      <th>patient</th>\n    </tr>\n  </thead>\n  <tbody>\n    <tr>\n      <th>0</th>\n      <td>40</td>\n      <td>F</td>\n      <td>0220e8b3-e108-768c-dfcf-22ad951ae7ac</td>\n    </tr>\n    <tr>\n      <th>1</th>\n      <td>40</td>\n      <td>M</td>\n      <td>034f2cbf-41f7-53b5-9cbb-9c69f3c3ae1e</td>\n    </tr>\n    <tr>\n      <th>2</th>\n      <td>40</td>\n      <td>F</td>\n      <td>03b204cd-c4e6-30a0-57f2-7f7e182da896</td>\n    </tr>\n    <tr>\n      <th>3</th>\n      <td>40</td>\n      <td>M</td>\n      <td>04b64150-7905-97c4-6ce7-12134e09b24c</td>\n    </tr>\n    <tr>\n      <th>4</th>\n      <td>40</td>\n      <td>M</td>\n      <td>04d185d2-0af9-a96a-a035-0b22861e0e51</td>\n    </tr>\n    <tr>\n      <th>...</th>\n      <td>...</td>\n      <td>...</td>\n      <td>...</td>\n    </tr>\n    <tr>\n      <th>9231</th>\n      <td>80</td>\n      <td>F</td>\n      <td>e89dd75a-f0fc-3bdf-a062-ac047cf72e33</td>\n    </tr>\n    <tr>\n      <th>9232</th>\n      <td>80</td>\n      <td>F</td>\n      <td>ea0c6652-cb7f-e564-0e17-ce251bd074c0</td>\n    </tr>\n    <tr>\n      <th>9233</th>\n      <td>80</td>\n      <td>F</td>\n      <td>f0b72501-8806-4cbf-31e2-541c5913bc87</td>\n    </tr>\n    <tr>\n      <th>9234</th>\n      <td>80</td>\n      <td>F</td>\n      <td>f99d16b5-ca1b-1fda-820c-096878b91d30</td>\n    </tr>\n    <tr>\n      <th>9235</th>\n      <td>80</td>\n      <td>F</td>\n      <td>fa35e460-29b7-a919-e118-1414dbc859d7</td>\n    </tr>\n  </tbody>\n</table>\n<p>9236 rows × 3 columns</p>\n</div>"
     },
     "execution_count": 336,
     "metadata": {},
     "output_type": "execute_result"
    }
   ],
   "source": [
    "import sqlite3\n",
    "\n",
    "import matplotlib.pyplot as plt\n",
    "import pandas as pd\n",
    "\n",
    "conn = sqlite3.connect(\"../data/conditions.db\")\n",
    "\n",
    "query = \"\"\"\n",
    "SELECT age, gender, patient\n",
    "FROM (\n",
    "    SELECT c.patient, p.gender, DATE(p.birthdate) as dob, min(DATE(c.start)) as start, (cast(strftime('%Y.%m%d', min(DATE(c.start))) - strftime('%Y.%m%d', DATE(p.birthdate)) as int) / 2) * 2 as age\n",
    "    FROM conditions c\n",
    "    JOIN patients p on c.patient = p.id\n",
    "    WHERE c.description = 'Ischemic heart disease (disorder)'\n",
    "    GROUP BY c.patient\n",
    "    ORDER BY age\n",
    " ) h\n",
    "WHERE age >= 20;\n",
    "\"\"\"\n",
    "\n",
    "\n",
    "df = pd.read_sql(query, conn)\n",
    "df"
   ]
  },
  {
   "cell_type": "code",
   "execution_count": 337,
   "outputs": [
    {
     "name": "stderr",
     "output_type": "stream",
     "text": [
      "C:\\Users\\krist\\AppData\\Local\\Temp\\ipykernel_20580\\3459853752.py:1: FutureWarning: Dropping of nuisance columns in DataFrame reductions (with 'numeric_only=None') is deprecated; in a future version this will raise TypeError.  Select only valid columns before calling the reduction.\n",
      "  womenMeanDf = df.where(df.gender == \"F\").dropna().mean()\n",
      "C:\\Users\\krist\\AppData\\Local\\Temp\\ipykernel_20580\\3459853752.py:2: FutureWarning: Dropping of nuisance columns in DataFrame reductions (with 'numeric_only=None') is deprecated; in a future version this will raise TypeError.  Select only valid columns before calling the reduction.\n",
      "  menMeanDf = df.where(df.gender == \"M\").dropna().mean()\n"
     ]
    }
   ],
   "source": [
    "womenMeanDf = df.where(df.gender == \"F\").dropna().mean()\n",
    "menMeanDf = df.where(df.gender == \"M\").dropna().mean()"
   ],
   "metadata": {
    "collapsed": false
   }
  },
  {
   "cell_type": "markdown",
   "source": [
    "MALES Below\n"
   ],
   "metadata": {
    "collapsed": false
   }
  },
  {
   "cell_type": "code",
   "execution_count": 338,
   "outputs": [
    {
     "name": "stdout",
     "output_type": "stream",
     "text": [
      "5792\n"
     ]
    }
   ],
   "source": [
    "import numpy.random as np\n",
    "howManyMenQuery = \"\"\"\n",
    "SELECT COUNT(*) as count\n",
    "FROM (\n",
    "    SELECT c.patient, p.gender, DATE(p.birthdate) as dob, min(DATE(c.start)) as start, (cast(strftime('%Y.%m%d', min(DATE(c.start))) - strftime('%Y.%m%d', DATE(p.birthdate)) as int) / 2) * 2 as age\n",
    "    FROM conditions c\n",
    "    JOIN patients p on c.patient = p.id\n",
    "    WHERE c.description = 'Ischemic heart disease (disorder)'\n",
    "    GROUP BY c.patient\n",
    "    ORDER BY age\n",
    " ) h\n",
    "WHERE age >= 20 and gender = 'M'\n",
    "ORDER by gender\n",
    ";\n",
    "\"\"\"\n",
    "\n",
    "maxMaleQuery = \"\"\"\n",
    "SELECT MAX(age)\n",
    "FROM (\n",
    "    SELECT c.patient, p.gender, DATE(p.birthdate) as dob, min(DATE(c.start)) as start, (cast(strftime('%Y.%m%d', min(DATE(c.start))) - strftime('%Y.%m%d', DATE(p.birthdate)) as int) / 2) * 2 as age\n",
    "    FROM conditions c\n",
    "    JOIN patients p on c.patient = p.id\n",
    "    WHERE c.description = 'Ischemic heart disease (disorder)'\n",
    "    GROUP BY c.patient\n",
    "    ORDER BY age\n",
    " ) h\n",
    "WHERE age >= 20 and gender = 'M'\n",
    "ORDER by gender\n",
    ";\n",
    "\"\"\"\n",
    "\n",
    "\n",
    "howManyMenDF = pd.read_sql(howManyMenQuery, conn)\n",
    "maxMaleDF = pd.read_sql(maxMaleQuery, conn)\n",
    "nOfMen = int(howManyMenDF.to_string(index=False, header=False))\n",
    "maxMaleage = int(maxMaleDF.to_string(index=False, header=False))\n",
    "\n",
    "\n",
    "print(nOfMen)\n",
    "menavg = menMeanDf[\"age\"].astype(float)"
   ],
   "metadata": {
    "collapsed": false
   }
  },
  {
   "cell_type": "markdown",
   "source": [
    "FEMALES below"
   ],
   "metadata": {
    "collapsed": false
   }
  },
  {
   "cell_type": "code",
   "execution_count": 339,
   "outputs": [
    {
     "name": "stdout",
     "output_type": "stream",
     "text": [
      "3444\n"
     ]
    }
   ],
   "source": [
    "maxFemaleQuery = \"\"\"\n",
    "SELECT MAX(age)\n",
    "FROM (\n",
    "    SELECT c.patient, p.gender, DATE(p.birthdate) as dob, min(DATE(c.start)) as start, (cast(strftime('%Y.%m%d', min(DATE(c.start))) - strftime('%Y.%m%d', DATE(p.birthdate)) as int) / 2) * 2 as age\n",
    "    FROM conditions c\n",
    "    JOIN patients p on c.patient = p.id\n",
    "    WHERE c.description = 'Ischemic heart disease (disorder)'\n",
    "    GROUP BY c.patient\n",
    "    ORDER BY age\n",
    " ) h\n",
    "WHERE age >= 20 and gender = 'F'\n",
    "ORDER by gender\n",
    ";\n",
    "\"\"\"\n",
    "\n",
    "howManyWomenQuery = \"\"\"\n",
    "SELECT count(*) as count\n",
    "FROM (\n",
    "    SELECT c.patient, p.gender, DATE(p.birthdate) as dob, min(DATE(c.start)) as start, (cast(strftime('%Y.%m%d', min(DATE(c.start))) - strftime('%Y.%m%d', DATE(p.birthdate)) as int) / 2) * 2 as age\n",
    "    FROM conditions c\n",
    "    JOIN patients p on c.patient = p.id\n",
    "    WHERE c.description = 'Ischemic heart disease (disorder)'\n",
    "    GROUP BY c.patient\n",
    "    ORDER BY age\n",
    " ) h\n",
    "WHERE age >= 20 and gender = 'F'\n",
    "ORDER by gender\n",
    ";\n",
    "\"\"\"\n",
    "\n",
    "\n",
    "howManyWomenDF = pd.read_sql(howManyWomenQuery, conn)\n",
    "nOfWomen = int(howManyWomenDF.to_string(index=False, header=False))\n",
    "maxFemaleDF = pd.read_sql(maxFemaleQuery, conn)\n",
    "maxFemaleAge = int(maxMaleDF.to_string(index=False, header=False))\n",
    "\n",
    "print(nOfWomen)\n",
    "womenavg = womenMeanDf[\"age\"].astype(float)\n"
   ],
   "metadata": {
    "collapsed": false
   }
  },
  {
   "cell_type": "markdown",
   "source": [],
   "metadata": {
    "collapsed": false
   }
  },
  {
   "cell_type": "markdown",
   "source": [
    "Make a distribution for both men and women"
   ],
   "metadata": {
    "collapsed": false
   }
  },
  {
   "cell_type": "code",
   "execution_count": 340,
   "outputs": [
    {
     "name": "stdout",
     "output_type": "stream",
     "text": [
      "3.9213396987955704\n",
      "58.84188531901104\n"
     ]
    },
    {
     "data": {
      "text/plain": "<Figure size 640x480 with 1 Axes>",
      "image/png": "[encoded data removed]"
     },
     "metadata": {},
     "output_type": "display_data"
    }
   ],
   "source": [
    "import numpy.random as np\n",
    "import numpy as npp\n",
    "menArr = []\n",
    "womenArr = []\n",
    "\n",
    "for i in range(100):\n",
    "\n",
    "    deltaWomen = maxFemaleAge / nOfWomen\n",
    "    scaleWomen = deltaWomen / 0.1\n",
    "    lapWomen = np.laplace(0, scaleWomen)\n",
    "\n",
    "    womenArr.append(womenavg+lapWomen)\n",
    "\n",
    "    delta = maxMaleage / nOfMen\n",
    "    scale = delta / 0.1\n",
    "    lap = np.laplace(0, scale)\n",
    "\n",
    "    menArr.append(menavg+lap)\n",
    "\n",
    "\n",
    "\n",
    "plt.hist(menArr, color=\"deepskyblue\", alpha=0.7)\n",
    "plt.axvline(x=womenavg, color=\"g\")\n",
    "plt.axvline(x=menavg, color =\"g\")\n",
    "\n",
    "x= [menavg, womenavg]\n",
    "y=[35, 35]\n",
    "\n",
    "plt.plot(x, y, linestyle=\"--\", color=\"r\")\n",
    "\n",
    "difference = womenavg-menavg\n",
    "print(difference)\n",
    "swag = (womenavg+menavg) / 2\n",
    "print(swag)\n",
    "plt.text(swag-2, 33, \"Mean difference = \" + str(difference))\n",
    "\n",
    "\n",
    "\n",
    "plt.hist(womenArr, color=\"orangered\", alpha=0.7)\n",
    "plt.show()\n"
   ],
   "metadata": {
    "collapsed": false
   }
  },
  {
   "cell_type": "markdown",
   "source": [
    "With DP"
   ],
   "metadata": {
    "collapsed": false
   }
  },
  {
   "cell_type": "code",
   "execution_count": 341,
   "outputs": [
    {
     "name": "stdout",
     "output_type": "stream",
     "text": [
      "After DP, for men and women:  16.012063017787636\n"
     ]
    }
   ],
   "source": [
    "# calculate the Cohen's d between two samples\n",
    "from numpy import mean\n",
    "from numpy import var\n",
    "from math import sqrt\n",
    "\n",
    "# function to calculate Cohen's d for independent samples\n",
    "def cohend(d1, d2):\n",
    "    # calculate the size of samples\n",
    "    n1, n2 = len(d1), len(d2)\n",
    "    # calculate the variance of the samples\n",
    "    s1, s2 = var(d1, ddof=1), var(d2, ddof=1)\n",
    "    # calculate the pooled standard deviation\n",
    "    s = sqrt(((n1 - 1) * s1 + (n2 - 1) * s2) / (n1 + n2 - 2))\n",
    "    # calculate the means of the samples\n",
    "    u1, u2 = mean(d1), mean(d2)\n",
    "    # calculate the effect size\n",
    "    return (u1 - u2) / s\n",
    "\n",
    "dBDP = cohend(womenArr, menArr)\n",
    "print(\"After DP, for men and women: \", dBDP)\n"
   ],
   "metadata": {
    "collapsed": false
   }
  },
  {
   "cell_type": "markdown",
   "source": [
    "Try with the epsilon vs effect size in this experiment\n",
    "\n"
   ],
   "metadata": {
    "collapsed": false
   }
  },
  {
   "cell_type": "code",
   "execution_count": 342,
   "outputs": [
    {
     "name": "stdout",
     "output_type": "stream",
     "text": [
      "0.5 0.7 0.8999999999999999 1.0999999999999999 1.2999999999999998 "
     ]
    },
    {
     "data": {
      "text/plain": "      age gender                               patient\n0      40      F  0220e8b3-e108-768c-dfcf-22ad951ae7ac\n1      40      M  034f2cbf-41f7-53b5-9cbb-9c69f3c3ae1e\n2      40      F  03b204cd-c4e6-30a0-57f2-7f7e182da896\n3      40      M  04b64150-7905-97c4-6ce7-12134e09b24c\n4      40      M  04d185d2-0af9-a96a-a035-0b22861e0e51\n...   ...    ...                                   ...\n9231   80      F  e89dd75a-f0fc-3bdf-a062-ac047cf72e33\n9232   80      F  ea0c6652-cb7f-e564-0e17-ce251bd074c0\n9233   80      F  f0b72501-8806-4cbf-31e2-541c5913bc87\n9234   80      F  f99d16b5-ca1b-1fda-820c-096878b91d30\n9235   80      F  fa35e460-29b7-a919-e118-1414dbc859d7\n\n[9236 rows x 3 columns]",
      "text/html": "<div>\n<style scoped>\n    .dataframe tbody tr th:only-of-type {\n        vertical-align: middle;\n    }\n\n    .dataframe tbody tr th {\n        vertical-align: top;\n    }\n\n    .dataframe thead th {\n        text-align: right;\n    }\n</style>\n<table border=\"1\" class=\"dataframe\">\n  <thead>\n    <tr style=\"text-align: right;\">\n      <th></th>\n      <th>age</th>\n      <th>gender</th>\n      <th>patient</th>\n    </tr>\n  </thead>\n  <tbody>\n    <tr>\n      <th>0</th>\n      <td>40</td>\n      <td>F</td>\n      <td>0220e8b3-e108-768c-dfcf-22ad951ae7ac</td>\n    </tr>\n    <tr>\n      <th>1</th>\n      <td>40</td>\n      <td>M</td>\n      <td>034f2cbf-41f7-53b5-9cbb-9c69f3c3ae1e</td>\n    </tr>\n    <tr>\n      <th>2</th>\n      <td>40</td>\n      <td>F</td>\n      <td>03b204cd-c4e6-30a0-57f2-7f7e182da896</td>\n    </tr>\n    <tr>\n      <th>3</th>\n      <td>40</td>\n      <td>M</td>\n      <td>04b64150-7905-97c4-6ce7-12134e09b24c</td>\n    </tr>\n    <tr>\n      <th>4</th>\n      <td>40</td>\n      <td>M</td>\n      <td>04d185d2-0af9-a96a-a035-0b22861e0e51</td>\n    </tr>\n    <tr>\n      <th>...</th>\n      <td>...</td>\n      <td>...</td>\n      <td>...</td>\n    </tr>\n    <tr>\n      <th>9231</th>\n      <td>80</td>\n      <td>F</td>\n      <td>e89dd75a-f0fc-3bdf-a062-ac047cf72e33</td>\n    </tr>\n    <tr>\n      <th>9232</th>\n      <td>80</td>\n      <td>F</td>\n      <td>ea0c6652-cb7f-e564-0e17-ce251bd074c0</td>\n    </tr>\n    <tr>\n      <th>9233</th>\n      <td>80</td>\n      <td>F</td>\n      <td>f0b72501-8806-4cbf-31e2-541c5913bc87</td>\n    </tr>\n    <tr>\n      <th>9234</th>\n      <td>80</td>\n      <td>F</td>\n      <td>f99d16b5-ca1b-1fda-820c-096878b91d30</td>\n    </tr>\n    <tr>\n      <th>9235</th>\n      <td>80</td>\n      <td>F</td>\n      <td>fa35e460-29b7-a919-e118-1414dbc859d7</td>\n    </tr>\n  </tbody>\n</table>\n<p>9236 rows × 3 columns</p>\n</div>"
     },
     "execution_count": 342,
     "metadata": {},
     "output_type": "execute_result"
    }
   ],
   "source": [
    "\n",
    "# Python program to illustrate\n",
    "# enumerate function\n",
    "import numpy as np\n",
    "\n",
    "for  i in np.arange(0.5, 1.5, 0.2):\n",
    "    print(i, end =\" \")#%%\n",
    "import sqlite3\n",
    "\n",
    "import matplotlib.pyplot as plt\n",
    "import pandas as pd\n",
    "\n",
    "conn = sqlite3.connect(\"../data/conditions.db\")\n",
    "\n",
    "query = \"\"\"\n",
    "SELECT age, gender, patient\n",
    "FROM (\n",
    "    SELECT c.patient, p.gender, DATE(p.birthdate) as dob, min(DATE(c.start)) as start, (cast(strftime('%Y.%m%d', min(DATE(c.start))) - strftime('%Y.%m%d', DATE(p.birthdate)) as int) / 2) * 2 as age\n",
    "    FROM conditions c\n",
    "    JOIN patients p on c.patient = p.id\n",
    "    WHERE c.description = 'Ischemic heart disease (disorder)'\n",
    "    GROUP BY c.patient\n",
    "    ORDER BY age\n",
    " ) h\n",
    "WHERE age >= 20;\n",
    "\"\"\"\n",
    "\n",
    "\n",
    "df = pd.read_sql(query, conn)\n",
    "df"
   ],
   "metadata": {
    "collapsed": false
   }
  },
  {
   "cell_type": "code",
   "execution_count": 343,
   "outputs": [
    {
     "name": "stderr",
     "output_type": "stream",
     "text": [
      "C:\\Users\\krist\\AppData\\Local\\Temp\\ipykernel_20580\\3459853752.py:1: FutureWarning: Dropping of nuisance columns in DataFrame reductions (with 'numeric_only=None') is deprecated; in a future version this will raise TypeError.  Select only valid columns before calling the reduction.\n",
      "  womenMeanDf = df.where(df.gender == \"F\").dropna().mean()\n",
      "C:\\Users\\krist\\AppData\\Local\\Temp\\ipykernel_20580\\3459853752.py:2: FutureWarning: Dropping of nuisance columns in DataFrame reductions (with 'numeric_only=None') is deprecated; in a future version this will raise TypeError.  Select only valid columns before calling the reduction.\n",
      "  menMeanDf = df.where(df.gender == \"M\").dropna().mean()\n"
     ]
    }
   ],
   "source": [
    "womenMeanDf = df.where(df.gender == \"F\").dropna().mean()\n",
    "menMeanDf = df.where(df.gender == \"M\").dropna().mean()"
   ],
   "metadata": {
    "collapsed": false
   }
  },
  {
   "cell_type": "markdown",
   "source": [
    "MALES Below\n"
   ],
   "metadata": {
    "collapsed": false
   }
  },
  {
   "cell_type": "code",
   "execution_count": 344,
   "outputs": [
    {
     "name": "stdout",
     "output_type": "stream",
     "text": [
      "5792\n"
     ]
    }
   ],
   "source": [
    "import numpy.random as np\n",
    "howManyMenQuery = \"\"\"\n",
    "SELECT COUNT(*) as count\n",
    "FROM (\n",
    "    SELECT c.patient, p.gender, DATE(p.birthdate) as dob, min(DATE(c.start)) as start, (cast(strftime('%Y.%m%d', min(DATE(c.start))) - strftime('%Y.%m%d', DATE(p.birthdate)) as int) / 2) * 2 as age\n",
    "    FROM conditions c\n",
    "    JOIN patients p on c.patient = p.id\n",
    "    WHERE c.description = 'Ischemic heart disease (disorder)'\n",
    "    GROUP BY c.patient\n",
    "    ORDER BY age\n",
    " ) h\n",
    "WHERE age >= 20 and gender = 'M'\n",
    "ORDER by gender\n",
    ";\n",
    "\"\"\"\n",
    "\n",
    "maxMaleQuery = \"\"\"\n",
    "SELECT MAX(age)\n",
    "FROM (\n",
    "    SELECT c.patient, p.gender, DATE(p.birthdate) as dob, min(DATE(c.start)) as start, (cast(strftime('%Y.%m%d', min(DATE(c.start))) - strftime('%Y.%m%d', DATE(p.birthdate)) as int) / 2) * 2 as age\n",
    "    FROM conditions c\n",
    "    JOIN patients p on c.patient = p.id\n",
    "    WHERE c.description = 'Ischemic heart disease (disorder)'\n",
    "    GROUP BY c.patient\n",
    "    ORDER BY age\n",
    " ) h\n",
    "WHERE age >= 20 and gender = 'M'\n",
    "ORDER by gender\n",
    ";\n",
    "\"\"\"\n",
    "\n",
    "\n",
    "howManyMenDF = pd.read_sql(howManyMenQuery, conn)\n",
    "maxMaleDF = pd.read_sql(maxMaleQuery, conn)\n",
    "nOfMen = int(howManyMenDF.to_string(index=False, header=False))\n",
    "maxMaleage = int(maxMaleDF.to_string(index=False, header=False))\n",
    "\n",
    "\n",
    "print(nOfMen)\n",
    "menavg = menMeanDf[\"age\"].astype(float)"
   ],
   "metadata": {
    "collapsed": false
   }
  },
  {
   "cell_type": "markdown",
   "source": [
    "FEMALES below"
   ],
   "metadata": {
    "collapsed": false
   }
  },
  {
   "cell_type": "code",
   "execution_count": 345,
   "outputs": [
    {
     "name": "stdout",
     "output_type": "stream",
     "text": [
      "3444\n"
     ]
    }
   ],
   "source": [
    "maxFemaleQuery = \"\"\"\n",
    "SELECT MAX(age)\n",
    "FROM (\n",
    "    SELECT c.patient, p.gender, DATE(p.birthdate) as dob, min(DATE(c.start)) as start, (cast(strftime('%Y.%m%d', min(DATE(c.start))) - strftime('%Y.%m%d', DATE(p.birthdate)) as int) / 2) * 2 as age\n",
    "    FROM conditions c\n",
    "    JOIN patients p on c.patient = p.id\n",
    "    WHERE c.description = 'Ischemic heart disease (disorder)'\n",
    "    GROUP BY c.patient\n",
    "    ORDER BY age\n",
    " ) h\n",
    "WHERE age >= 20 and gender = 'F'\n",
    "ORDER by gender\n",
    ";\n",
    "\"\"\"\n",
    "\n",
    "howManyWomenQuery = \"\"\"\n",
    "SELECT count(*) as count\n",
    "FROM (\n",
    "    SELECT c.patient, p.gender, DATE(p.birthdate) as dob, min(DATE(c.start)) as start, (cast(strftime('%Y.%m%d', min(DATE(c.start))) - strftime('%Y.%m%d', DATE(p.birthdate)) as int) / 2) * 2 as age\n",
    "    FROM conditions c\n",
    "    JOIN patients p on c.patient = p.id\n",
    "    WHERE c.description = 'Ischemic heart disease (disorder)'\n",
    "    GROUP BY c.patient\n",
    "    ORDER BY age\n",
    " ) h\n",
    "WHERE age >= 20 and gender = 'F'\n",
    "ORDER by gender\n",
    ";\n",
    "\"\"\"\n",
    "\n",
    "\n",
    "howManyWomenDF = pd.read_sql(howManyWomenQuery, conn)\n",
    "nOfWomen = int(howManyWomenDF.to_string(index=False, header=False))\n",
    "maxFemaleDF = pd.read_sql(maxFemaleQuery, conn)\n",
    "maxFemaleAge = int(maxMaleDF.to_string(index=False, header=False))\n",
    "\n",
    "print(nOfWomen)\n",
    "womenavg = womenMeanDf[\"age\"].astype(float)\n"
   ],
   "metadata": {
    "collapsed": false
   }
  },
  {
   "cell_type": "markdown",
   "source": [],
   "metadata": {
    "collapsed": false
   }
  },
  {
   "cell_type": "markdown",
   "source": [
    "Make a distribution for both men and women"
   ],
   "metadata": {
    "collapsed": false
   }
  },
  {
   "cell_type": "code",
   "execution_count": 346,
   "outputs": [
    {
     "name": "stdout",
     "output_type": "stream",
     "text": [
      "3.9213396987955704\n",
      "58.84188531901104\n"
     ]
    },
    {
     "data": {
      "text/plain": "<Figure size 640x480 with 1 Axes>",
      "image/png": "[encoded data removed]"
     },
     "metadata": {},
     "output_type": "display_data"
    }
   ],
   "source": [
    "import numpy.random as np\n",
    "import numpy as npp\n",
    "menArr = []\n",
    "womenArr = []\n",
    "\n",
    "for i in range(100):\n",
    "\n",
    "    deltaWomen = maxFemaleAge / nOfWomen\n",
    "    scaleWomen = deltaWomen / 0.1\n",
    "    lapWomen = np.laplace(0, scaleWomen)\n",
    "\n",
    "    womenArr.append(womenavg+lapWomen)\n",
    "\n",
    "    delta = maxMaleage / nOfMen\n",
    "    scale = delta / 0.1\n",
    "    lap = np.laplace(0, scale)\n",
    "\n",
    "    menArr.append(menavg+lap)\n",
    "\n",
    "\n",
    "\n",
    "plt.hist(menArr, color=\"deepskyblue\", alpha=0.7)\n",
    "plt.axvline(x=womenavg, color=\"g\")\n",
    "plt.axvline(x=menavg, color =\"g\")\n",
    "\n",
    "x= [menavg, womenavg]\n",
    "y=[35, 35]\n",
    "\n",
    "plt.plot(x, y, linestyle=\"--\", color=\"r\")\n",
    "\n",
    "difference = womenavg-menavg\n",
    "print(difference)\n",
    "swag = (womenavg+menavg) / 2\n",
    "print(swag)\n",
    "plt.text(swag-2, 33, \"Mean difference = \" + str(difference))\n",
    "\n",
    "\n",
    "\n",
    "plt.hist(womenArr, color=\"orangered\", alpha=0.7)\n",
    "plt.show()\n"
   ],
   "metadata": {
    "collapsed": false
   }
  },
  {
   "cell_type": "markdown",
   "source": [
    "With DP"
   ],
   "metadata": {
    "collapsed": false
   }
  },
  {
   "cell_type": "code",
   "execution_count": 347,
   "outputs": [
    {
     "name": "stdout",
     "output_type": "stream",
     "text": [
      "After DP, for men and women:  14.734667553725266\n"
     ]
    }
   ],
   "source": [
    "# calculate the Cohen's d between two samples\n",
    "from numpy import mean\n",
    "from numpy import var\n",
    "from math import sqrt\n",
    "\n",
    "# function to calculate Cohen's d for independent samples\n",
    "def cohend(d1, d2):\n",
    "    # calculate the size of samples\n",
    "    n1, n2 = len(d1), len(d2)\n",
    "    # calculate the variance of the samples\n",
    "    s1, s2 = var(d1, ddof=1), var(d2, ddof=1)\n",
    "    # calculate the pooled standard deviation\n",
    "    s = sqrt(((n1 - 1) * s1 + (n2 - 1) * s2) / (n1 + n2 - 2))\n",
    "    # calculate the means of the samples\n",
    "    u1, u2 = mean(d1), mean(d2)\n",
    "    # calculate the effect size\n",
    "    return (u1 - u2) / s\n",
    "\n",
    "dBDP = cohend(womenArr, menArr)\n",
    "print(\"After DP, for men and women: \", dBDP)"
   ],
   "metadata": {
    "collapsed": false
   }
  },
  {
   "cell_type": "markdown",
   "source": [
    "Try with the epsilon vs effect size in this experiment\n",
    "\n"
   ],
   "metadata": {
    "collapsed": false
   }
  },
  {
   "cell_type": "code",
   "execution_count": 347,
   "outputs": [],
   "source": [],
   "metadata": {
    "collapsed": false
   }
  },
  {
   "cell_type": "code",
   "execution_count": 364,
   "outputs": [
    {
     "name": "stdout",
     "output_type": "stream",
     "text": [
      "0.01\n",
      "[]\n",
      "0.01\n",
      "[57.22284599117458]\n",
      "0.01\n",
      "[57.22284599117458, 59.6653441551661]\n",
      "0.01\n",
      "[57.22284599117458, 59.6653441551661, 55.428925800686066]\n",
      "0.01\n",
      "[57.22284599117458, 59.6653441551661, 55.428925800686066, 61.075114328521856]\n",
      "0.01\n",
      "[57.22284599117458, 59.6653441551661, 55.428925800686066, 61.075114328521856, 62.52824546344634]\n",
      "0.01\n",
      "[57.22284599117458, 59.6653441551661, 55.428925800686066, 61.075114328521856, 62.52824546344634, 59.113988467137034]\n",
      "0.01\n",
      "[57.22284599117458, 59.6653441551661, 55.428925800686066, 61.075114328521856, 62.52824546344634, 59.113988467137034, 60.60002581933993]\n",
      "0.01\n",
      "[57.22284599117458, 59.6653441551661, 55.428925800686066, 61.075114328521856, 62.52824546344634, 59.113988467137034, 60.60002581933993, 61.213658866211254]\n",
      "0\n",
      "0.1\n",
      "[]\n",
      "0.1\n",
      "[60.73099511511622]\n",
      "0.1\n",
      "[60.73099511511622, 60.660715732358604]\n",
      "0.1\n",
      "[60.73099511511622, 60.660715732358604, 61.2672085496633]\n",
      "0.1\n",
      "[60.73099511511622, 60.660715732358604, 61.2672085496633, 60.61208862999635]\n",
      "0.1\n",
      "[60.73099511511622, 60.660715732358604, 61.2672085496633, 60.61208862999635, 60.392969723303814]\n",
      "0.1\n",
      "[60.73099511511622, 60.660715732358604, 61.2672085496633, 60.61208862999635, 60.392969723303814, 60.998686739812086]\n",
      "0.1\n",
      "[60.73099511511622, 60.660715732358604, 61.2672085496633, 60.61208862999635, 60.392969723303814, 60.998686739812086, 61.00039827654622]\n",
      "0.1\n",
      "[60.73099511511622, 60.660715732358604, 61.2672085496633, 60.61208862999635, 60.392969723303814, 60.998686739812086, 61.00039827654622, 59.80147234819243]\n",
      "1\n",
      "0.2\n",
      "[]\n",
      "0.2\n",
      "[60.81475875673926]\n",
      "0.2\n",
      "[60.81475875673926, 60.58841804442048]\n",
      "0.2\n",
      "[60.81475875673926, 60.58841804442048, 60.749014303621856]\n",
      "0.2\n",
      "[60.81475875673926, 60.58841804442048, 60.749014303621856, 60.88621170965562]\n",
      "0.2\n",
      "[60.81475875673926, 60.58841804442048, 60.749014303621856, 60.88621170965562, 60.910247423859225]\n",
      "0.2\n",
      "[60.81475875673926, 60.58841804442048, 60.749014303621856, 60.88621170965562, 60.910247423859225, 60.403895817893314]\n",
      "0.2\n",
      "[60.81475875673926, 60.58841804442048, 60.749014303621856, 60.88621170965562, 60.910247423859225, 60.403895817893314, 60.70844174023179]\n",
      "0.2\n",
      "[60.81475875673926, 60.58841804442048, 60.749014303621856, 60.88621170965562, 60.910247423859225, 60.403895817893314, 60.70844174023179, 60.810730108103456]\n",
      "2\n",
      "0.3\n",
      "[]\n",
      "0.3\n",
      "[60.79280603078615]\n",
      "0.3\n",
      "[60.79280603078615, 60.746036963017076]\n",
      "0.3\n",
      "[60.79280603078615, 60.746036963017076, 61.100121526354954]\n",
      "0.3\n",
      "[60.79280603078615, 60.746036963017076, 61.100121526354954, 60.76025426747018]\n",
      "0.3\n",
      "[60.79280603078615, 60.746036963017076, 61.100121526354954, 60.76025426747018, 60.743339794751925]\n",
      "0.3\n",
      "[60.79280603078615, 60.746036963017076, 61.100121526354954, 60.76025426747018, 60.743339794751925, 60.7441951327414]\n",
      "0.3\n",
      "[60.79280603078615, 60.746036963017076, 61.100121526354954, 60.76025426747018, 60.743339794751925, 60.7441951327414, 60.72850353041892]\n",
      "0.3\n",
      "[60.79280603078615, 60.746036963017076, 61.100121526354954, 60.76025426747018, 60.743339794751925, 60.7441951327414, 60.72850353041892, 60.62341812983251]\n",
      "3\n",
      "0.4\n",
      "[]\n",
      "0.4\n",
      "[60.86612313510767]\n",
      "0.4\n",
      "[60.86612313510767, 60.68657097774222]\n",
      "0.4\n",
      "[60.86612313510767, 60.68657097774222, 60.80439560413914]\n",
      "0.4\n",
      "[60.86612313510767, 60.68657097774222, 60.80439560413914, 60.85969055600738]\n",
      "0.4\n",
      "[60.86612313510767, 60.68657097774222, 60.80439560413914, 60.85969055600738, 60.78661994090859]\n",
      "0.4\n",
      "[60.86612313510767, 60.68657097774222, 60.80439560413914, 60.85969055600738, 60.78661994090859, 60.766581666951744]\n",
      "0.4\n",
      "[60.86612313510767, 60.68657097774222, 60.80439560413914, 60.85969055600738, 60.78661994090859, 60.766581666951744, 60.73447418335524]\n",
      "0.4\n",
      "[60.86612313510767, 60.68657097774222, 60.80439560413914, 60.85969055600738, 60.78661994090859, 60.766581666951744, 60.73447418335524, 60.7806743038326]\n",
      "4\n",
      "0.5\n",
      "[]\n",
      "0.5\n",
      "[60.85173202838145]\n",
      "0.5\n",
      "[60.85173202838145, 60.739220283333104]\n",
      "0.5\n",
      "[60.85173202838145, 60.739220283333104, 60.86294688285903]\n",
      "0.5\n",
      "[60.85173202838145, 60.739220283333104, 60.86294688285903, 60.80600854792888]\n",
      "0.5\n",
      "[60.85173202838145, 60.739220283333104, 60.86294688285903, 60.80600854792888, 60.784044904803565]\n",
      "0.5\n",
      "[60.85173202838145, 60.739220283333104, 60.86294688285903, 60.80600854792888, 60.784044904803565, 60.85401493807402]\n",
      "0.5\n",
      "[60.85173202838145, 60.739220283333104, 60.86294688285903, 60.80600854792888, 60.784044904803565, 60.85401493807402, 60.75799518572893]\n",
      "0.5\n",
      "[60.85173202838145, 60.739220283333104, 60.86294688285903, 60.80600854792888, 60.784044904803565, 60.85401493807402, 60.75799518572893, 60.797484335820656]\n",
      "5\n",
      "0.6\n",
      "[]\n",
      "0.6\n",
      "[60.808875960105695]\n",
      "0.6\n",
      "[60.808875960105695, 60.82387870136842]\n",
      "0.6\n",
      "[60.808875960105695, 60.82387870136842, 60.859680923926994]\n",
      "0.6\n",
      "[60.808875960105695, 60.82387870136842, 60.859680923926994, 60.82212700149175]\n",
      "0.6\n",
      "[60.808875960105695, 60.82387870136842, 60.859680923926994, 60.82212700149175, 60.81072355962071]\n",
      "0.6\n",
      "[60.808875960105695, 60.82387870136842, 60.859680923926994, 60.82212700149175, 60.81072355962071, 60.890412387764215]\n",
      "0.6\n",
      "[60.808875960105695, 60.82387870136842, 60.859680923926994, 60.82212700149175, 60.81072355962071, 60.890412387764215, 60.77076965877642]\n",
      "0.6\n",
      "[60.808875960105695, 60.82387870136842, 60.859680923926994, 60.82212700149175, 60.81072355962071, 60.890412387764215, 60.77076965877642, 60.74202350478098]\n",
      "6\n",
      "0.7\n",
      "[]\n",
      "0.7\n",
      "[60.872499507682406]\n",
      "0.7\n",
      "[60.872499507682406, 60.79376246614607]\n",
      "0.7\n",
      "[60.872499507682406, 60.79376246614607, 60.80126879672738]\n",
      "0.7\n",
      "[60.872499507682406, 60.79376246614607, 60.80126879672738, 60.76379087804871]\n",
      "0.7\n",
      "[60.872499507682406, 60.79376246614607, 60.80126879672738, 60.76379087804871, 60.805698245612874]\n",
      "0.7\n",
      "[60.872499507682406, 60.79376246614607, 60.80126879672738, 60.76379087804871, 60.805698245612874, 60.829912842174096]\n",
      "0.7\n",
      "[60.872499507682406, 60.79376246614607, 60.80126879672738, 60.76379087804871, 60.805698245612874, 60.829912842174096, 60.85763677895242]\n",
      "0.7\n",
      "[60.872499507682406, 60.79376246614607, 60.80126879672738, 60.76379087804871, 60.805698245612874, 60.829912842174096, 60.85763677895242, 60.78836884987027]\n",
      "7\n",
      "0.8\n",
      "[]\n",
      "0.8\n",
      "[60.806717960518455]\n",
      "0.8\n",
      "[60.806717960518455, 60.81748005235895]\n",
      "0.8\n",
      "[60.806717960518455, 60.81748005235895, 60.80957819912869]\n",
      "0.8\n",
      "[60.806717960518455, 60.81748005235895, 60.80957819912869, 60.71454889650413]\n",
      "0.8\n",
      "[60.806717960518455, 60.81748005235895, 60.80957819912869, 60.71454889650413, 60.61741890958645]\n",
      "0.8\n",
      "[60.806717960518455, 60.81748005235895, 60.80957819912869, 60.71454889650413, 60.61741890958645, 60.823385108863064]\n",
      "0.8\n",
      "[60.806717960518455, 60.81748005235895, 60.80957819912869, 60.71454889650413, 60.61741890958645, 60.823385108863064, 60.87913808008845]\n",
      "0.8\n",
      "[60.806717960518455, 60.81748005235895, 60.80957819912869, 60.71454889650413, 60.61741890958645, 60.823385108863064, 60.87913808008845, 60.79664118216791]\n",
      "8\n",
      "0.9\n",
      "[]\n",
      "0.9\n",
      "[60.767465129678044]\n",
      "0.9\n",
      "[60.767465129678044, 60.86346445337464]\n",
      "0.9\n",
      "[60.767465129678044, 60.86346445337464, 60.758406806798526]\n",
      "0.9\n",
      "[60.767465129678044, 60.86346445337464, 60.758406806798526, 60.850145394170234]\n",
      "0.9\n",
      "[60.767465129678044, 60.86346445337464, 60.758406806798526, 60.850145394170234, 60.794266428033566]\n",
      "0.9\n",
      "[60.767465129678044, 60.86346445337464, 60.758406806798526, 60.850145394170234, 60.794266428033566, 60.84371618191735]\n",
      "0.9\n",
      "[60.767465129678044, 60.86346445337464, 60.758406806798526, 60.850145394170234, 60.794266428033566, 60.84371618191735, 60.847303046538926]\n",
      "0.9\n",
      "[60.767465129678044, 60.86346445337464, 60.758406806798526, 60.850145394170234, 60.794266428033566, 60.84371618191735, 60.847303046538926, 60.78818513834426]\n",
      "9\n",
      "[[57.22284599117458, 59.6653441551661, 55.428925800686066, 61.075114328521856, 62.52824546344634, 59.113988467137034, 60.60002581933993, 61.213658866211254, 63.999580153824], [60.73099511511622, 60.660715732358604, 61.2672085496633, 60.61208862999635, 60.392969723303814, 60.998686739812086, 61.00039827654622, 59.80147234819243, 60.16592540314894], [60.81475875673926, 60.58841804442048, 60.749014303621856, 60.88621170965562, 60.910247423859225, 60.403895817893314, 60.70844174023179, 60.810730108103456, 60.802381928230716], [60.79280603078615, 60.746036963017076, 61.100121526354954, 60.76025426747018, 60.743339794751925, 60.7441951327414, 60.72850353041892, 60.62341812983251, 60.66191279175478], [60.86612313510767, 60.68657097774222, 60.80439560413914, 60.85969055600738, 60.78661994090859, 60.766581666951744, 60.73447418335524, 60.7806743038326, 60.778593069250306], [60.85173202838145, 60.739220283333104, 60.86294688285903, 60.80600854792888, 60.784044904803565, 60.85401493807402, 60.75799518572893, 60.797484335820656, 60.71396010521224], [60.808875960105695, 60.82387870136842, 60.859680923926994, 60.82212700149175, 60.81072355962071, 60.890412387764215, 60.77076965877642, 60.74202350478098, 60.812128134176675], [60.872499507682406, 60.79376246614607, 60.80126879672738, 60.76379087804871, 60.805698245612874, 60.829912842174096, 60.85763677895242, 60.78836884987027, 60.77068287525927], [60.806717960518455, 60.81748005235895, 60.80957819912869, 60.71454889650413, 60.61741890958645, 60.823385108863064, 60.87913808008845, 60.79664118216791, 60.77695889645161], [60.767465129678044, 60.86346445337464, 60.758406806798526, 60.850145394170234, 60.794266428033566, 60.84371618191735, 60.847303046538926, 60.78818513834426, 60.784335961164324]]\n"
     ]
    }
   ],
   "source": [
    "\n",
    "# Python program to illustrate\n",
    "# enumerate function\n",
    "import numpy.random as np\n",
    "import numpy as npp\n",
    "menArr = [[] for _ in range(10)]\n",
    "womenArr = [[] for _ in range(10)]\n",
    "epsilons = []\n",
    "cohends = []\n",
    "count = 0\n",
    "\n",
    "for  i in npp.arange(0.01, 1, 0.1):\n",
    "    if i>0.02 : i = round(i,1)\n",
    "    epsilons.append(i)\n",
    "\n",
    "    for y in npp.arange(0,9,1):\n",
    "        deltaWomen = maxFemaleAge / nOfWomen\n",
    "        print(i)\n",
    "        scaleWomen = deltaWomen / i\n",
    "        lapWomen = np.laplace(0, scaleWomen)\n",
    "\n",
    "        print(womenArr[count])\n",
    "        womenArr[count].append(womenavg+lapWomen)\n",
    "\n",
    "\n",
    "        delta = maxMaleage / nOfMen\n",
    "        scale = delta / i\n",
    "        lap = np.laplace(0, scale)\n",
    "        menArr[count].append(menavg+lap)\n",
    "    print(count)\n",
    "    count = count + 1\n",
    "\n",
    "\n",
    "print(womenArr)\n",
    "\n",
    "\n",
    "\n",
    "\n"
   ],
   "metadata": {
    "collapsed": false
   }
  },
  {
   "cell_type": "code",
   "execution_count": 348,
   "outputs": [],
   "source": [],
   "metadata": {
    "collapsed": false
   }
  },
  {
   "cell_type": "code",
   "execution_count": 348,
   "outputs": [],
   "source": [],
   "metadata": {
    "collapsed": false
   }
  }
 ],
 "metadata": {
  "kernelspec": {
   "display_name": "Python 3",
   "language": "python",
   "name": "python3"
  },
  "language_info": {
   "codemirror_mode": {
    "name": "ipython",
    "version": 2
   },
   "file_extension": ".py",
   "mimetype": "text/x-python",
   "name": "python",
   "nbconvert_exporter": "python",
   "pygments_lexer": "ipython2",
   "version": "2.7.6"
  }
 },
 "nbformat": 4,
 "nbformat_minor": 0
}
