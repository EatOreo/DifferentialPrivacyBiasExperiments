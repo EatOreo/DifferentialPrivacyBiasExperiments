{
 "cells": [
  {
   "cell_type": "code",
   "execution_count": 1,
   "metadata": {
    "collapsed": true
   },
   "outputs": [
    {
     "data": {
      "text/plain": "      age gender                               patient\n0      40      F  0220e8b3-e108-768c-dfcf-22ad951ae7ac\n1      40      M  034f2cbf-41f7-53b5-9cbb-9c69f3c3ae1e\n2      40      F  03b204cd-c4e6-30a0-57f2-7f7e182da896\n3      40      M  04b64150-7905-97c4-6ce7-12134e09b24c\n4      40      M  04d185d2-0af9-a96a-a035-0b22861e0e51\n...   ...    ...                                   ...\n9231   80      F  e89dd75a-f0fc-3bdf-a062-ac047cf72e33\n9232   80      F  ea0c6652-cb7f-e564-0e17-ce251bd074c0\n9233   80      F  f0b72501-8806-4cbf-31e2-541c5913bc87\n9234   80      F  f99d16b5-ca1b-1fda-820c-096878b91d30\n9235   80      F  fa35e460-29b7-a919-e118-1414dbc859d7\n\n[9236 rows x 3 columns]",
      "text/html": "<div>\n<style scoped>\n    .dataframe tbody tr th:only-of-type {\n        vertical-align: middle;\n    }\n\n    .dataframe tbody tr th {\n        vertical-align: top;\n    }\n\n    .dataframe thead th {\n        text-align: right;\n    }\n</style>\n<table border=\"1\" class=\"dataframe\">\n  <thead>\n    <tr style=\"text-align: right;\">\n      <th></th>\n      <th>age</th>\n      <th>gender</th>\n      <th>patient</th>\n    </tr>\n  </thead>\n  <tbody>\n    <tr>\n      <th>0</th>\n      <td>40</td>\n      <td>F</td>\n      <td>0220e8b3-e108-768c-dfcf-22ad951ae7ac</td>\n    </tr>\n    <tr>\n      <th>1</th>\n      <td>40</td>\n      <td>M</td>\n      <td>034f2cbf-41f7-53b5-9cbb-9c69f3c3ae1e</td>\n    </tr>\n    <tr>\n      <th>2</th>\n      <td>40</td>\n      <td>F</td>\n      <td>03b204cd-c4e6-30a0-57f2-7f7e182da896</td>\n    </tr>\n    <tr>\n      <th>3</th>\n      <td>40</td>\n      <td>M</td>\n      <td>04b64150-7905-97c4-6ce7-12134e09b24c</td>\n    </tr>\n    <tr>\n      <th>4</th>\n      <td>40</td>\n      <td>M</td>\n      <td>04d185d2-0af9-a96a-a035-0b22861e0e51</td>\n    </tr>\n    <tr>\n      <th>...</th>\n      <td>...</td>\n      <td>...</td>\n      <td>...</td>\n    </tr>\n    <tr>\n      <th>9231</th>\n      <td>80</td>\n      <td>F</td>\n      <td>e89dd75a-f0fc-3bdf-a062-ac047cf72e33</td>\n    </tr>\n    <tr>\n      <th>9232</th>\n      <td>80</td>\n      <td>F</td>\n      <td>ea0c6652-cb7f-e564-0e17-ce251bd074c0</td>\n    </tr>\n    <tr>\n      <th>9233</th>\n      <td>80</td>\n      <td>F</td>\n      <td>f0b72501-8806-4cbf-31e2-541c5913bc87</td>\n    </tr>\n    <tr>\n      <th>9234</th>\n      <td>80</td>\n      <td>F</td>\n      <td>f99d16b5-ca1b-1fda-820c-096878b91d30</td>\n    </tr>\n    <tr>\n      <th>9235</th>\n      <td>80</td>\n      <td>F</td>\n      <td>fa35e460-29b7-a919-e118-1414dbc859d7</td>\n    </tr>\n  </tbody>\n</table>\n<p>9236 rows × 3 columns</p>\n</div>"
     },
     "execution_count": 1,
     "metadata": {},
     "output_type": "execute_result"
    }
   ],
   "source": [
    "import sqlite3\n",
    "\n",
    "import matplotlib.pyplot as plt\n",
    "import pandas as pd\n",
    "\n",
    "conn = sqlite3.connect(\"../data/conditions.db\")\n",
    "\n",
    "query = \"\"\"\n",
    "SELECT age, gender, patient\n",
    "FROM (\n",
    "    SELECT c.patient, p.gender, DATE(p.birthdate) as dob, min(DATE(c.start)) as start, (cast(strftime('%Y.%m%d', min(DATE(c.start))) - strftime('%Y.%m%d', DATE(p.birthdate)) as int) / 2) * 2 as age\n",
    "    FROM conditions c\n",
    "    JOIN patients p on c.patient = p.id\n",
    "    WHERE c.description = 'Ischemic heart disease (disorder)'\n",
    "    GROUP BY c.patient\n",
    "    ORDER BY age\n",
    " ) h\n",
    "WHERE age >= 20;\n",
    "\"\"\"\n",
    "\n",
    "\n",
    "df = pd.read_sql(query, conn)\n",
    "df"
   ]
  },
  {
   "cell_type": "code",
   "execution_count": 2,
   "outputs": [
    {
     "name": "stderr",
     "output_type": "stream",
     "text": [
      "C:\\Users\\krist\\AppData\\Local\\Temp\\ipykernel_15244\\3459853752.py:1: FutureWarning: Dropping of nuisance columns in DataFrame reductions (with 'numeric_only=None') is deprecated; in a future version this will raise TypeError.  Select only valid columns before calling the reduction.\n",
      "  womenMeanDf = df.where(df.gender == \"F\").dropna().mean()\n",
      "C:\\Users\\krist\\AppData\\Local\\Temp\\ipykernel_15244\\3459853752.py:2: FutureWarning: Dropping of nuisance columns in DataFrame reductions (with 'numeric_only=None') is deprecated; in a future version this will raise TypeError.  Select only valid columns before calling the reduction.\n",
      "  menMeanDf = df.where(df.gender == \"M\").dropna().mean()\n"
     ]
    }
   ],
   "source": [
    "womenMeanDf = df.where(df.gender == \"F\").dropna().mean()\n",
    "menMeanDf = df.where(df.gender == \"M\").dropna().mean()"
   ],
   "metadata": {
    "collapsed": false
   }
  },
  {
   "cell_type": "markdown",
   "source": [
    "MALES Below\n"
   ],
   "metadata": {
    "collapsed": false
   }
  },
  {
   "cell_type": "code",
   "execution_count": 3,
   "outputs": [
    {
     "name": "stdout",
     "output_type": "stream",
     "text": [
      "5792\n"
     ]
    }
   ],
   "source": [
    "import numpy.random as np\n",
    "howManyMenQuery = \"\"\"\n",
    "SELECT COUNT(*) as count\n",
    "FROM (\n",
    "    SELECT c.patient, p.gender, DATE(p.birthdate) as dob, min(DATE(c.start)) as start, (cast(strftime('%Y.%m%d', min(DATE(c.start))) - strftime('%Y.%m%d', DATE(p.birthdate)) as int) / 2) * 2 as age\n",
    "    FROM conditions c\n",
    "    JOIN patients p on c.patient = p.id\n",
    "    WHERE c.description = 'Ischemic heart disease (disorder)'\n",
    "    GROUP BY c.patient\n",
    "    ORDER BY age\n",
    " ) h\n",
    "WHERE age >= 20 and gender = 'M'\n",
    "ORDER by gender\n",
    ";\n",
    "\"\"\"\n",
    "\n",
    "maxMaleQuery = \"\"\"\n",
    "SELECT MAX(age)\n",
    "FROM (\n",
    "    SELECT c.patient, p.gender, DATE(p.birthdate) as dob, min(DATE(c.start)) as start, (cast(strftime('%Y.%m%d', min(DATE(c.start))) - strftime('%Y.%m%d', DATE(p.birthdate)) as int) / 2) * 2 as age\n",
    "    FROM conditions c\n",
    "    JOIN patients p on c.patient = p.id\n",
    "    WHERE c.description = 'Ischemic heart disease (disorder)'\n",
    "    GROUP BY c.patient\n",
    "    ORDER BY age\n",
    " ) h\n",
    "WHERE age >= 20 and gender = 'M'\n",
    "ORDER by gender\n",
    ";\n",
    "\"\"\"\n",
    "\n",
    "\n",
    "howManyMenDF = pd.read_sql(howManyMenQuery, conn)\n",
    "maxMaleDF = pd.read_sql(maxMaleQuery, conn)\n",
    "nOfMen = int(howManyMenDF.to_string(index=False, header=False))\n",
    "maxMaleage = int(maxMaleDF.to_string(index=False, header=False))\n",
    "\n",
    "\n",
    "print(nOfMen)\n",
    "menavg = menMeanDf[\"age\"].astype(float)"
   ],
   "metadata": {
    "collapsed": false
   }
  },
  {
   "cell_type": "markdown",
   "source": [
    "FEMALES below"
   ],
   "metadata": {
    "collapsed": false
   }
  },
  {
   "cell_type": "code",
   "execution_count": 4,
   "outputs": [
    {
     "name": "stdout",
     "output_type": "stream",
     "text": [
      "3444\n"
     ]
    }
   ],
   "source": [
    "maxFemaleQuery = \"\"\"\n",
    "SELECT MAX(age)\n",
    "FROM (\n",
    "    SELECT c.patient, p.gender, DATE(p.birthdate) as dob, min(DATE(c.start)) as start, (cast(strftime('%Y.%m%d', min(DATE(c.start))) - strftime('%Y.%m%d', DATE(p.birthdate)) as int) / 2) * 2 as age\n",
    "    FROM conditions c\n",
    "    JOIN patients p on c.patient = p.id\n",
    "    WHERE c.description = 'Ischemic heart disease (disorder)'\n",
    "    GROUP BY c.patient\n",
    "    ORDER BY age\n",
    " ) h\n",
    "WHERE age >= 20 and gender = 'F'\n",
    "ORDER by gender\n",
    ";\n",
    "\"\"\"\n",
    "\n",
    "howManyWomenQuery = \"\"\"\n",
    "SELECT count(*) as count\n",
    "FROM (\n",
    "    SELECT c.patient, p.gender, DATE(p.birthdate) as dob, min(DATE(c.start)) as start, (cast(strftime('%Y.%m%d', min(DATE(c.start))) - strftime('%Y.%m%d', DATE(p.birthdate)) as int) / 2) * 2 as age\n",
    "    FROM conditions c\n",
    "    JOIN patients p on c.patient = p.id\n",
    "    WHERE c.description = 'Ischemic heart disease (disorder)'\n",
    "    GROUP BY c.patient\n",
    "    ORDER BY age\n",
    " ) h\n",
    "WHERE age >= 20 and gender = 'F'\n",
    "ORDER by gender\n",
    ";\n",
    "\"\"\"\n",
    "\n",
    "\n",
    "howManyWomenDF = pd.read_sql(howManyWomenQuery, conn)\n",
    "nOfWomen = int(howManyWomenDF.to_string(index=False, header=False))\n",
    "maxFemaleDF = pd.read_sql(maxFemaleQuery, conn)\n",
    "maxFemaleAge = int(maxMaleDF.to_string(index=False, header=False))\n",
    "\n",
    "print(nOfWomen)\n",
    "womenavg = womenMeanDf[\"age\"].astype(float)\n"
   ],
   "metadata": {
    "collapsed": false
   }
  },
  {
   "cell_type": "markdown",
   "source": [],
   "metadata": {
    "collapsed": false
   }
  },
  {
   "cell_type": "markdown",
   "source": [
    "Make a distribution for both men and women"
   ],
   "metadata": {
    "collapsed": false
   }
  },
  {
   "cell_type": "code",
   "execution_count": 5,
   "outputs": [
    {
     "name": "stdout",
     "output_type": "stream",
     "text": [
      "3.9213396987955704\n",
      "58.84188531901104\n"
     ]
    },
    {
     "data": {
      "text/plain": "<Figure size 640x480 with 1 Axes>",
      "image/png": "[encoded data removed]"
     },
     "metadata": {},
     "output_type": "display_data"
    }
   ],
   "source": [
    "import numpy.random as np\n",
    "import numpy as npp\n",
    "menArr = []\n",
    "womenArr = []\n",
    "\n",
    "for i in range(100):\n",
    "\n",
    "    deltaWomen = maxFemaleAge / nOfWomen\n",
    "    scaleWomen = deltaWomen / 0.1\n",
    "    lapWomen = np.laplace(0, scaleWomen)\n",
    "\n",
    "    womenArr.append(womenavg+lapWomen)\n",
    "\n",
    "    delta = maxMaleage / nOfMen\n",
    "    scale = delta / 0.1\n",
    "    lap = np.laplace(0, scale)\n",
    "\n",
    "    menArr.append(menavg+lap)\n",
    "\n",
    "\n",
    "\n",
    "plt.hist(menArr, color=\"deepskyblue\", alpha=0.7)\n",
    "plt.axvline(x=womenavg, color=\"g\")\n",
    "plt.axvline(x=menavg, color =\"g\")\n",
    "\n",
    "x= [menavg, womenavg]\n",
    "y=[35, 35]\n",
    "\n",
    "plt.plot(x, y, linestyle=\"--\", color=\"r\")\n",
    "\n",
    "difference = womenavg-menavg\n",
    "print(difference)\n",
    "swag = (womenavg+menavg) / 2\n",
    "print(swag)\n",
    "plt.text(swag-2, 33, \"Mean difference = \" + str(difference))\n",
    "\n",
    "\n",
    "\n",
    "plt.hist(womenArr, color=\"orangered\", alpha=0.7)\n",
    "plt.show()\n"
   ],
   "metadata": {
    "collapsed": false
   }
  },
  {
   "cell_type": "markdown",
   "source": [
    "With DP"
   ],
   "metadata": {
    "collapsed": false
   }
  },
  {
   "cell_type": "code",
   "execution_count": 6,
   "outputs": [
    {
     "name": "stdout",
     "output_type": "stream",
     "text": [
      "After DP, for men and women:  15.457537228162717\n"
     ]
    }
   ],
   "source": [
    "# calculate the Cohen's d between two samples\n",
    "from numpy import mean\n",
    "from numpy import var\n",
    "from math import sqrt\n",
    "\n",
    "# function to calculate Cohen's d for independent samples\n",
    "def cohend(d1, d2):\n",
    "    # calculate the size of samples\n",
    "    n1, n2 = len(d1), len(d2)\n",
    "    # calculate the variance of the samples\n",
    "    s1, s2 = var(d1, ddof=1), var(d2, ddof=1)\n",
    "    # calculate the pooled standard deviation\n",
    "    s = sqrt(((n1 - 1) * s1 + (n2 - 1) * s2) / (n1 + n2 - 2))\n",
    "    # calculate the means of the samples\n",
    "    u1, u2 = mean(d1), mean(d2)\n",
    "    # calculate the effect size\n",
    "    return (u1 - u2) / s\n",
    "\n",
    "dBDP = cohend(womenArr, menArr)\n",
    "print(\"After DP, for men and women: \", dBDP)\n"
   ],
   "metadata": {
    "collapsed": false
   }
  },
  {
   "cell_type": "markdown",
   "source": [
    "Try with the epsilon vs effect size in this experiment\n",
    "\n"
   ],
   "metadata": {
    "collapsed": false
   }
  },
  {
   "cell_type": "code",
   "execution_count": 7,
   "outputs": [
    {
     "name": "stdout",
     "output_type": "stream",
     "text": [
      "0.5 0.7 0.8999999999999999 1.0999999999999999 1.2999999999999998 "
     ]
    },
    {
     "data": {
      "text/plain": "      age gender                               patient\n0      40      F  0220e8b3-e108-768c-dfcf-22ad951ae7ac\n1      40      M  034f2cbf-41f7-53b5-9cbb-9c69f3c3ae1e\n2      40      F  03b204cd-c4e6-30a0-57f2-7f7e182da896\n3      40      M  04b64150-7905-97c4-6ce7-12134e09b24c\n4      40      M  04d185d2-0af9-a96a-a035-0b22861e0e51\n...   ...    ...                                   ...\n9231   80      F  e89dd75a-f0fc-3bdf-a062-ac047cf72e33\n9232   80      F  ea0c6652-cb7f-e564-0e17-ce251bd074c0\n9233   80      F  f0b72501-8806-4cbf-31e2-541c5913bc87\n9234   80      F  f99d16b5-ca1b-1fda-820c-096878b91d30\n9235   80      F  fa35e460-29b7-a919-e118-1414dbc859d7\n\n[9236 rows x 3 columns]",
      "text/html": "<div>\n<style scoped>\n    .dataframe tbody tr th:only-of-type {\n        vertical-align: middle;\n    }\n\n    .dataframe tbody tr th {\n        vertical-align: top;\n    }\n\n    .dataframe thead th {\n        text-align: right;\n    }\n</style>\n<table border=\"1\" class=\"dataframe\">\n  <thead>\n    <tr style=\"text-align: right;\">\n      <th></th>\n      <th>age</th>\n      <th>gender</th>\n      <th>patient</th>\n    </tr>\n  </thead>\n  <tbody>\n    <tr>\n      <th>0</th>\n      <td>40</td>\n      <td>F</td>\n      <td>0220e8b3-e108-768c-dfcf-22ad951ae7ac</td>\n    </tr>\n    <tr>\n      <th>1</th>\n      <td>40</td>\n      <td>M</td>\n      <td>034f2cbf-41f7-53b5-9cbb-9c69f3c3ae1e</td>\n    </tr>\n    <tr>\n      <th>2</th>\n      <td>40</td>\n      <td>F</td>\n      <td>03b204cd-c4e6-30a0-57f2-7f7e182da896</td>\n    </tr>\n    <tr>\n      <th>3</th>\n      <td>40</td>\n      <td>M</td>\n      <td>04b64150-7905-97c4-6ce7-12134e09b24c</td>\n    </tr>\n    <tr>\n      <th>4</th>\n      <td>40</td>\n      <td>M</td>\n      <td>04d185d2-0af9-a96a-a035-0b22861e0e51</td>\n    </tr>\n    <tr>\n      <th>...</th>\n      <td>...</td>\n      <td>...</td>\n      <td>...</td>\n    </tr>\n    <tr>\n      <th>9231</th>\n      <td>80</td>\n      <td>F</td>\n      <td>e89dd75a-f0fc-3bdf-a062-ac047cf72e33</td>\n    </tr>\n    <tr>\n      <th>9232</th>\n      <td>80</td>\n      <td>F</td>\n      <td>ea0c6652-cb7f-e564-0e17-ce251bd074c0</td>\n    </tr>\n    <tr>\n      <th>9233</th>\n      <td>80</td>\n      <td>F</td>\n      <td>f0b72501-8806-4cbf-31e2-541c5913bc87</td>\n    </tr>\n    <tr>\n      <th>9234</th>\n      <td>80</td>\n      <td>F</td>\n      <td>f99d16b5-ca1b-1fda-820c-096878b91d30</td>\n    </tr>\n    <tr>\n      <th>9235</th>\n      <td>80</td>\n      <td>F</td>\n      <td>fa35e460-29b7-a919-e118-1414dbc859d7</td>\n    </tr>\n  </tbody>\n</table>\n<p>9236 rows × 3 columns</p>\n</div>"
     },
     "execution_count": 7,
     "metadata": {},
     "output_type": "execute_result"
    }
   ],
   "source": [
    "\n",
    "# Python program to illustrate\n",
    "# enumerate function\n",
    "import numpy as np\n",
    "\n",
    "for  i in np.arange(0.5, 1.5, 0.2):\n",
    "    print(i, end =\" \")#%%\n",
    "import sqlite3\n",
    "\n",
    "import matplotlib.pyplot as plt\n",
    "import pandas as pd\n",
    "\n",
    "conn = sqlite3.connect(\"../data/conditions.db\")\n",
    "\n",
    "query = \"\"\"\n",
    "SELECT age, gender, patient\n",
    "FROM (\n",
    "    SELECT c.patient, p.gender, DATE(p.birthdate) as dob, min(DATE(c.start)) as start, (cast(strftime('%Y.%m%d', min(DATE(c.start))) - strftime('%Y.%m%d', DATE(p.birthdate)) as int) / 2) * 2 as age\n",
    "    FROM conditions c\n",
    "    JOIN patients p on c.patient = p.id\n",
    "    WHERE c.description = 'Ischemic heart disease (disorder)'\n",
    "    GROUP BY c.patient\n",
    "    ORDER BY age\n",
    " ) h\n",
    "WHERE age >= 20;\n",
    "\"\"\"\n",
    "\n",
    "\n",
    "df = pd.read_sql(query, conn)\n",
    "df"
   ],
   "metadata": {
    "collapsed": false
   }
  },
  {
   "cell_type": "code",
   "execution_count": 8,
   "outputs": [
    {
     "name": "stderr",
     "output_type": "stream",
     "text": [
      "C:\\Users\\krist\\AppData\\Local\\Temp\\ipykernel_15244\\3459853752.py:1: FutureWarning: Dropping of nuisance columns in DataFrame reductions (with 'numeric_only=None') is deprecated; in a future version this will raise TypeError.  Select only valid columns before calling the reduction.\n",
      "  womenMeanDf = df.where(df.gender == \"F\").dropna().mean()\n",
      "C:\\Users\\krist\\AppData\\Local\\Temp\\ipykernel_15244\\3459853752.py:2: FutureWarning: Dropping of nuisance columns in DataFrame reductions (with 'numeric_only=None') is deprecated; in a future version this will raise TypeError.  Select only valid columns before calling the reduction.\n",
      "  menMeanDf = df.where(df.gender == \"M\").dropna().mean()\n"
     ]
    }
   ],
   "source": [
    "womenMeanDf = df.where(df.gender == \"F\").dropna().mean()\n",
    "menMeanDf = df.where(df.gender == \"M\").dropna().mean()"
   ],
   "metadata": {
    "collapsed": false
   }
  },
  {
   "cell_type": "markdown",
   "source": [
    "MALES Below\n"
   ],
   "metadata": {
    "collapsed": false
   }
  },
  {
   "cell_type": "code",
   "execution_count": 9,
   "outputs": [
    {
     "name": "stdout",
     "output_type": "stream",
     "text": [
      "5792\n"
     ]
    }
   ],
   "source": [
    "import numpy.random as np\n",
    "howManyMenQuery = \"\"\"\n",
    "SELECT COUNT(*) as count\n",
    "FROM (\n",
    "    SELECT c.patient, p.gender, DATE(p.birthdate) as dob, min(DATE(c.start)) as start, (cast(strftime('%Y.%m%d', min(DATE(c.start))) - strftime('%Y.%m%d', DATE(p.birthdate)) as int) / 2) * 2 as age\n",
    "    FROM conditions c\n",
    "    JOIN patients p on c.patient = p.id\n",
    "    WHERE c.description = 'Ischemic heart disease (disorder)'\n",
    "    GROUP BY c.patient\n",
    "    ORDER BY age\n",
    " ) h\n",
    "WHERE age >= 20 and gender = 'M'\n",
    "ORDER by gender\n",
    ";\n",
    "\"\"\"\n",
    "\n",
    "maxMaleQuery = \"\"\"\n",
    "SELECT MAX(age)\n",
    "FROM (\n",
    "    SELECT c.patient, p.gender, DATE(p.birthdate) as dob, min(DATE(c.start)) as start, (cast(strftime('%Y.%m%d', min(DATE(c.start))) - strftime('%Y.%m%d', DATE(p.birthdate)) as int) / 2) * 2 as age\n",
    "    FROM conditions c\n",
    "    JOIN patients p on c.patient = p.id\n",
    "    WHERE c.description = 'Ischemic heart disease (disorder)'\n",
    "    GROUP BY c.patient\n",
    "    ORDER BY age\n",
    " ) h\n",
    "WHERE age >= 20 and gender = 'M'\n",
    "ORDER by gender\n",
    ";\n",
    "\"\"\"\n",
    "\n",
    "\n",
    "howManyMenDF = pd.read_sql(howManyMenQuery, conn)\n",
    "maxMaleDF = pd.read_sql(maxMaleQuery, conn)\n",
    "nOfMen = int(howManyMenDF.to_string(index=False, header=False))\n",
    "maxMaleage = int(maxMaleDF.to_string(index=False, header=False))\n",
    "\n",
    "\n",
    "print(nOfMen)\n",
    "menavg = menMeanDf[\"age\"].astype(float)"
   ],
   "metadata": {
    "collapsed": false
   }
  },
  {
   "cell_type": "markdown",
   "source": [
    "FEMALES below"
   ],
   "metadata": {
    "collapsed": false
   }
  },
  {
   "cell_type": "code",
   "execution_count": 10,
   "outputs": [
    {
     "name": "stdout",
     "output_type": "stream",
     "text": [
      "3444\n"
     ]
    }
   ],
   "source": [
    "maxFemaleQuery = \"\"\"\n",
    "SELECT MAX(age)\n",
    "FROM (\n",
    "    SELECT c.patient, p.gender, DATE(p.birthdate) as dob, min(DATE(c.start)) as start, (cast(strftime('%Y.%m%d', min(DATE(c.start))) - strftime('%Y.%m%d', DATE(p.birthdate)) as int) / 2) * 2 as age\n",
    "    FROM conditions c\n",
    "    JOIN patients p on c.patient = p.id\n",
    "    WHERE c.description = 'Ischemic heart disease (disorder)'\n",
    "    GROUP BY c.patient\n",
    "    ORDER BY age\n",
    " ) h\n",
    "WHERE age >= 20 and gender = 'F'\n",
    "ORDER by gender\n",
    ";\n",
    "\"\"\"\n",
    "\n",
    "howManyWomenQuery = \"\"\"\n",
    "SELECT count(*) as count\n",
    "FROM (\n",
    "    SELECT c.patient, p.gender, DATE(p.birthdate) as dob, min(DATE(c.start)) as start, (cast(strftime('%Y.%m%d', min(DATE(c.start))) - strftime('%Y.%m%d', DATE(p.birthdate)) as int) / 2) * 2 as age\n",
    "    FROM conditions c\n",
    "    JOIN patients p on c.patient = p.id\n",
    "    WHERE c.description = 'Ischemic heart disease (disorder)'\n",
    "    GROUP BY c.patient\n",
    "    ORDER BY age\n",
    " ) h\n",
    "WHERE age >= 20 and gender = 'F'\n",
    "ORDER by gender\n",
    ";\n",
    "\"\"\"\n",
    "\n",
    "\n",
    "howManyWomenDF = pd.read_sql(howManyWomenQuery, conn)\n",
    "nOfWomen = int(howManyWomenDF.to_string(index=False, header=False))\n",
    "maxFemaleDF = pd.read_sql(maxFemaleQuery, conn)\n",
    "maxFemaleAge = int(maxMaleDF.to_string(index=False, header=False))\n",
    "\n",
    "print(nOfWomen)\n",
    "womenavg = womenMeanDf[\"age\"].astype(float)\n"
   ],
   "metadata": {
    "collapsed": false
   }
  },
  {
   "cell_type": "markdown",
   "source": [],
   "metadata": {
    "collapsed": false
   }
  },
  {
   "cell_type": "markdown",
   "source": [
    "Make a distribution for both men and women"
   ],
   "metadata": {
    "collapsed": false
   }
  },
  {
   "cell_type": "code",
   "execution_count": 11,
   "outputs": [
    {
     "name": "stdout",
     "output_type": "stream",
     "text": [
      "3.9213396987955704\n",
      "58.84188531901104\n"
     ]
    },
    {
     "data": {
      "text/plain": "<Figure size 640x480 with 1 Axes>",
      "image/png": "[encoded data removed]"
     },
     "metadata": {},
     "output_type": "display_data"
    }
   ],
   "source": [
    "import numpy.random as np\n",
    "import numpy as npp\n",
    "menArr = []\n",
    "womenArr = []\n",
    "\n",
    "for i in range(100):\n",
    "\n",
    "    deltaWomen = maxFemaleAge / nOfWomen\n",
    "    scaleWomen = deltaWomen / 0.1\n",
    "    lapWomen = np.laplace(0, scaleWomen)\n",
    "\n",
    "    womenArr.append(womenavg+lapWomen)\n",
    "\n",
    "    delta = maxMaleage / nOfMen\n",
    "    scale = delta / 0.1\n",
    "    lap = np.laplace(0, scale)\n",
    "\n",
    "    menArr.append(menavg+lap)\n",
    "\n",
    "\n",
    "\n",
    "plt.hist(menArr, color=\"deepskyblue\", alpha=0.7)\n",
    "plt.axvline(x=womenavg, color=\"g\")\n",
    "plt.axvline(x=menavg, color =\"g\")\n",
    "\n",
    "x= [menavg, womenavg]\n",
    "y=[35, 35]\n",
    "\n",
    "plt.plot(x, y, linestyle=\"--\", color=\"r\")\n",
    "\n",
    "difference = womenavg-menavg\n",
    "print(difference)\n",
    "swag = (womenavg+menavg) / 2\n",
    "print(swag)\n",
    "plt.text(swag-2, 33, \"Mean difference = \" + str(difference))\n",
    "\n",
    "\n",
    "\n",
    "plt.hist(womenArr, color=\"orangered\", alpha=0.7)\n",
    "plt.show()\n"
   ],
   "metadata": {
    "collapsed": false
   }
  },
  {
   "cell_type": "markdown",
   "source": [
    "With DP"
   ],
   "metadata": {
    "collapsed": false
   }
  },
  {
   "cell_type": "code",
   "execution_count": 12,
   "outputs": [
    {
     "name": "stdout",
     "output_type": "stream",
     "text": [
      "After DP, for men and women:  14.548297351113616\n"
     ]
    }
   ],
   "source": [
    "# calculate the Cohen's d between two samples\n",
    "from numpy import mean\n",
    "from numpy import var\n",
    "from math import sqrt\n",
    "\n",
    "# function to calculate Cohen's d for independent samples\n",
    "def cohend(d1, d2):\n",
    "    # calculate the size of samples\n",
    "    n1, n2 = len(d1), len(d2)\n",
    "    # calculate the variance of the samples\n",
    "    s1, s2 = var(d1, ddof=1), var(d2, ddof=1)\n",
    "    # calculate the pooled standard deviation\n",
    "    s = sqrt(((n1 - 1) * s1 + (n2 - 1) * s2) / (n1 + n2 - 2))\n",
    "    # calculate the means of the samples\n",
    "    u1, u2 = mean(d1), mean(d2)\n",
    "    # calculate the effect size\n",
    "    return (u1 - u2) / s\n",
    "\n",
    "dBDP = cohend(womenArr, menArr)\n",
    "print(\"After DP, for men and women: \", dBDP)"
   ],
   "metadata": {
    "collapsed": false
   }
  },
  {
   "cell_type": "markdown",
   "source": [
    "Try with the epsilon vs effect size in this experiment\n",
    "\n"
   ],
   "metadata": {
    "collapsed": false
   }
  },
  {
   "cell_type": "code",
   "execution_count": 39,
   "outputs": [
    {
     "data": {
      "text/plain": "[1.4364226371591193,\n 15.161109400828634,\n 30.323289309969653,\n 44.44760312037169,\n 55.977052423314824,\n 72.33364809566856,\n 89.58310419660063,\n 110.35296165184022,\n 118.01334953815625,\n 127.4415145312897]"
     },
     "execution_count": 39,
     "metadata": {},
     "output_type": "execute_result"
    }
   ],
   "source": [
    "\n",
    "# Python program to illustrate\n",
    "# enumerate function\n",
    "import numpy.random as np\n",
    "import numpy\n",
    "import numpy as npp\n",
    "menArr = [[] for _ in range(10)]\n",
    "womenArr = [[] for _ in range(10)]\n",
    "epsilons = []\n",
    "cohends = [[] for _ in range(10)]\n",
    "count = 0\n",
    "\n",
    "for  i in npp.arange(0.01, 1, 0.1):\n",
    "\n",
    "    if i>0.02 : i = round(i,1)\n",
    "    epsilons.append(i)\n",
    "\n",
    "\n",
    "    for y in npp.arange(0,1000,1):\n",
    "\n",
    "        deltaWomen = maxFemaleAge / nOfWomen\n",
    "        scaleWomen = deltaWomen / i\n",
    "        lapWomen = np.laplace(0, scaleWomen)\n",
    "\n",
    "        womenArr[count].append(womenavg+lapWomen)\n",
    "\n",
    "\n",
    "        delta = maxMaleage / nOfMen\n",
    "        scale = delta / i\n",
    "        lap = np.laplace(0, scale)\n",
    "        menArr[count].append(menavg+lap)\n",
    "        cohends[count].append(cohend(womenArr[count], menArr[count]))\n",
    "    count = count + 1\n",
    "\n",
    "\n",
    "\n",
    "#for q in npp.arange(0,10,1):\n",
    " #   for v in range(50):\n",
    "  #      cohends[q].append(cohend(womenArr[q], menArr[q]))\n",
    "   #     print(\"hehe\", q)\n",
    "    #    print(\"men\", menArr[q])\n",
    "     #   print(\"women\", womenArr[q])\n",
    "means = []\n",
    "for  i in npp.arange(0, 10, 1):\n",
    "    array = cohends[i]\n",
    "    nw = array[1:]\n",
    "    means.append(numpy.mean(nw))\n",
    "means"
   ],
   "metadata": {
    "collapsed": false
   }
  },
  {
   "cell_type": "code",
   "execution_count": 40,
   "outputs": [
    {
     "data": {
      "text/plain": "Text(0, 0.5, \"Means of cohen d's\")"
     },
     "execution_count": 40,
     "metadata": {},
     "output_type": "execute_result"
    },
    {
     "data": {
      "text/plain": "<Figure size 640x480 with 1 Axes>",
      "image/png": "[encoded data removed]"
     },
     "metadata": {},
     "output_type": "display_data"
    }
   ],
   "source": [
    "plt.cla()\n",
    "plt.plot(epsilons, means)\n",
    "plt.xlabel(\"Epsilons\")\n",
    "plt.ylabel(\"Means of cohen d's\")"
   ],
   "metadata": {
    "collapsed": false
   }
  },
  {
   "cell_type": "code",
   "execution_count": 54,
   "outputs": [
    {
     "data": {
      "text/plain": "Text(0, 0.5, 'Subtracting of data')"
     },
     "execution_count": 54,
     "metadata": {},
     "output_type": "execute_result"
    },
    {
     "data": {
      "text/plain": "<Figure size 640x480 with 1 Axes>",
      "image/png": "[encoded data removed]"
     },
     "metadata": {},
     "output_type": "display_data"
    }
   ],
   "source": [
    "import numpy as np\n",
    "\n",
    "\n",
    "subtractions = []\n",
    "\n",
    "for  i in npp.arange(0, 10, 1):\n",
    "    swag = np.subtract(womenArr[i], menArr[i])\n",
    "    mean = swag.mean()\n",
    "    subtractions.append(mean)\n",
    "\n",
    "plt.plot(epsilons, subtractions)\n",
    "plt.xlabel(\"Epsilons\")\n",
    "plt.ylabel(\"Subtracting of data\")\n"
   ],
   "metadata": {
    "collapsed": false
   }
  },
  {
   "cell_type": "code",
   "execution_count": null,
   "outputs": [],
   "source": [],
   "metadata": {
    "collapsed": false
   }
  }
 ],
 "metadata": {
  "kernelspec": {
   "display_name": "Python 3",
   "language": "python",
   "name": "python3"
  },
  "language_info": {
   "codemirror_mode": {
    "name": "ipython",
    "version": 2
   },
   "file_extension": ".py",
   "mimetype": "text/x-python",
   "name": "python",
   "nbconvert_exporter": "python",
   "pygments_lexer": "ipython2",
   "version": "2.7.6"
  }
 },
 "nbformat": 4,
 "nbformat_minor": 0
}
