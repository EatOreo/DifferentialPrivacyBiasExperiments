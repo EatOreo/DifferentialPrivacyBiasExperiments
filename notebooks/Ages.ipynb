{
 "cells": [
  {
   "cell_type": "code",
   "execution_count": 133,
   "metadata": {
    "collapsed": true
   },
   "outputs": [],
   "source": [
    "import sqlite3\n",
    "import pandas as pd\n",
    "\n",
    "conn = sqlite3.connect(\"../data/conditions.db\")\n",
    "\n",
    "query = \"\"\"\n",
    "SELECT age, gender, patient\n",
    "FROM (\n",
    "    SELECT c.patient, p.gender, DATE(p.birthdate) as dob, min(DATE(c.start)) as start, (cast(strftime('%Y.%m%d', min(DATE(c.start))) - strftime('%Y.%m%d', DATE(p.birthdate)) as int) / 2) * 2 as age\n",
    "    FROM conditions c\n",
    "    JOIN patients p on c.patient = p.id\n",
    "    WHERE c.description = 'Ischemic heart disease (disorder)'\n",
    "    GROUP BY c.patient\n",
    "    ORDER BY age\n",
    " ) h\n",
    "WHERE age >= 20;\n",
    "\"\"\"\n",
    "\n",
    "\n",
    "df = pd.read_sql(query, conn)\n"
   ]
  },
  {
   "cell_type": "markdown",
   "source": [
    "Figure out delta\n"
   ],
   "metadata": {
    "collapsed": false
   }
  },
  {
   "cell_type": "code",
   "execution_count": 134,
   "outputs": [
    {
     "data": {
      "text/plain": "72.4"
     },
     "execution_count": 134,
     "metadata": {},
     "output_type": "execute_result"
    }
   ],
   "source": [
    "howManyPeopleQuery = \"\"\"\n",
    "SELECT COUNT(*) as count\n",
    "FROM (\n",
    "    SELECT c.patient, p.gender, DATE(p.birthdate) as dob, min(DATE(c.start)) as start, (cast(strftime('%Y.%m%d', min(DATE(c.start))) - strftime('%Y.%m%d', DATE(p.birthdate)) as int) / 2) * 2 as age\n",
    "    FROM conditions c\n",
    "    JOIN patients p on c.patient = p.id\n",
    "    WHERE c.description = 'Ischemic heart disease (disorder)'\n",
    "    GROUP BY c.patient\n",
    "    ORDER BY age\n",
    " ) h\n",
    "WHERE age >= 20 and  gender = 'M'\n",
    "ORDER by gender\n",
    ";\n",
    "\"\"\"\n",
    "\n",
    "maxQuery = \"\"\"\n",
    "SELECT MAX(age)\n",
    "FROM (\n",
    "    SELECT c.patient, p.gender, DATE(p.birthdate) as dob, min(DATE(c.start)) as start, (cast(strftime('%Y.%m%d', min(DATE(c.start))) - strftime('%Y.%m%d', DATE(p.birthdate)) as int) / 2) * 2 as age\n",
    "    FROM conditions c\n",
    "    JOIN patients p on c.patient = p.id\n",
    "    WHERE c.description = 'Ischemic heart disease (disorder)'\n",
    "    GROUP BY c.patient\n",
    "    ORDER BY age\n",
    " ) h\n",
    "WHERE age >= 20\n",
    "ORDER by gender\n",
    ";\n",
    "\"\"\"\n",
    "\n",
    "howManyPeopleDF = pd.read_sql(howManyPeopleQuery, conn)\n",
    "maxDF = pd.read_sql(maxQuery, conn)\n",
    "people = int(howManyPeopleDF.to_string(index=False, header=False))\n",
    "maxages = int(maxDF.to_string(index=False, header=False))\n",
    "\n",
    "delta = people / maxages\n",
    "delta\n",
    "\n",
    "\n"
   ],
   "metadata": {
    "collapsed": false
   }
  },
  {
   "cell_type": "code",
   "execution_count": 135,
   "outputs": [
    {
     "name": "stderr",
     "output_type": "stream",
     "text": [
      "C:\\Users\\krist\\anaconda3\\lib\\site-packages\\snsql\\sql\\private_reader.py:121: UserWarning: Dimension censoring is enabled, with Mechanism.discrete_laplace as the thresholding mechanism. \n",
      "This is an unsafe floating point mechanism.  Counts used for censoring will be revealed in any queries that request COUNT DISTINCT(person), \n",
      "leading to potential privacy leaks. If your query workload needs to reveal distinct counts of individuals, consider doing the dimension\n",
      "censoring as a preprocessing step.  See the documentation for more information.\n",
      "  warnings.warn(\n"
     ]
    }
   ],
   "source": [
    "import snsql\n",
    "from snsql import Privacy\n",
    "\n",
    "metadata = {\n",
    "    '':{\n",
    "        '': {\n",
    "            'MyTable': {\n",
    "                'max_ids': 1,\n",
    "                'row_privacy': True,\n",
    "                'patient': {\n",
    "                    'name': 'patient',\n",
    "                    'type': 'string'\n",
    "                },\n",
    "                'age': {\n",
    "                    'name': 'age',\n",
    "                    'type': 'int',\n",
    "                    'lower': '0',\n",
    "                    'upper': '100'\n",
    "                },\n",
    "                'gender': {\n",
    "                    'name': 'gender',\n",
    "                    'type': 'string'\n",
    "                }\n",
    "            }\n",
    "        }\n",
    "    }\n",
    "}\n",
    "\n",
    "\n",
    "privacy = Privacy(epsilon=0.1, delta=1)\n",
    "reader = snsql.from_connection(df, privacy=privacy, metadata=metadata)\n",
    "\n",
    "r = reader.execute('SELECT gender, AVG(age) as age FROM MyTable GROUP BY gender')"
   ],
   "metadata": {
    "collapsed": false
   }
  },
  {
   "cell_type": "code",
   "execution_count": 136,
   "outputs": [
    {
     "data": {
      "text/plain": "[['gender', 'age'], ['F', 60.38783160322953], ['M', 56.958736187845304]]"
     },
     "execution_count": 136,
     "metadata": {},
     "output_type": "execute_result"
    }
   ],
   "source": [
    "r"
   ],
   "metadata": {
    "collapsed": false
   }
  },
  {
   "cell_type": "code",
   "execution_count": 204,
   "outputs": [
    {
     "data": {
      "text/plain": "<Figure size 640x480 with 1 Axes>",
      "image/png": "[encoded data removed]"
     },
     "metadata": {},
     "output_type": "display_data"
    }
   ],
   "source": [
    "import numpy as np\n",
    "from scipy.stats import laplace\n",
    "import matplotlib.pyplot as plt\n",
    "scale = delta / 0.1\n",
    "\n",
    "plt.plot([-100,0,100],[200, scale,200], color='b')\n",
    "plt.xlabel(\"Hej\")\n",
    "plt.ylabel(\"swag\")\n",
    "plt.show()"
   ],
   "metadata": {
    "collapsed": false
   }
  },
  {
   "cell_type": "markdown",
   "source": [],
   "metadata": {
    "collapsed": false
   }
  },
  {
   "cell_type": "markdown",
   "source": [],
   "metadata": {
    "collapsed": false
   }
  }
 ],
 "metadata": {
  "kernelspec": {
   "display_name": "Python 3",
   "language": "python",
   "name": "python3"
  },
  "language_info": {
   "codemirror_mode": {
    "name": "ipython",
    "version": 2
   },
   "file_extension": ".py",
   "mimetype": "text/x-python",
   "name": "python",
   "nbconvert_exporter": "python",
   "pygments_lexer": "ipython2",
   "version": "2.7.6"
  }
 },
 "nbformat": 4,
 "nbformat_minor": 0
}
