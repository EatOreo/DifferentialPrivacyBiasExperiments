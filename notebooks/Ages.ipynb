{
 "cells": [
  {
   "cell_type": "code",
   "execution_count": 374,
   "metadata": {
    "collapsed": true
   },
   "outputs": [
    {
     "data": {
      "text/plain": "      age gender                               patient\n0      40      F  0220e8b3-e108-768c-dfcf-22ad951ae7ac\n1      40      M  034f2cbf-41f7-53b5-9cbb-9c69f3c3ae1e\n2      40      F  03b204cd-c4e6-30a0-57f2-7f7e182da896\n3      40      M  04b64150-7905-97c4-6ce7-12134e09b24c\n4      40      M  04d185d2-0af9-a96a-a035-0b22861e0e51\n...   ...    ...                                   ...\n9231   80      F  e89dd75a-f0fc-3bdf-a062-ac047cf72e33\n9232   80      F  ea0c6652-cb7f-e564-0e17-ce251bd074c0\n9233   80      F  f0b72501-8806-4cbf-31e2-541c5913bc87\n9234   80      F  f99d16b5-ca1b-1fda-820c-096878b91d30\n9235   80      F  fa35e460-29b7-a919-e118-1414dbc859d7\n\n[9236 rows x 3 columns]",
      "text/html": "<div>\n<style scoped>\n    .dataframe tbody tr th:only-of-type {\n        vertical-align: middle;\n    }\n\n    .dataframe tbody tr th {\n        vertical-align: top;\n    }\n\n    .dataframe thead th {\n        text-align: right;\n    }\n</style>\n<table border=\"1\" class=\"dataframe\">\n  <thead>\n    <tr style=\"text-align: right;\">\n      <th></th>\n      <th>age</th>\n      <th>gender</th>\n      <th>patient</th>\n    </tr>\n  </thead>\n  <tbody>\n    <tr>\n      <th>0</th>\n      <td>40</td>\n      <td>F</td>\n      <td>0220e8b3-e108-768c-dfcf-22ad951ae7ac</td>\n    </tr>\n    <tr>\n      <th>1</th>\n      <td>40</td>\n      <td>M</td>\n      <td>034f2cbf-41f7-53b5-9cbb-9c69f3c3ae1e</td>\n    </tr>\n    <tr>\n      <th>2</th>\n      <td>40</td>\n      <td>F</td>\n      <td>03b204cd-c4e6-30a0-57f2-7f7e182da896</td>\n    </tr>\n    <tr>\n      <th>3</th>\n      <td>40</td>\n      <td>M</td>\n      <td>04b64150-7905-97c4-6ce7-12134e09b24c</td>\n    </tr>\n    <tr>\n      <th>4</th>\n      <td>40</td>\n      <td>M</td>\n      <td>04d185d2-0af9-a96a-a035-0b22861e0e51</td>\n    </tr>\n    <tr>\n      <th>...</th>\n      <td>...</td>\n      <td>...</td>\n      <td>...</td>\n    </tr>\n    <tr>\n      <th>9231</th>\n      <td>80</td>\n      <td>F</td>\n      <td>e89dd75a-f0fc-3bdf-a062-ac047cf72e33</td>\n    </tr>\n    <tr>\n      <th>9232</th>\n      <td>80</td>\n      <td>F</td>\n      <td>ea0c6652-cb7f-e564-0e17-ce251bd074c0</td>\n    </tr>\n    <tr>\n      <th>9233</th>\n      <td>80</td>\n      <td>F</td>\n      <td>f0b72501-8806-4cbf-31e2-541c5913bc87</td>\n    </tr>\n    <tr>\n      <th>9234</th>\n      <td>80</td>\n      <td>F</td>\n      <td>f99d16b5-ca1b-1fda-820c-096878b91d30</td>\n    </tr>\n    <tr>\n      <th>9235</th>\n      <td>80</td>\n      <td>F</td>\n      <td>fa35e460-29b7-a919-e118-1414dbc859d7</td>\n    </tr>\n  </tbody>\n</table>\n<p>9236 rows × 3 columns</p>\n</div>"
     },
     "execution_count": 374,
     "metadata": {},
     "output_type": "execute_result"
    }
   ],
   "source": [
    "import sqlite3\n",
    "\n",
    "import matplotlib.pyplot as plt\n",
    "import pandas as pd\n",
    "\n",
    "conn = sqlite3.connect(\"../data/conditions.db\")\n",
    "\n",
    "query = \"\"\"\n",
    "SELECT age, gender, patient\n",
    "FROM (\n",
    "    SELECT c.patient, p.gender, DATE(p.birthdate) as dob, min(DATE(c.start)) as start, (cast(strftime('%Y.%m%d', min(DATE(c.start))) - strftime('%Y.%m%d', DATE(p.birthdate)) as int) / 2) * 2 as age\n",
    "    FROM conditions c\n",
    "    JOIN patients p on c.patient = p.id\n",
    "    WHERE c.description = 'Ischemic heart disease (disorder)'\n",
    "    GROUP BY c.patient\n",
    "    ORDER BY age\n",
    " ) h\n",
    "WHERE age >= 20;\n",
    "\"\"\"\n",
    "\n",
    "\n",
    "df = pd.read_sql(query, conn)\n",
    "df"
   ]
  },
  {
   "cell_type": "code",
   "execution_count": 375,
   "outputs": [
    {
     "name": "stderr",
     "output_type": "stream",
     "text": [
      "C:\\Users\\krist\\AppData\\Local\\Temp\\ipykernel_20580\\3459853752.py:1: FutureWarning: Dropping of nuisance columns in DataFrame reductions (with 'numeric_only=None') is deprecated; in a future version this will raise TypeError.  Select only valid columns before calling the reduction.\n",
      "  womenMeanDf = df.where(df.gender == \"F\").dropna().mean()\n",
      "C:\\Users\\krist\\AppData\\Local\\Temp\\ipykernel_20580\\3459853752.py:2: FutureWarning: Dropping of nuisance columns in DataFrame reductions (with 'numeric_only=None') is deprecated; in a future version this will raise TypeError.  Select only valid columns before calling the reduction.\n",
      "  menMeanDf = df.where(df.gender == \"M\").dropna().mean()\n"
     ]
    }
   ],
   "source": [
    "womenMeanDf = df.where(df.gender == \"F\").dropna().mean()\n",
    "menMeanDf = df.where(df.gender == \"M\").dropna().mean()"
   ],
   "metadata": {
    "collapsed": false
   }
  },
  {
   "cell_type": "markdown",
   "source": [
    "MALES Below\n"
   ],
   "metadata": {
    "collapsed": false
   }
  },
  {
   "cell_type": "code",
   "execution_count": 376,
   "outputs": [
    {
     "name": "stdout",
     "output_type": "stream",
     "text": [
      "5792\n"
     ]
    }
   ],
   "source": [
    "import numpy.random as np\n",
    "howManyMenQuery = \"\"\"\n",
    "SELECT COUNT(*) as count\n",
    "FROM (\n",
    "    SELECT c.patient, p.gender, DATE(p.birthdate) as dob, min(DATE(c.start)) as start, (cast(strftime('%Y.%m%d', min(DATE(c.start))) - strftime('%Y.%m%d', DATE(p.birthdate)) as int) / 2) * 2 as age\n",
    "    FROM conditions c\n",
    "    JOIN patients p on c.patient = p.id\n",
    "    WHERE c.description = 'Ischemic heart disease (disorder)'\n",
    "    GROUP BY c.patient\n",
    "    ORDER BY age\n",
    " ) h\n",
    "WHERE age >= 20 and gender = 'M'\n",
    "ORDER by gender\n",
    ";\n",
    "\"\"\"\n",
    "\n",
    "maxMaleQuery = \"\"\"\n",
    "SELECT MAX(age)\n",
    "FROM (\n",
    "    SELECT c.patient, p.gender, DATE(p.birthdate) as dob, min(DATE(c.start)) as start, (cast(strftime('%Y.%m%d', min(DATE(c.start))) - strftime('%Y.%m%d', DATE(p.birthdate)) as int) / 2) * 2 as age\n",
    "    FROM conditions c\n",
    "    JOIN patients p on c.patient = p.id\n",
    "    WHERE c.description = 'Ischemic heart disease (disorder)'\n",
    "    GROUP BY c.patient\n",
    "    ORDER BY age\n",
    " ) h\n",
    "WHERE age >= 20 and gender = 'M'\n",
    "ORDER by gender\n",
    ";\n",
    "\"\"\"\n",
    "\n",
    "\n",
    "howManyMenDF = pd.read_sql(howManyMenQuery, conn)\n",
    "maxMaleDF = pd.read_sql(maxMaleQuery, conn)\n",
    "nOfMen = int(howManyMenDF.to_string(index=False, header=False))\n",
    "maxMaleage = int(maxMaleDF.to_string(index=False, header=False))\n",
    "\n",
    "\n",
    "print(nOfMen)\n",
    "menavg = menMeanDf[\"age\"].astype(float)"
   ],
   "metadata": {
    "collapsed": false
   }
  },
  {
   "cell_type": "markdown",
   "source": [
    "FEMALES below"
   ],
   "metadata": {
    "collapsed": false
   }
  },
  {
   "cell_type": "code",
   "execution_count": 377,
   "outputs": [
    {
     "name": "stdout",
     "output_type": "stream",
     "text": [
      "3444\n"
     ]
    }
   ],
   "source": [
    "maxFemaleQuery = \"\"\"\n",
    "SELECT MAX(age)\n",
    "FROM (\n",
    "    SELECT c.patient, p.gender, DATE(p.birthdate) as dob, min(DATE(c.start)) as start, (cast(strftime('%Y.%m%d', min(DATE(c.start))) - strftime('%Y.%m%d', DATE(p.birthdate)) as int) / 2) * 2 as age\n",
    "    FROM conditions c\n",
    "    JOIN patients p on c.patient = p.id\n",
    "    WHERE c.description = 'Ischemic heart disease (disorder)'\n",
    "    GROUP BY c.patient\n",
    "    ORDER BY age\n",
    " ) h\n",
    "WHERE age >= 20 and gender = 'F'\n",
    "ORDER by gender\n",
    ";\n",
    "\"\"\"\n",
    "\n",
    "howManyWomenQuery = \"\"\"\n",
    "SELECT count(*) as count\n",
    "FROM (\n",
    "    SELECT c.patient, p.gender, DATE(p.birthdate) as dob, min(DATE(c.start)) as start, (cast(strftime('%Y.%m%d', min(DATE(c.start))) - strftime('%Y.%m%d', DATE(p.birthdate)) as int) / 2) * 2 as age\n",
    "    FROM conditions c\n",
    "    JOIN patients p on c.patient = p.id\n",
    "    WHERE c.description = 'Ischemic heart disease (disorder)'\n",
    "    GROUP BY c.patient\n",
    "    ORDER BY age\n",
    " ) h\n",
    "WHERE age >= 20 and gender = 'F'\n",
    "ORDER by gender\n",
    ";\n",
    "\"\"\"\n",
    "\n",
    "\n",
    "howManyWomenDF = pd.read_sql(howManyWomenQuery, conn)\n",
    "nOfWomen = int(howManyWomenDF.to_string(index=False, header=False))\n",
    "maxFemaleDF = pd.read_sql(maxFemaleQuery, conn)\n",
    "maxFemaleAge = int(maxMaleDF.to_string(index=False, header=False))\n",
    "\n",
    "print(nOfWomen)\n",
    "womenavg = womenMeanDf[\"age\"].astype(float)\n"
   ],
   "metadata": {
    "collapsed": false
   }
  },
  {
   "cell_type": "markdown",
   "source": [],
   "metadata": {
    "collapsed": false
   }
  },
  {
   "cell_type": "markdown",
   "source": [
    "Make a distribution for both men and women"
   ],
   "metadata": {
    "collapsed": false
   }
  },
  {
   "cell_type": "code",
   "execution_count": 378,
   "outputs": [
    {
     "name": "stdout",
     "output_type": "stream",
     "text": [
      "3.9213396987955704\n",
      "58.84188531901104\n"
     ]
    },
    {
     "data": {
      "text/plain": "<Figure size 640x480 with 1 Axes>",
      "image/png": "[encoded data removed]"
     },
     "metadata": {},
     "output_type": "display_data"
    }
   ],
   "source": [
    "import numpy.random as np\n",
    "import numpy as npp\n",
    "menArr = []\n",
    "womenArr = []\n",
    "\n",
    "for i in range(100):\n",
    "\n",
    "    deltaWomen = maxFemaleAge / nOfWomen\n",
    "    scaleWomen = deltaWomen / 0.1\n",
    "    lapWomen = np.laplace(0, scaleWomen)\n",
    "\n",
    "    womenArr.append(womenavg+lapWomen)\n",
    "\n",
    "    delta = maxMaleage / nOfMen\n",
    "    scale = delta / 0.1\n",
    "    lap = np.laplace(0, scale)\n",
    "\n",
    "    menArr.append(menavg+lap)\n",
    "\n",
    "\n",
    "\n",
    "plt.hist(menArr, color=\"deepskyblue\", alpha=0.7)\n",
    "plt.axvline(x=womenavg, color=\"g\")\n",
    "plt.axvline(x=menavg, color =\"g\")\n",
    "\n",
    "x= [menavg, womenavg]\n",
    "y=[35, 35]\n",
    "\n",
    "plt.plot(x, y, linestyle=\"--\", color=\"r\")\n",
    "\n",
    "difference = womenavg-menavg\n",
    "print(difference)\n",
    "swag = (womenavg+menavg) / 2\n",
    "print(swag)\n",
    "plt.text(swag-2, 33, \"Mean difference = \" + str(difference))\n",
    "\n",
    "\n",
    "\n",
    "plt.hist(womenArr, color=\"orangered\", alpha=0.7)\n",
    "plt.show()\n"
   ],
   "metadata": {
    "collapsed": false
   }
  },
  {
   "cell_type": "markdown",
   "source": [
    "With DP"
   ],
   "metadata": {
    "collapsed": false
   }
  },
  {
   "cell_type": "code",
   "execution_count": 379,
   "outputs": [
    {
     "name": "stdout",
     "output_type": "stream",
     "text": [
      "After DP, for men and women:  14.059800062804026\n"
     ]
    }
   ],
   "source": [
    "# calculate the Cohen's d between two samples\n",
    "from numpy import mean\n",
    "from numpy import var\n",
    "from math import sqrt\n",
    "\n",
    "# function to calculate Cohen's d for independent samples\n",
    "def cohend(d1, d2):\n",
    "    # calculate the size of samples\n",
    "    n1, n2 = len(d1), len(d2)\n",
    "    # calculate the variance of the samples\n",
    "    s1, s2 = var(d1, ddof=1), var(d2, ddof=1)\n",
    "    # calculate the pooled standard deviation\n",
    "    s = sqrt(((n1 - 1) * s1 + (n2 - 1) * s2) / (n1 + n2 - 2))\n",
    "    # calculate the means of the samples\n",
    "    u1, u2 = mean(d1), mean(d2)\n",
    "    # calculate the effect size\n",
    "    return (u1 - u2) / s\n",
    "\n",
    "dBDP = cohend(womenArr, menArr)\n",
    "print(\"After DP, for men and women: \", dBDP)\n"
   ],
   "metadata": {
    "collapsed": false
   }
  },
  {
   "cell_type": "markdown",
   "source": [
    "Try with the epsilon vs effect size in this experiment\n",
    "\n"
   ],
   "metadata": {
    "collapsed": false
   }
  },
  {
   "cell_type": "code",
   "execution_count": 380,
   "outputs": [
    {
     "name": "stdout",
     "output_type": "stream",
     "text": [
      "0.5 0.7 0.8999999999999999 1.0999999999999999 1.2999999999999998 "
     ]
    },
    {
     "data": {
      "text/plain": "      age gender                               patient\n0      40      F  0220e8b3-e108-768c-dfcf-22ad951ae7ac\n1      40      M  034f2cbf-41f7-53b5-9cbb-9c69f3c3ae1e\n2      40      F  03b204cd-c4e6-30a0-57f2-7f7e182da896\n3      40      M  04b64150-7905-97c4-6ce7-12134e09b24c\n4      40      M  04d185d2-0af9-a96a-a035-0b22861e0e51\n...   ...    ...                                   ...\n9231   80      F  e89dd75a-f0fc-3bdf-a062-ac047cf72e33\n9232   80      F  ea0c6652-cb7f-e564-0e17-ce251bd074c0\n9233   80      F  f0b72501-8806-4cbf-31e2-541c5913bc87\n9234   80      F  f99d16b5-ca1b-1fda-820c-096878b91d30\n9235   80      F  fa35e460-29b7-a919-e118-1414dbc859d7\n\n[9236 rows x 3 columns]",
      "text/html": "<div>\n<style scoped>\n    .dataframe tbody tr th:only-of-type {\n        vertical-align: middle;\n    }\n\n    .dataframe tbody tr th {\n        vertical-align: top;\n    }\n\n    .dataframe thead th {\n        text-align: right;\n    }\n</style>\n<table border=\"1\" class=\"dataframe\">\n  <thead>\n    <tr style=\"text-align: right;\">\n      <th></th>\n      <th>age</th>\n      <th>gender</th>\n      <th>patient</th>\n    </tr>\n  </thead>\n  <tbody>\n    <tr>\n      <th>0</th>\n      <td>40</td>\n      <td>F</td>\n      <td>0220e8b3-e108-768c-dfcf-22ad951ae7ac</td>\n    </tr>\n    <tr>\n      <th>1</th>\n      <td>40</td>\n      <td>M</td>\n      <td>034f2cbf-41f7-53b5-9cbb-9c69f3c3ae1e</td>\n    </tr>\n    <tr>\n      <th>2</th>\n      <td>40</td>\n      <td>F</td>\n      <td>03b204cd-c4e6-30a0-57f2-7f7e182da896</td>\n    </tr>\n    <tr>\n      <th>3</th>\n      <td>40</td>\n      <td>M</td>\n      <td>04b64150-7905-97c4-6ce7-12134e09b24c</td>\n    </tr>\n    <tr>\n      <th>4</th>\n      <td>40</td>\n      <td>M</td>\n      <td>04d185d2-0af9-a96a-a035-0b22861e0e51</td>\n    </tr>\n    <tr>\n      <th>...</th>\n      <td>...</td>\n      <td>...</td>\n      <td>...</td>\n    </tr>\n    <tr>\n      <th>9231</th>\n      <td>80</td>\n      <td>F</td>\n      <td>e89dd75a-f0fc-3bdf-a062-ac047cf72e33</td>\n    </tr>\n    <tr>\n      <th>9232</th>\n      <td>80</td>\n      <td>F</td>\n      <td>ea0c6652-cb7f-e564-0e17-ce251bd074c0</td>\n    </tr>\n    <tr>\n      <th>9233</th>\n      <td>80</td>\n      <td>F</td>\n      <td>f0b72501-8806-4cbf-31e2-541c5913bc87</td>\n    </tr>\n    <tr>\n      <th>9234</th>\n      <td>80</td>\n      <td>F</td>\n      <td>f99d16b5-ca1b-1fda-820c-096878b91d30</td>\n    </tr>\n    <tr>\n      <th>9235</th>\n      <td>80</td>\n      <td>F</td>\n      <td>fa35e460-29b7-a919-e118-1414dbc859d7</td>\n    </tr>\n  </tbody>\n</table>\n<p>9236 rows × 3 columns</p>\n</div>"
     },
     "execution_count": 380,
     "metadata": {},
     "output_type": "execute_result"
    }
   ],
   "source": [
    "\n",
    "# Python program to illustrate\n",
    "# enumerate function\n",
    "import numpy as np\n",
    "\n",
    "for  i in np.arange(0.5, 1.5, 0.2):\n",
    "    print(i, end =\" \")#%%\n",
    "import sqlite3\n",
    "\n",
    "import matplotlib.pyplot as plt\n",
    "import pandas as pd\n",
    "\n",
    "conn = sqlite3.connect(\"../data/conditions.db\")\n",
    "\n",
    "query = \"\"\"\n",
    "SELECT age, gender, patient\n",
    "FROM (\n",
    "    SELECT c.patient, p.gender, DATE(p.birthdate) as dob, min(DATE(c.start)) as start, (cast(strftime('%Y.%m%d', min(DATE(c.start))) - strftime('%Y.%m%d', DATE(p.birthdate)) as int) / 2) * 2 as age\n",
    "    FROM conditions c\n",
    "    JOIN patients p on c.patient = p.id\n",
    "    WHERE c.description = 'Ischemic heart disease (disorder)'\n",
    "    GROUP BY c.patient\n",
    "    ORDER BY age\n",
    " ) h\n",
    "WHERE age >= 20;\n",
    "\"\"\"\n",
    "\n",
    "\n",
    "df = pd.read_sql(query, conn)\n",
    "df"
   ],
   "metadata": {
    "collapsed": false
   }
  },
  {
   "cell_type": "code",
   "execution_count": 381,
   "outputs": [
    {
     "name": "stderr",
     "output_type": "stream",
     "text": [
      "C:\\Users\\krist\\AppData\\Local\\Temp\\ipykernel_20580\\3459853752.py:1: FutureWarning: Dropping of nuisance columns in DataFrame reductions (with 'numeric_only=None') is deprecated; in a future version this will raise TypeError.  Select only valid columns before calling the reduction.\n",
      "  womenMeanDf = df.where(df.gender == \"F\").dropna().mean()\n",
      "C:\\Users\\krist\\AppData\\Local\\Temp\\ipykernel_20580\\3459853752.py:2: FutureWarning: Dropping of nuisance columns in DataFrame reductions (with 'numeric_only=None') is deprecated; in a future version this will raise TypeError.  Select only valid columns before calling the reduction.\n",
      "  menMeanDf = df.where(df.gender == \"M\").dropna().mean()\n"
     ]
    }
   ],
   "source": [
    "womenMeanDf = df.where(df.gender == \"F\").dropna().mean()\n",
    "menMeanDf = df.where(df.gender == \"M\").dropna().mean()"
   ],
   "metadata": {
    "collapsed": false
   }
  },
  {
   "cell_type": "markdown",
   "source": [
    "MALES Below\n"
   ],
   "metadata": {
    "collapsed": false
   }
  },
  {
   "cell_type": "code",
   "execution_count": 382,
   "outputs": [
    {
     "name": "stdout",
     "output_type": "stream",
     "text": [
      "5792\n"
     ]
    }
   ],
   "source": [
    "import numpy.random as np\n",
    "howManyMenQuery = \"\"\"\n",
    "SELECT COUNT(*) as count\n",
    "FROM (\n",
    "    SELECT c.patient, p.gender, DATE(p.birthdate) as dob, min(DATE(c.start)) as start, (cast(strftime('%Y.%m%d', min(DATE(c.start))) - strftime('%Y.%m%d', DATE(p.birthdate)) as int) / 2) * 2 as age\n",
    "    FROM conditions c\n",
    "    JOIN patients p on c.patient = p.id\n",
    "    WHERE c.description = 'Ischemic heart disease (disorder)'\n",
    "    GROUP BY c.patient\n",
    "    ORDER BY age\n",
    " ) h\n",
    "WHERE age >= 20 and gender = 'M'\n",
    "ORDER by gender\n",
    ";\n",
    "\"\"\"\n",
    "\n",
    "maxMaleQuery = \"\"\"\n",
    "SELECT MAX(age)\n",
    "FROM (\n",
    "    SELECT c.patient, p.gender, DATE(p.birthdate) as dob, min(DATE(c.start)) as start, (cast(strftime('%Y.%m%d', min(DATE(c.start))) - strftime('%Y.%m%d', DATE(p.birthdate)) as int) / 2) * 2 as age\n",
    "    FROM conditions c\n",
    "    JOIN patients p on c.patient = p.id\n",
    "    WHERE c.description = 'Ischemic heart disease (disorder)'\n",
    "    GROUP BY c.patient\n",
    "    ORDER BY age\n",
    " ) h\n",
    "WHERE age >= 20 and gender = 'M'\n",
    "ORDER by gender\n",
    ";\n",
    "\"\"\"\n",
    "\n",
    "\n",
    "howManyMenDF = pd.read_sql(howManyMenQuery, conn)\n",
    "maxMaleDF = pd.read_sql(maxMaleQuery, conn)\n",
    "nOfMen = int(howManyMenDF.to_string(index=False, header=False))\n",
    "maxMaleage = int(maxMaleDF.to_string(index=False, header=False))\n",
    "\n",
    "\n",
    "print(nOfMen)\n",
    "menavg = menMeanDf[\"age\"].astype(float)"
   ],
   "metadata": {
    "collapsed": false
   }
  },
  {
   "cell_type": "markdown",
   "source": [
    "FEMALES below"
   ],
   "metadata": {
    "collapsed": false
   }
  },
  {
   "cell_type": "code",
   "execution_count": 383,
   "outputs": [
    {
     "name": "stdout",
     "output_type": "stream",
     "text": [
      "3444\n"
     ]
    }
   ],
   "source": [
    "maxFemaleQuery = \"\"\"\n",
    "SELECT MAX(age)\n",
    "FROM (\n",
    "    SELECT c.patient, p.gender, DATE(p.birthdate) as dob, min(DATE(c.start)) as start, (cast(strftime('%Y.%m%d', min(DATE(c.start))) - strftime('%Y.%m%d', DATE(p.birthdate)) as int) / 2) * 2 as age\n",
    "    FROM conditions c\n",
    "    JOIN patients p on c.patient = p.id\n",
    "    WHERE c.description = 'Ischemic heart disease (disorder)'\n",
    "    GROUP BY c.patient\n",
    "    ORDER BY age\n",
    " ) h\n",
    "WHERE age >= 20 and gender = 'F'\n",
    "ORDER by gender\n",
    ";\n",
    "\"\"\"\n",
    "\n",
    "howManyWomenQuery = \"\"\"\n",
    "SELECT count(*) as count\n",
    "FROM (\n",
    "    SELECT c.patient, p.gender, DATE(p.birthdate) as dob, min(DATE(c.start)) as start, (cast(strftime('%Y.%m%d', min(DATE(c.start))) - strftime('%Y.%m%d', DATE(p.birthdate)) as int) / 2) * 2 as age\n",
    "    FROM conditions c\n",
    "    JOIN patients p on c.patient = p.id\n",
    "    WHERE c.description = 'Ischemic heart disease (disorder)'\n",
    "    GROUP BY c.patient\n",
    "    ORDER BY age\n",
    " ) h\n",
    "WHERE age >= 20 and gender = 'F'\n",
    "ORDER by gender\n",
    ";\n",
    "\"\"\"\n",
    "\n",
    "\n",
    "howManyWomenDF = pd.read_sql(howManyWomenQuery, conn)\n",
    "nOfWomen = int(howManyWomenDF.to_string(index=False, header=False))\n",
    "maxFemaleDF = pd.read_sql(maxFemaleQuery, conn)\n",
    "maxFemaleAge = int(maxMaleDF.to_string(index=False, header=False))\n",
    "\n",
    "print(nOfWomen)\n",
    "womenavg = womenMeanDf[\"age\"].astype(float)\n"
   ],
   "metadata": {
    "collapsed": false
   }
  },
  {
   "cell_type": "markdown",
   "source": [],
   "metadata": {
    "collapsed": false
   }
  },
  {
   "cell_type": "markdown",
   "source": [
    "Make a distribution for both men and women"
   ],
   "metadata": {
    "collapsed": false
   }
  },
  {
   "cell_type": "code",
   "execution_count": 384,
   "outputs": [
    {
     "name": "stdout",
     "output_type": "stream",
     "text": [
      "3.9213396987955704\n",
      "58.84188531901104\n"
     ]
    },
    {
     "data": {
      "text/plain": "<Figure size 640x480 with 1 Axes>",
      "image/png": "[encoded data removed]"
     },
     "metadata": {},
     "output_type": "display_data"
    }
   ],
   "source": [
    "import numpy.random as np\n",
    "import numpy as npp\n",
    "menArr = []\n",
    "womenArr = []\n",
    "\n",
    "for i in range(100):\n",
    "\n",
    "    deltaWomen = maxFemaleAge / nOfWomen\n",
    "    scaleWomen = deltaWomen / 0.1\n",
    "    lapWomen = np.laplace(0, scaleWomen)\n",
    "\n",
    "    womenArr.append(womenavg+lapWomen)\n",
    "\n",
    "    delta = maxMaleage / nOfMen\n",
    "    scale = delta / 0.1\n",
    "    lap = np.laplace(0, scale)\n",
    "\n",
    "    menArr.append(menavg+lap)\n",
    "\n",
    "\n",
    "\n",
    "plt.hist(menArr, color=\"deepskyblue\", alpha=0.7)\n",
    "plt.axvline(x=womenavg, color=\"g\")\n",
    "plt.axvline(x=menavg, color =\"g\")\n",
    "\n",
    "x= [menavg, womenavg]\n",
    "y=[35, 35]\n",
    "\n",
    "plt.plot(x, y, linestyle=\"--\", color=\"r\")\n",
    "\n",
    "difference = womenavg-menavg\n",
    "print(difference)\n",
    "swag = (womenavg+menavg) / 2\n",
    "print(swag)\n",
    "plt.text(swag-2, 33, \"Mean difference = \" + str(difference))\n",
    "\n",
    "\n",
    "\n",
    "plt.hist(womenArr, color=\"orangered\", alpha=0.7)\n",
    "plt.show()\n"
   ],
   "metadata": {
    "collapsed": false
   }
  },
  {
   "cell_type": "markdown",
   "source": [
    "With DP"
   ],
   "metadata": {
    "collapsed": false
   }
  },
  {
   "cell_type": "code",
   "execution_count": 385,
   "outputs": [
    {
     "name": "stdout",
     "output_type": "stream",
     "text": [
      "After DP, for men and women:  13.420386581996679\n"
     ]
    }
   ],
   "source": [
    "# calculate the Cohen's d between two samples\n",
    "from numpy import mean\n",
    "from numpy import var\n",
    "from math import sqrt\n",
    "\n",
    "# function to calculate Cohen's d for independent samples\n",
    "def cohend(d1, d2):\n",
    "    # calculate the size of samples\n",
    "    n1, n2 = len(d1), len(d2)\n",
    "    # calculate the variance of the samples\n",
    "    s1, s2 = var(d1, ddof=1), var(d2, ddof=1)\n",
    "    # calculate the pooled standard deviation\n",
    "    s = sqrt(((n1 - 1) * s1 + (n2 - 1) * s2) / (n1 + n2 - 2))\n",
    "    # calculate the means of the samples\n",
    "    u1, u2 = mean(d1), mean(d2)\n",
    "    # calculate the effect size\n",
    "    return (u1 - u2) / s\n",
    "\n",
    "dBDP = cohend(womenArr, menArr)\n",
    "print(\"After DP, for men and women: \", dBDP)"
   ],
   "metadata": {
    "collapsed": false
   }
  },
  {
   "cell_type": "markdown",
   "source": [
    "Try with the epsilon vs effect size in this experiment\n",
    "\n"
   ],
   "metadata": {
    "collapsed": false
   }
  },
  {
   "cell_type": "code",
   "execution_count": 385,
   "outputs": [],
   "source": [],
   "metadata": {
    "collapsed": false
   }
  },
  {
   "cell_type": "code",
   "execution_count": 395,
   "outputs": [
    {
     "name": "stdout",
     "output_type": "stream",
     "text": [
      "men [56.88632504355035, 55.964535063173756, 56.71038935975929, 56.24789155187165, 57.83679239300456, 61.56993402441591, 56.596671862336706, 56.95457885314795, 57.6602582371639]\n",
      "women [59.974284968203506, 61.63732853907042, 60.920195406463776, 62.72659394652382, 61.61687799369777, 61.55005656617957, 56.719930979267936, 59.353732897745495, 55.92508404757109]\n",
      "men [56.87622261747833, 56.82690942573574, 56.87211554975324, 57.12178316045528, 56.7928741980316, 56.776645079831916, 56.74630909457808, 56.97002660563871, 56.87882789613431]\n",
      "women [60.737755071229095, 60.42916787142771, 60.84968770931834, 60.65755868679011, 60.32387063062545, 60.41765435931282, 60.9113267481398, 60.74182894963904, 60.34768182826285]\n",
      "men [56.78041164498736, 56.86927984701438, 57.0658113046958, 57.04929129502884, 56.89479203993494, 56.963388397837, 56.80267633373942, 56.87923286382316, 56.945605034078376]\n",
      "women [60.770472437058764, 60.79051435721099, 60.8130706565737, 60.661201570256836, 60.94022844761068, 60.80558298377771, 60.791925896461485, 60.7661730378695, 60.913074590150906]\n",
      "men [56.88150177073084, 56.834169505626974, 56.88248749504739, 56.88399701019001, 56.87544120220415, 56.88218256582707, 56.90071128344822, 56.811576590859495, 56.87452275379849]\n",
      "women [60.710989609173, 61.068655197006784, 60.76807206195449, 60.84430206039043, 60.786520836365874, 60.83782978222309, 61.0378548186195, 60.6384082470004, 60.87774565266051]\n",
      "men [56.95336730795374, 56.91303893176584, 56.88059488701764, 56.84414142522426, 56.73992910834276, 56.91657758673072, 56.84302185505886, 56.87820058697449, 56.9117997162297]\n",
      "women [60.780911402497935, 60.83954675970548, 60.78972022470878, 60.78339646932988, 60.74145033969321, 60.70386674110944, 60.746960647532184, 60.95566200514947, 60.86818629324496]\n",
      "men [56.85685895371695, 56.87852060506099, 56.90294108013639, 56.865609371198914, 56.89402728097847, 56.78518409977534, 56.93398265179239, 56.91639779617697, 56.920175503223206]\n",
      "women [60.84536253786015, 60.75319895428382, 60.85662601740904, 60.85213262080536, 60.89029962348294, 60.888681080395884, 60.82100954260109, 60.8789617931861, 60.740399144659456]\n",
      "men [56.84324007040925, 56.85947513327076, 56.888287296657765, 56.92584556891327, 56.85604356061921, 56.88781702808806, 56.847618274821166, 56.898053914284404, 56.881780175434294]\n",
      "women [60.80254851363953, 60.82285680133531, 60.72647482222259, 60.93941789566225, 60.721825130684955, 60.802020130043196, 60.87286981013996, 60.783970588887044, 60.78515021793006]\n",
      "men [56.868734187119735, 56.90920736360924, 56.88272094081813, 56.85175000730826, 56.9183873464241, 56.86609318364664, 56.843835078181485, 56.86729192144071, 56.913302502154295]\n",
      "women [60.7743004644919, 60.79771211434036, 60.81637027333032, 60.771840890377014, 60.751837400674454, 60.78052295552876, 60.85558156741853, 60.85877972582098, 60.90311023913093]\n",
      "men [56.87765521272672, 56.856185551987394, 56.90030971759886, 56.87800306162296, 56.88397677918855, 56.89264625761585, 56.95971106323402, 56.88400171076783, 56.875747142508686]\n",
      "women [60.80097169864227, 60.790472576487545, 60.80188491602141, 60.79319464253529, 60.77975127493466, 60.78661462802403, 60.809945056416566, 60.83264161423605, 60.81589954415331]\n",
      "men [56.90625172299285, 56.875724362258886, 56.87998687487965, 56.85296792832007, 56.88776277368826, 56.895577157085704, 56.88532937156867, 56.879792751835936, 56.88110368873284]\n",
      "women [60.80715343755806, 60.80822409879298, 60.77665483151542, 60.7295615064978, 60.799618073223265, 60.822813929173655, 60.765456806458644, 60.76238300845726, 60.84836886163196]\n",
      "142.17743561048962\n"
     ]
    }
   ],
   "source": [
    "\n",
    "# Python program to illustrate\n",
    "# enumerate function\n",
    "import numpy.random as np\n",
    "import numpy as npp\n",
    "menArr = [[] for _ in range(10)]\n",
    "womenArr = [[] for _ in range(10)]\n",
    "epsilons = []\n",
    "cohends = []\n",
    "count = 0\n",
    "\n",
    "for  i in npp.arange(0.01, 1, 0.1):\n",
    "    if i>0.02 : i = round(i,1)\n",
    "    epsilons.append(i)\n",
    "\n",
    "    for y in npp.arange(0,9,1):\n",
    "        deltaWomen = maxFemaleAge / nOfWomen\n",
    "        scaleWomen = deltaWomen / i\n",
    "        lapWomen = np.laplace(0, scaleWomen)\n",
    "\n",
    "        womenArr[count].append(womenavg+lapWomen)\n",
    "\n",
    "\n",
    "        delta = maxMaleage / nOfMen\n",
    "        scale = delta / i\n",
    "        lap = np.laplace(0, scale)\n",
    "        menArr[count].append(menavg+lap)\n",
    "    count = count + 1\n",
    "\n",
    "\n",
    "\n",
    "for q in npp.arange(0,10,1):\n",
    "    cohends.append(cohend(womenArr[q], menArr[q]))\n",
    "    print(\"men\", menArr[q])\n",
    "    print(\"women\", womenArr[q])\n",
    "\n",
    "print(cohend(womenArr[9], menArr[9]))"
   ],
   "metadata": {
    "collapsed": false
   }
  },
  {
   "cell_type": "code",
   "execution_count": 387,
   "outputs": [
    {
     "data": {
      "text/plain": "[<matplotlib.lines.Line2D at 0x1f8dad33f70>]"
     },
     "execution_count": 387,
     "metadata": {},
     "output_type": "execute_result"
    },
    {
     "data": {
      "text/plain": "<Figure size 640x480 with 1 Axes>",
      "image/png": "[encoded data removed]"
     },
     "metadata": {},
     "output_type": "display_data"
    }
   ],
   "source": [
    "plt.plot(epsilons, cohends)"
   ],
   "metadata": {
    "collapsed": false
   }
  },
  {
   "cell_type": "code",
   "execution_count": 390,
   "outputs": [
    {
     "data": {
      "text/plain": "[<matplotlib.lines.Line2D at 0x1f8dade9e50>]"
     },
     "execution_count": 390,
     "metadata": {},
     "output_type": "execute_result"
    },
    {
     "data": {
      "text/plain": "<Figure size 640x480 with 1 Axes>",
      "image/png": "[encoded data removed]"
     },
     "metadata": {},
     "output_type": "display_data"
    }
   ],
   "source": [
    "plt.plot(womenArr[9])\n",
    "plt.plot(menArr[9])"
   ],
   "metadata": {
    "collapsed": false
   }
  },
  {
   "cell_type": "code",
   "execution_count": null,
   "outputs": [],
   "source": [],
   "metadata": {
    "collapsed": false
   }
  }
 ],
 "metadata": {
  "kernelspec": {
   "display_name": "Python 3",
   "language": "python",
   "name": "python3"
  },
  "language_info": {
   "codemirror_mode": {
    "name": "ipython",
    "version": 2
   },
   "file_extension": ".py",
   "mimetype": "text/x-python",
   "name": "python",
   "nbconvert_exporter": "python",
   "pygments_lexer": "ipython2",
   "version": "2.7.6"
  }
 },
 "nbformat": 4,
 "nbformat_minor": 0
}
