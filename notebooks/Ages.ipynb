{
 "cells": [
  {
   "cell_type": "code",
   "execution_count": 108,
   "metadata": {
    "collapsed": true
   },
   "outputs": [
    {
     "data": {
      "text/plain": "      age gender                               patient\n0      40      F  10ea5f77-7485-f458-7be6-45f49b2c6b56\n1      40      M  17a21868-d0f7-f8a1-db99-3484708554a5\n2      40      M  1c6a67d4-7599-e09c-8cdd-69c33dba155b\n3      40      M  1fb783eb-172e-b11a-60c3-5f9a442b1cf6\n4      40      M  20e3ff9c-e6ee-52a0-bcac-2515b4754d2e\n...   ...    ...                                   ...\n2586   78      F  ff369431-cfdf-c1a7-9400-e338691397df\n2587   80      F  21609b93-f783-be55-a68d-800432816740\n2588   80      M  9dda9c5b-359b-5da6-9d55-c339a53075ca\n2589   80      F  c8618bc2-5129-56ef-f7c7-9c393c2f9a05\n2590   80      M  d32ebdb8-e7bc-fbea-2ed6-88f95e05606f\n\n[2591 rows x 3 columns]",
      "text/html": "<div>\n<style scoped>\n    .dataframe tbody tr th:only-of-type {\n        vertical-align: middle;\n    }\n\n    .dataframe tbody tr th {\n        vertical-align: top;\n    }\n\n    .dataframe thead th {\n        text-align: right;\n    }\n</style>\n<table border=\"1\" class=\"dataframe\">\n  <thead>\n    <tr style=\"text-align: right;\">\n      <th></th>\n      <th>age</th>\n      <th>gender</th>\n      <th>patient</th>\n    </tr>\n  </thead>\n  <tbody>\n    <tr>\n      <th>0</th>\n      <td>40</td>\n      <td>F</td>\n      <td>10ea5f77-7485-f458-7be6-45f49b2c6b56</td>\n    </tr>\n    <tr>\n      <th>1</th>\n      <td>40</td>\n      <td>M</td>\n      <td>17a21868-d0f7-f8a1-db99-3484708554a5</td>\n    </tr>\n    <tr>\n      <th>2</th>\n      <td>40</td>\n      <td>M</td>\n      <td>1c6a67d4-7599-e09c-8cdd-69c33dba155b</td>\n    </tr>\n    <tr>\n      <th>3</th>\n      <td>40</td>\n      <td>M</td>\n      <td>1fb783eb-172e-b11a-60c3-5f9a442b1cf6</td>\n    </tr>\n    <tr>\n      <th>4</th>\n      <td>40</td>\n      <td>M</td>\n      <td>20e3ff9c-e6ee-52a0-bcac-2515b4754d2e</td>\n    </tr>\n    <tr>\n      <th>...</th>\n      <td>...</td>\n      <td>...</td>\n      <td>...</td>\n    </tr>\n    <tr>\n      <th>2586</th>\n      <td>78</td>\n      <td>F</td>\n      <td>ff369431-cfdf-c1a7-9400-e338691397df</td>\n    </tr>\n    <tr>\n      <th>2587</th>\n      <td>80</td>\n      <td>F</td>\n      <td>21609b93-f783-be55-a68d-800432816740</td>\n    </tr>\n    <tr>\n      <th>2588</th>\n      <td>80</td>\n      <td>M</td>\n      <td>9dda9c5b-359b-5da6-9d55-c339a53075ca</td>\n    </tr>\n    <tr>\n      <th>2589</th>\n      <td>80</td>\n      <td>F</td>\n      <td>c8618bc2-5129-56ef-f7c7-9c393c2f9a05</td>\n    </tr>\n    <tr>\n      <th>2590</th>\n      <td>80</td>\n      <td>M</td>\n      <td>d32ebdb8-e7bc-fbea-2ed6-88f95e05606f</td>\n    </tr>\n  </tbody>\n</table>\n<p>2591 rows × 3 columns</p>\n</div>"
     },
     "execution_count": 108,
     "metadata": {},
     "output_type": "execute_result"
    }
   ],
   "source": [
    "import sqlite3\n",
    "\n",
    "import matplotlib.pyplot as plt\n",
    "import pandas as pd\n",
    "\n",
    "conn = sqlite3.connect(\"../data/conditions2.db\")\n",
    "\n",
    "query = \"\"\"\n",
    "SELECT age, gender, patient\n",
    "FROM (\n",
    "    SELECT c.patient, p.gender, DATE(p.birthdate) as dob, min(DATE(c.start)) as start, (cast(strftime('%Y.%m%d', min(DATE(c.start))) - strftime('%Y.%m%d', DATE(p.birthdate)) as int) / 2) * 2 as age\n",
    "    FROM conditions c\n",
    "    JOIN patients p on c.patient = p.id\n",
    "    WHERE c.description = 'Ischemic heart disease (disorder)'\n",
    "    GROUP BY c.patient\n",
    "    ORDER BY age\n",
    " ) h\n",
    "WHERE age >= 20;\n",
    "\"\"\"\n",
    "\n",
    "\n",
    "df = pd.read_sql(query, conn)\n",
    "df"
   ]
  },
  {
   "cell_type": "code",
   "execution_count": 109,
   "outputs": [
    {
     "name": "stderr",
     "output_type": "stream",
     "text": [
      "C:\\Users\\krist\\AppData\\Local\\Temp\\ipykernel_20580\\3459853752.py:1: FutureWarning: Dropping of nuisance columns in DataFrame reductions (with 'numeric_only=None') is deprecated; in a future version this will raise TypeError.  Select only valid columns before calling the reduction.\n",
      "  womenMeanDf = df.where(df.gender == \"F\").dropna().mean()\n",
      "C:\\Users\\krist\\AppData\\Local\\Temp\\ipykernel_20580\\3459853752.py:2: FutureWarning: Dropping of nuisance columns in DataFrame reductions (with 'numeric_only=None') is deprecated; in a future version this will raise TypeError.  Select only valid columns before calling the reduction.\n",
      "  menMeanDf = df.where(df.gender == \"M\").dropna().mean()\n"
     ]
    }
   ],
   "source": [
    "womenMeanDf = df.where(df.gender == \"F\").dropna().mean()\n",
    "menMeanDf = df.where(df.gender == \"M\").dropna().mean()"
   ],
   "metadata": {
    "collapsed": false
   }
  },
  {
   "cell_type": "markdown",
   "source": [
    "MALES Below\n"
   ],
   "metadata": {
    "collapsed": false
   }
  },
  {
   "cell_type": "code",
   "execution_count": 110,
   "outputs": [],
   "source": [
    "import numpy.random as np\n",
    "howManyPeopleQuery = \"\"\"\n",
    "SELECT COUNT(*) as count\n",
    "FROM (\n",
    "    SELECT c.patient, p.gender, DATE(p.birthdate) as dob, min(DATE(c.start)) as start, (cast(strftime('%Y.%m%d', min(DATE(c.start))) - strftime('%Y.%m%d', DATE(p.birthdate)) as int) / 2) * 2 as age\n",
    "    FROM conditions c\n",
    "    JOIN patients p on c.patient = p.id\n",
    "    WHERE c.description = 'Ischemic heart disease (disorder)'\n",
    "    GROUP BY c.patient\n",
    "    ORDER BY age\n",
    " ) h\n",
    "WHERE age >= 20\n",
    "ORDER by gender\n",
    ";\n",
    "\"\"\"\n",
    "\n",
    "maxMaleQuery = \"\"\"\n",
    "SELECT MAX(age)\n",
    "FROM (\n",
    "    SELECT c.patient, p.gender, DATE(p.birthdate) as dob, min(DATE(c.start)) as start, (cast(strftime('%Y.%m%d', min(DATE(c.start))) - strftime('%Y.%m%d', DATE(p.birthdate)) as int) / 2) * 2 as age\n",
    "    FROM conditions c\n",
    "    JOIN patients p on c.patient = p.id\n",
    "    WHERE c.description = 'Ischemic heart disease (disorder)'\n",
    "    GROUP BY c.patient\n",
    "    ORDER BY age\n",
    " ) h\n",
    "WHERE age >= 20 and gender = 'M'\n",
    "ORDER by gender\n",
    ";\n",
    "\"\"\"\n",
    "\n",
    "\n",
    "howManyPeopleDF = pd.read_sql(howManyPeopleQuery, conn)\n",
    "maxMaleDF = pd.read_sql(maxMaleQuery, conn)\n",
    "people = int(howManyPeopleDF.to_string(index=False, header=False))\n",
    "maxMaleage = int(maxMaleDF.to_string(index=False, header=False))\n",
    "\n",
    "\n",
    "\n",
    "menavg = menMeanDf[\"age\"].astype(float)"
   ],
   "metadata": {
    "collapsed": false
   }
  },
  {
   "cell_type": "markdown",
   "source": [
    "FEMALES below"
   ],
   "metadata": {
    "collapsed": false
   }
  },
  {
   "cell_type": "code",
   "execution_count": 111,
   "outputs": [],
   "source": [
    "maxFemaleQuery = \"\"\"\n",
    "SELECT MAX(age)\n",
    "FROM (\n",
    "    SELECT c.patient, p.gender, DATE(p.birthdate) as dob, min(DATE(c.start)) as start, (cast(strftime('%Y.%m%d', min(DATE(c.start))) - strftime('%Y.%m%d', DATE(p.birthdate)) as int) / 2) * 2 as age\n",
    "    FROM conditions c\n",
    "    JOIN patients p on c.patient = p.id\n",
    "    WHERE c.description = 'Ischemic heart disease (disorder)'\n",
    "    GROUP BY c.patient\n",
    "    ORDER BY age\n",
    " ) h\n",
    "WHERE age >= 20 and gender = 'F'\n",
    "ORDER by gender\n",
    ";\n",
    "\"\"\"\n",
    "\n",
    "\n",
    "maxFemaleDF = pd.read_sql(maxFemaleQuery, conn)\n",
    "maxFemaleAge = int(maxMaleDF.to_string(index=False, header=False))\n",
    "\n",
    "\n",
    "womenavg = womenMeanDf[\"age\"].astype(float)\n"
   ],
   "metadata": {
    "collapsed": false
   }
  },
  {
   "cell_type": "markdown",
   "source": [],
   "metadata": {
    "collapsed": false
   }
  },
  {
   "cell_type": "markdown",
   "source": [
    "Make a distribution for both men and women"
   ],
   "metadata": {
    "collapsed": false
   }
  },
  {
   "cell_type": "code",
   "execution_count": 113,
   "outputs": [
    {
     "data": {
      "text/plain": "<Figure size 640x480 with 1 Axes>",
      "image/png": "[encoded data removed]"
     },
     "metadata": {},
     "output_type": "display_data"
    }
   ],
   "source": [
    "import numpy.random as np\n",
    "import numpy as npp\n",
    "menArr = []\n",
    "womenArr = []\n",
    "\n",
    "for i in range(100):\n",
    "\n",
    "    deltaWomen = maxFemaleAge / people\n",
    "    scaleWomen = deltaWomen / 0.1\n",
    "    lapWomen = np.laplace(0, scaleWomen)\n",
    "\n",
    "    womenArr.append(womenavg+lapWomen)\n",
    "\n",
    "    delta = maxMaleage / people\n",
    "    scale = delta / 0.1\n",
    "    lap = np.laplace(0, scale)\n",
    "\n",
    "    menArr.append(menavg+lap)\n",
    "\n",
    "\n",
    "plt.hist(menArr, color=\"deepskyblue\")\n",
    "plt.hist(womenArr, color=\"orangered\")\n",
    "plt.show()\n"
   ],
   "metadata": {
    "collapsed": false
   }
  },
  {
   "cell_type": "code",
   "execution_count": 112,
   "outputs": [],
   "source": [],
   "metadata": {
    "collapsed": false
   }
  }
 ],
 "metadata": {
  "kernelspec": {
   "display_name": "Python 3",
   "language": "python",
   "name": "python3"
  },
  "language_info": {
   "codemirror_mode": {
    "name": "ipython",
    "version": 2
   },
   "file_extension": ".py",
   "mimetype": "text/x-python",
   "name": "python",
   "nbconvert_exporter": "python",
   "pygments_lexer": "ipython2",
   "version": "2.7.6"
  }
 },
 "nbformat": 4,
 "nbformat_minor": 0
}
