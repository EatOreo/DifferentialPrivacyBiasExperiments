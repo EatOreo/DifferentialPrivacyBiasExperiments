{
 "cells": [
  {
   "cell_type": "code",
   "execution_count": 3,
   "metadata": {
    "collapsed": true
   },
   "outputs": [],
   "source": [
    "import snsql\n",
    "from snsql import Privacy\n",
    "\n",
    "def privacify(df):\n",
    "    metadata = {\n",
    "        '':{\n",
    "            '': {\n",
    "                'MyTable': {\n",
    "                    'max_ids': 1,\n",
    "                    'row_privacy': True,\n",
    "                    'patient': {\n",
    "                        'name': 'patient',\n",
    "                        'type': 'string'\n",
    "                    },\n",
    "                    'value': {\n",
    "                        'name': 'value',\n",
    "                        'type': 'int'\n",
    "                    }\n",
    "                }\n",
    "            }\n",
    "        }\n",
    "    }\n",
    "\n",
    "    privacy = Privacy(epsilon=0.5, delta=0.01)\n",
    "    reader = snsql.from_connection(df, privacy=privacy, metadata=metadata)\n",
    "    result = reader.execute('SELECT value, COUNT(patient) as amount FROM MyTable GROUP BY value')\n",
    "\n",
    "    return pd.DataFrame(result[1:], columns = result[0])\n"
   ]
  },
  {
   "cell_type": "code",
   "execution_count": 5,
   "outputs": [
    {
     "name": "stdout",
     "output_type": "stream",
     "text": [
      "     value                               patient\n",
      "0    181.0  01290832-65db-488f-9d67-50e3a6d468ea\n",
      "1    182.0  0310e597-25eb-4412-af50-0cf0ff32b9ba\n",
      "2    179.0  03412d16-9ffe-4d5f-9014-841055a00bba\n",
      "3    178.0  04090939-7263-4562-90c7-547d117113f2\n",
      "4    173.0  0419b689-ddaa-45aa-abdc-64e321cb5c03\n",
      "..     ...                                   ...\n",
      "429  179.0  fc5f5d8a-ae4c-4657-a1de-824519739a0d\n",
      "430  174.0  fc69629e-7bb6-43a5-814c-f8381e348511\n",
      "431  163.0  fc94c4b3-a114-4c28-a8e8-0f890b674b22\n",
      "432  190.0  fec1e10f-4478-49d7-bc43-a4bae7b70629\n",
      "433  177.0  fff429dc-1604-461c-9af0-25c2c9350759\n",
      "\n",
      "[434 rows x 2 columns]\n"
     ]
    },
    {
     "name": "stderr",
     "output_type": "stream",
     "text": [
      "/Users/lukas/opt/anaconda3/lib/python3.9/site-packages/snsql/sql/private_reader.py:121: UserWarning: Dimension censoring is enabled, with Mechanism.discrete_laplace as the thresholding mechanism. \n",
      "This is an unsafe floating point mechanism.  Counts used for censoring will be revealed in any queries that request COUNT DISTINCT(person), \n",
      "leading to potential privacy leaks. If your query workload needs to reveal distinct counts of individuals, consider doing the dimension\n",
      "censoring as a preprocessing step.  See the documentation for more information.\n",
      "  warnings.warn(\n"
     ]
    },
    {
     "data": {
      "text/plain": "    value  amount\n0     151      11\n1     163      35\n2     165      12\n3     168       9\n4     170      13\n5     171      13\n6     172      19\n7     173      22\n8     174      18\n9     175      40\n10    176      38\n11    177      14\n12    178      22\n13    179      26\n14    180      12\n15    181      21\n16    182      19\n17    183      10\n18    190      29",
      "text/html": "<div>\n<style scoped>\n    .dataframe tbody tr th:only-of-type {\n        vertical-align: middle;\n    }\n\n    .dataframe tbody tr th {\n        vertical-align: top;\n    }\n\n    .dataframe thead th {\n        text-align: right;\n    }\n</style>\n<table border=\"1\" class=\"dataframe\">\n  <thead>\n    <tr style=\"text-align: right;\">\n      <th></th>\n      <th>value</th>\n      <th>amount</th>\n    </tr>\n  </thead>\n  <tbody>\n    <tr>\n      <th>0</th>\n      <td>151</td>\n      <td>11</td>\n    </tr>\n    <tr>\n      <th>1</th>\n      <td>163</td>\n      <td>35</td>\n    </tr>\n    <tr>\n      <th>2</th>\n      <td>165</td>\n      <td>12</td>\n    </tr>\n    <tr>\n      <th>3</th>\n      <td>168</td>\n      <td>9</td>\n    </tr>\n    <tr>\n      <th>4</th>\n      <td>170</td>\n      <td>13</td>\n    </tr>\n    <tr>\n      <th>5</th>\n      <td>171</td>\n      <td>13</td>\n    </tr>\n    <tr>\n      <th>6</th>\n      <td>172</td>\n      <td>19</td>\n    </tr>\n    <tr>\n      <th>7</th>\n      <td>173</td>\n      <td>22</td>\n    </tr>\n    <tr>\n      <th>8</th>\n      <td>174</td>\n      <td>18</td>\n    </tr>\n    <tr>\n      <th>9</th>\n      <td>175</td>\n      <td>40</td>\n    </tr>\n    <tr>\n      <th>10</th>\n      <td>176</td>\n      <td>38</td>\n    </tr>\n    <tr>\n      <th>11</th>\n      <td>177</td>\n      <td>14</td>\n    </tr>\n    <tr>\n      <th>12</th>\n      <td>178</td>\n      <td>22</td>\n    </tr>\n    <tr>\n      <th>13</th>\n      <td>179</td>\n      <td>26</td>\n    </tr>\n    <tr>\n      <th>14</th>\n      <td>180</td>\n      <td>12</td>\n    </tr>\n    <tr>\n      <th>15</th>\n      <td>181</td>\n      <td>21</td>\n    </tr>\n    <tr>\n      <th>16</th>\n      <td>182</td>\n      <td>19</td>\n    </tr>\n    <tr>\n      <th>17</th>\n      <td>183</td>\n      <td>10</td>\n    </tr>\n    <tr>\n      <th>18</th>\n      <td>190</td>\n      <td>29</td>\n    </tr>\n  </tbody>\n</table>\n</div>"
     },
     "execution_count": 5,
     "metadata": {},
     "output_type": "execute_result"
    }
   ],
   "source": [
    "import sqlite3\n",
    "\n",
    "conn = sqlite3.connect(\"medical.db\")\n",
    "menQuery = \"\"\"\n",
    "    SELECT ROUND(AVG(CAST(o.value AS DECIMAL))) as value, p.patient\n",
    "    FROM observations o\n",
    "    JOIN patients p ON p.patient = o.patient\n",
    "    WHERE o.description = 'Body Height' AND p.gender = 'M' AND p.birthdate < '2000'\n",
    "    GROUP BY o.patient\n",
    "\"\"\"\n",
    "\n",
    "import pandas as pd\n",
    "menDf = pd.read_sql_query(menQuery, conn)\n",
    "print(menDf)\n",
    "privacify(menDf)"
   ],
   "metadata": {
    "collapsed": false
   }
  },
  {
   "cell_type": "code",
   "execution_count": null,
   "outputs": [],
   "source": [],
   "metadata": {
    "collapsed": false
   }
  }
 ],
 "metadata": {
  "kernelspec": {
   "display_name": "Python 3",
   "language": "python",
   "name": "python3"
  },
  "language_info": {
   "codemirror_mode": {
    "name": "ipython",
    "version": 2
   },
   "file_extension": ".py",
   "mimetype": "text/x-python",
   "name": "python",
   "nbconvert_exporter": "python",
   "pygments_lexer": "ipython2",
   "version": "2.7.6"
  }
 },
 "nbformat": 4,
 "nbformat_minor": 0
}
