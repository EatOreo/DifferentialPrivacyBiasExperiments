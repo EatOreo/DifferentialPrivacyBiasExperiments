{
 "cells": [
  {
   "cell_type": "code",
   "execution_count": 6,
   "outputs": [],
   "source": [
    "import os\n",
    "from dotenv import load_dotenv\n",
    "\n",
    "load_dotenv('.env')\n",
    "\n",
    "DB_PW = os.environ.get(\"DB_PASSWORD\")"
   ],
   "metadata": {
    "collapsed": false
   }
  },
  {
   "cell_type": "code",
   "execution_count": 8,
   "metadata": {
    "collapsed": true
   },
   "outputs": [
    {
     "name": "stderr",
     "output_type": "stream",
     "text": [
      "/Users/lukas/opt/anaconda3/lib/python3.9/site-packages/pandas/io/sql.py:762: UserWarning: pandas only support SQLAlchemy connectable(engine/connection) ordatabase string URI or sqlite3 DBAPI2 connectionother DBAPI2 objects are not tested, please consider using SQLAlchemy\n",
      "  warnings.warn(\n"
     ]
    },
    {
     "data": {
      "text/plain": "         concept_id                                       concept_name  \\\n0          40766883  Do you ever have to stop for breath after walk...   \n1          40766884  Are you too breathless to leave the house or b...   \n2          40766885  If you get a cold, does it usually go to your ...   \n3          40766886  During the past 3Y, have you had any chest ill...   \n4          40766887  Did you produce phlegm with any of these chest...   \n...             ...                                                ...   \n5881738    40766878  Have you ever required medicine or treatment f...   \n5881739    40766879  If disabled from walking by any condition othe...   \n5881740    40766880  Are you troubled by shortness of breath when h...   \n5881741    40766881  Do you have to walk slower than people of your...   \n5881742    40766882  Do you ever have to stop for breath when walki...   \n\n           domain_id vocabulary_id      concept_class_id standard_concept  \\\n0        Observation         LOINC  Clinical Observation                S   \n1        Observation         LOINC  Clinical Observation                S   \n2        Observation         LOINC  Clinical Observation                S   \n3        Observation         LOINC  Clinical Observation                S   \n4        Observation         LOINC  Clinical Observation                S   \n...              ...           ...                   ...              ...   \n5881738  Observation         LOINC  Clinical Observation                S   \n5881739  Observation         LOINC  Clinical Observation                S   \n5881740  Observation         LOINC  Clinical Observation                S   \n5881741  Observation         LOINC  Clinical Observation                S   \n5881742  Observation         LOINC  Clinical Observation                S   \n\n        concept_code valid_start_date valid_end_date invalid_reason  \n0            64171-2       2011-04-13     2099-12-31           None  \n1            64172-0       2011-04-13     2099-12-31           None  \n2            64173-8       2011-04-13     2099-12-31           None  \n3            64174-6       2011-04-13     2099-12-31           None  \n4            64175-3       2011-04-13     2099-12-31           None  \n...              ...              ...            ...            ...  \n5881738      64166-2       2011-04-13     2099-12-31           None  \n5881739      64167-0       2011-04-13     2099-12-31           None  \n5881740      64168-8       2011-04-13     2099-12-31           None  \n5881741      64169-6       2011-04-13     2099-12-31           None  \n5881742      64170-4       2011-04-13     2099-12-31           None  \n\n[5881743 rows x 10 columns]",
      "text/html": "<div>\n<style scoped>\n    .dataframe tbody tr th:only-of-type {\n        vertical-align: middle;\n    }\n\n    .dataframe tbody tr th {\n        vertical-align: top;\n    }\n\n    .dataframe thead th {\n        text-align: right;\n    }\n</style>\n<table border=\"1\" class=\"dataframe\">\n  <thead>\n    <tr style=\"text-align: right;\">\n      <th></th>\n      <th>concept_id</th>\n      <th>concept_name</th>\n      <th>domain_id</th>\n      <th>vocabulary_id</th>\n      <th>concept_class_id</th>\n      <th>standard_concept</th>\n      <th>concept_code</th>\n      <th>valid_start_date</th>\n      <th>valid_end_date</th>\n      <th>invalid_reason</th>\n    </tr>\n  </thead>\n  <tbody>\n    <tr>\n      <th>0</th>\n      <td>40766883</td>\n      <td>Do you ever have to stop for breath after walk...</td>\n      <td>Observation</td>\n      <td>LOINC</td>\n      <td>Clinical Observation</td>\n      <td>S</td>\n      <td>64171-2</td>\n      <td>2011-04-13</td>\n      <td>2099-12-31</td>\n      <td>None</td>\n    </tr>\n    <tr>\n      <th>1</th>\n      <td>40766884</td>\n      <td>Are you too breathless to leave the house or b...</td>\n      <td>Observation</td>\n      <td>LOINC</td>\n      <td>Clinical Observation</td>\n      <td>S</td>\n      <td>64172-0</td>\n      <td>2011-04-13</td>\n      <td>2099-12-31</td>\n      <td>None</td>\n    </tr>\n    <tr>\n      <th>2</th>\n      <td>40766885</td>\n      <td>If you get a cold, does it usually go to your ...</td>\n      <td>Observation</td>\n      <td>LOINC</td>\n      <td>Clinical Observation</td>\n      <td>S</td>\n      <td>64173-8</td>\n      <td>2011-04-13</td>\n      <td>2099-12-31</td>\n      <td>None</td>\n    </tr>\n    <tr>\n      <th>3</th>\n      <td>40766886</td>\n      <td>During the past 3Y, have you had any chest ill...</td>\n      <td>Observation</td>\n      <td>LOINC</td>\n      <td>Clinical Observation</td>\n      <td>S</td>\n      <td>64174-6</td>\n      <td>2011-04-13</td>\n      <td>2099-12-31</td>\n      <td>None</td>\n    </tr>\n    <tr>\n      <th>4</th>\n      <td>40766887</td>\n      <td>Did you produce phlegm with any of these chest...</td>\n      <td>Observation</td>\n      <td>LOINC</td>\n      <td>Clinical Observation</td>\n      <td>S</td>\n      <td>64175-3</td>\n      <td>2011-04-13</td>\n      <td>2099-12-31</td>\n      <td>None</td>\n    </tr>\n    <tr>\n      <th>...</th>\n      <td>...</td>\n      <td>...</td>\n      <td>...</td>\n      <td>...</td>\n      <td>...</td>\n      <td>...</td>\n      <td>...</td>\n      <td>...</td>\n      <td>...</td>\n      <td>...</td>\n    </tr>\n    <tr>\n      <th>5881738</th>\n      <td>40766878</td>\n      <td>Have you ever required medicine or treatment f...</td>\n      <td>Observation</td>\n      <td>LOINC</td>\n      <td>Clinical Observation</td>\n      <td>S</td>\n      <td>64166-2</td>\n      <td>2011-04-13</td>\n      <td>2099-12-31</td>\n      <td>None</td>\n    </tr>\n    <tr>\n      <th>5881739</th>\n      <td>40766879</td>\n      <td>If disabled from walking by any condition othe...</td>\n      <td>Observation</td>\n      <td>LOINC</td>\n      <td>Clinical Observation</td>\n      <td>S</td>\n      <td>64167-0</td>\n      <td>2011-04-13</td>\n      <td>2099-12-31</td>\n      <td>None</td>\n    </tr>\n    <tr>\n      <th>5881740</th>\n      <td>40766880</td>\n      <td>Are you troubled by shortness of breath when h...</td>\n      <td>Observation</td>\n      <td>LOINC</td>\n      <td>Clinical Observation</td>\n      <td>S</td>\n      <td>64168-8</td>\n      <td>2011-04-13</td>\n      <td>2099-12-31</td>\n      <td>None</td>\n    </tr>\n    <tr>\n      <th>5881741</th>\n      <td>40766881</td>\n      <td>Do you have to walk slower than people of your...</td>\n      <td>Observation</td>\n      <td>LOINC</td>\n      <td>Clinical Observation</td>\n      <td>S</td>\n      <td>64169-6</td>\n      <td>2011-04-13</td>\n      <td>2099-12-31</td>\n      <td>None</td>\n    </tr>\n    <tr>\n      <th>5881742</th>\n      <td>40766882</td>\n      <td>Do you ever have to stop for breath when walki...</td>\n      <td>Observation</td>\n      <td>LOINC</td>\n      <td>Clinical Observation</td>\n      <td>S</td>\n      <td>64170-4</td>\n      <td>2011-04-13</td>\n      <td>2099-12-31</td>\n      <td>None</td>\n    </tr>\n  </tbody>\n</table>\n<p>5881743 rows × 10 columns</p>\n</div>"
     },
     "execution_count": 8,
     "metadata": {},
     "output_type": "execute_result"
    }
   ],
   "source": [
    "import psycopg2\n",
    "import pandas as pd\n",
    "\n",
    "conn = psycopg2.connect(\"host=20.101.82.155 dbname=ohdsi user=postgres password=\" + DB_PW)\n",
    "\n",
    "df = pd.read_sql(\"SELECT * FROM concept\", conn)\n",
    "\n",
    "df"
   ]
  },
  {
   "cell_type": "code",
   "execution_count": null,
   "outputs": [],
   "source": [
    "import random\n",
    "\n",
    "def randomizedResponse(truth):\n",
    "    if (random.random() < 0.5):\n",
    "        return truth\n",
    "    else:\n",
    "        return random.random() < 0.5\n",
    "\n",
    "def rr(yesses, all):\n",
    "    nos = all - yesses\n",
    "    rand = 0\n",
    "\n",
    "    for x in range(yesses):\n",
    "        if randomizedResponse(True):\n",
    "            rand = rand + 1\n",
    "    for x in range(nos):\n",
    "        if randomizedResponse(False):\n",
    "            rand = rand + 1\n",
    "\n",
    "    return rand"
   ],
   "metadata": {
    "collapsed": false
   }
  }
 ],
 "metadata": {
  "kernelspec": {
   "display_name": "Python 3",
   "language": "python",
   "name": "python3"
  },
  "language_info": {
   "codemirror_mode": {
    "name": "ipython",
    "version": 2
   },
   "file_extension": ".py",
   "mimetype": "text/x-python",
   "name": "python",
   "nbconvert_exporter": "python",
   "pygments_lexer": "ipython2",
   "version": "2.7.6"
  }
 },
 "nbformat": 4,
 "nbformat_minor": 0
}
