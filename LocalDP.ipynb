{
 "cells": [
  {
   "cell_type": "code",
   "execution_count": 1,
   "metadata": {
    "collapsed": true
   },
   "outputs": [],
   "source": [
    "import sqlite3\n",
    "import numpy as np\n",
    "\n",
    "conn = sqlite3.connect(\"medical.db\")\n",
    "cur = conn.cursor()"
   ]
  },
  {
   "cell_type": "code",
   "execution_count": 76,
   "outputs": [
    {
     "data": {
      "text/plain": "<Figure size 640x480 with 1 Axes>",
      "image/png": "[encoded data removed]"
     },
     "metadata": {},
     "output_type": "display_data"
    }
   ],
   "source": [
    "womenQuery = \"\"\"\n",
    "    SELECT AVG(CAST(o.value AS DECIMAL))\n",
    "    FROM observations o\n",
    "    JOIN patients p ON p.patient = o.patient\n",
    "    WHERE o.description = 'Body Height' AND p.gender = 'F' AND p.birthdate < '2000'\n",
    "    GROUP BY o.patient\n",
    "\"\"\"\n",
    "\n",
    "menQuery = \"\"\"\n",
    "    SELECT AVG(CAST(o.value AS DECIMAL))\n",
    "    FROM observations o\n",
    "    JOIN patients p ON p.patient = o.patient\n",
    "    WHERE o.description = 'Body Height' AND p.gender = 'M' AND p.birthdate < '2000'\n",
    "    GROUP BY o.patient\n",
    "\"\"\"\n",
    "\n",
    "range = 5\n",
    "\n",
    "cur.execute(womenQuery)\n",
    "women = cur.fetchall()\n",
    "cur.execute(menQuery)\n",
    "men = cur.fetchall()\n",
    "men2 = []\n",
    "women2 = []\n",
    "for m in men:\n",
    "    men2.append(np.random.normal(m[0], range))\n",
    "for w in women:\n",
    "    women2.append(np.random.normal(w[0], range))\n",
    "\n",
    "import matplotlib.pyplot as plt\n",
    "import numpy\n",
    "\n",
    "bins = numpy.linspace(\n",
    "    min(min(women2), min(men2)),\n",
    "    max(max(women2), max(men2)),\n",
    "    80)\n",
    "plt.hist(men2, bins, label='men', alpha=0.5, color='deepskyblue')\n",
    "\n",
    "plt.hist(women2, bins, label='women', alpha=0.5, color='orangered')\n",
    "\n",
    "plt.legend()\n",
    "plt.title('Overlapping')\n",
    "plt.show()"
   ],
   "metadata": {
    "collapsed": false
   }
  },
  {
   "cell_type": "code",
   "execution_count": 73,
   "outputs": [
    {
     "name": "stdout",
     "output_type": "stream",
     "text": [
      "182.16632174881263\n",
      "180.81186165237094\n",
      "184.79278673205974\n",
      "184.80635442576738\n",
      "179.59380143579526\n",
      "164.07361171778393\n",
      "151.6036017731014\n",
      "176.2674174912227\n",
      "180.43329286771112\n",
      "181.71164192064023\n"
     ]
    }
   ],
   "source": [
    "for a in [1, 2, 3, 4, 5, 6, 7, 8, 9, 10]:\n",
    "    print(np.random.laplace(180.0, 5.0))"
   ],
   "metadata": {
    "collapsed": false
   }
  },
  {
   "cell_type": "code",
   "execution_count": null,
   "outputs": [],
   "source": [],
   "metadata": {
    "collapsed": false
   }
  }
 ],
 "metadata": {
  "kernelspec": {
   "display_name": "Python 3",
   "language": "python",
   "name": "python3"
  },
  "language_info": {
   "codemirror_mode": {
    "name": "ipython",
    "version": 2
   },
   "file_extension": ".py",
   "mimetype": "text/x-python",
   "name": "python",
   "nbconvert_exporter": "python",
   "pygments_lexer": "ipython2",
   "version": "2.7.6"
  }
 },
 "nbformat": 4,
 "nbformat_minor": 0
}
