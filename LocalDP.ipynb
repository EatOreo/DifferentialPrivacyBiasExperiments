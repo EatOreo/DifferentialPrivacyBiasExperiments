{
 "cells": [
  {
   "cell_type": "code",
   "execution_count": 24,
   "metadata": {
    "collapsed": true
   },
   "outputs": [],
   "source": [
    "import sqlite3\n",
    "from functools import reduce\n",
    "\n",
    "import numpy as np\n",
    "\n",
    "conn = sqlite3.connect(\"medical.db\")\n",
    "cur = conn.cursor()"
   ]
  },
  {
   "cell_type": "code",
   "execution_count": 1,
   "outputs": [
    {
     "name": "stdout",
     "output_type": "stream",
     "text": [
      "\n",
      "    SELECT ROUND(AVG(CAST(o.value AS DECIMAL))) as height, p.patient\n",
      "    FROM observations o\n",
      "    JOIN patients p ON p.patient = o.patient\n",
      "    WHERE o.description = 'Body Height' AND p.gender = 'F' AND p.birthdate < '2000'\n",
      "    GROUP BY o.patient\n",
      "\n"
     ]
    },
    {
     "ename": "NameError",
     "evalue": "name 'cur' is not defined",
     "output_type": "error",
     "traceback": [
      "\u001B[1;31m---------------------------------------------------------------------------\u001B[0m",
      "\u001B[1;31mNameError\u001B[0m                                 Traceback (most recent call last)",
      "\u001B[1;32m~\\AppData\\Local\\Temp\\ipykernel_9840\\2997494144.py\u001B[0m in \u001B[0;36m<module>\u001B[1;34m\u001B[0m\n\u001B[0;32m     16\u001B[0m \u001B[0mprint\u001B[0m\u001B[1;33m(\u001B[0m\u001B[0mwomenQuery\u001B[0m\u001B[1;33m)\u001B[0m\u001B[1;33m\u001B[0m\u001B[1;33m\u001B[0m\u001B[0m\n\u001B[0;32m     17\u001B[0m \u001B[1;33m\u001B[0m\u001B[0m\n\u001B[1;32m---> 18\u001B[1;33m \u001B[0mcur\u001B[0m\u001B[1;33m.\u001B[0m\u001B[0mexecute\u001B[0m\u001B[1;33m(\u001B[0m\u001B[0mwomenQuery\u001B[0m\u001B[1;33m)\u001B[0m\u001B[1;33m\u001B[0m\u001B[1;33m\u001B[0m\u001B[0m\n\u001B[0m\u001B[0;32m     19\u001B[0m \u001B[0mwomen\u001B[0m \u001B[1;33m=\u001B[0m \u001B[0mcur\u001B[0m\u001B[1;33m.\u001B[0m\u001B[0mfetchall\u001B[0m\u001B[1;33m(\u001B[0m\u001B[1;33m)\u001B[0m\u001B[1;33m\u001B[0m\u001B[1;33m\u001B[0m\u001B[0m\n\u001B[0;32m     20\u001B[0m \u001B[0mcur\u001B[0m\u001B[1;33m.\u001B[0m\u001B[0mexecute\u001B[0m\u001B[1;33m(\u001B[0m\u001B[0mmenQuery\u001B[0m\u001B[1;33m)\u001B[0m\u001B[1;33m\u001B[0m\u001B[1;33m\u001B[0m\u001B[0m\n",
      "\u001B[1;31mNameError\u001B[0m: name 'cur' is not defined"
     ]
    }
   ],
   "source": [
    "womenQuery = \"\"\"\n",
    "    SELECT ROUND(AVG(CAST(o.value AS DECIMAL))) as height, p.patient\n",
    "    FROM observations o\n",
    "    JOIN patients p ON p.patient = o.patient\n",
    "    WHERE o.description = 'Body Height' AND p.gender = 'F' AND p.birthdate < '2000'\n",
    "    GROUP BY o.patient\n",
    "\"\"\"\n",
    "\n",
    "menQuery = \"\"\"\n",
    "    SELECT ROUND(AVG(CAST(o.value AS DECIMAL)))  as height, p.patient\n",
    "    FROM observations o\n",
    "    JOIN patients p ON p.patient = o.patient\n",
    "    WHERE o.description = 'Body Height' AND p.gender = 'M' AND p.birthdate < '2000'\n",
    "    GROUP BY o.patient\n",
    "\"\"\"\n",
    "\n",
    "cur.execute(womenQuery)\n",
    "women = cur.fetchall()\n",
    "cur.execute(menQuery)\n",
    "men = cur.fetchall()\n",
    "men2 = []\n",
    "women2 = []\n",
    "for m in men:\n",
    "    men2.append(m[0])\n",
    "for w in women:\n",
    "    women2.append(w[0])\n",
    "\n",
    "menDeviation = 3\n",
    "womenDeviation = 3\n",
    "men3 = []\n",
    "women3 = []\n",
    "\n",
    "for m in men:\n",
    "    men3.append(np.random.normal(m[0], menDeviation))\n",
    "for w in women:\n",
    "    women3.append(np.random.normal(w[0], womenDeviation))\n",
    "\n",
    "import matplotlib.pyplot as plt\n",
    "import numpy\n",
    "\n",
    "bins = numpy.linspace(\n",
    "    min(min(women2), min(men2)),\n",
    "    max(max(women2), max(men2)),\n",
    "    40)\n",
    "plt.hist(men2, bins, label='men', alpha=0.5, color='deepskyblue')\n",
    "\n",
    "plt.hist(women2, bins, label='women', alpha=0.5, color='orangered')\n",
    "\n",
    "plt.legend()\n",
    "plt.title('Real')\n",
    "plt.show()\n",
    "\n",
    "bins = numpy.linspace(\n",
    "    min(min(women3), min(men3)),\n",
    "    max(max(women3), max(men3)),\n",
    "    40)\n",
    "plt.hist(men3, bins, label='men', alpha=0.5, color='deepskyblue')\n",
    "\n",
    "plt.hist(women3, bins, label='women', alpha=0.5, color='orangered')\n",
    "\n",
    "plt.legend()\n",
    "plt.title('Local DP')\n",
    "plt.show()"
   ],
   "metadata": {
    "collapsed": false
   }
  },
  {
   "cell_type": "code",
   "execution_count": 26,
   "outputs": [
    {
     "name": "stderr",
     "output_type": "stream",
     "text": [
      "C:\\Users\\krist\\anaconda3\\lib\\site-packages\\snsql\\sql\\private_reader.py:121: UserWarning: Dimension censoring is enabled, with Mechanism.discrete_laplace as the thresholding mechanism. \n",
      "This is an unsafe floating point mechanism.  Counts used for censoring will be revealed in any queries that request COUNT DISTINCT(person), \n",
      "leading to potential privacy leaks. If your query workload needs to reveal distinct counts of individuals, consider doing the dimension\n",
      "censoring as a preprocessing step.  See the documentation for more information.\n",
      "  warnings.warn(\n",
      "C:\\Users\\krist\\anaconda3\\lib\\site-packages\\snsql\\sql\\private_reader.py:121: UserWarning: Dimension censoring is enabled, with Mechanism.discrete_laplace as the thresholding mechanism. \n",
      "This is an unsafe floating point mechanism.  Counts used for censoring will be revealed in any queries that request COUNT DISTINCT(person), \n",
      "leading to potential privacy leaks. If your query workload needs to reveal distinct counts of individuals, consider doing the dimension\n",
      "censoring as a preprocessing step.  See the documentation for more information.\n",
      "  warnings.warn(\n"
     ]
    }
   ],
   "source": [
    "import pandas as pd\n",
    "menDf = pd.read_sql_query(menQuery, conn)\n",
    "womenDf = pd.read_sql_query(womenQuery, conn)\n",
    "\n",
    "metadata = {\n",
    "    '':{\n",
    "        '': {\n",
    "            'MyTable': {\n",
    "                'max_ids': 1,\n",
    "                'row_privacy': True,\n",
    "                'patient': {\n",
    "                    'name': 'patient',\n",
    "                    'type': 'string'\n",
    "                },\n",
    "                'height': {\n",
    "                    'name': 'height',\n",
    "                    'type': 'int'\n",
    "                }\n",
    "            }\n",
    "        }\n",
    "    }\n",
    "}\n",
    "\n",
    "import snsql\n",
    "from snsql import Privacy\n",
    "privacy = Privacy(epsilon=0.5, delta=0.01)\n",
    "menReader = snsql.from_connection(menDf, privacy=privacy, metadata=metadata)\n",
    "menResult = menReader.execute('SELECT height, COUNT(patient) as amount FROM MyTable GROUP BY height')\n",
    "womenReader = snsql.from_connection(womenDf, privacy=privacy, metadata=metadata)\n",
    "womenResult = womenReader.execute('SELECT height, COUNT(patient) as amount FROM MyTable GROUP BY height')"
   ],
   "metadata": {
    "collapsed": false
   }
  },
  {
   "cell_type": "code",
   "execution_count": 27,
   "outputs": [
    {
     "data": {
      "text/plain": "<Figure size 640x480 with 1 Axes>",
      "image/png": "[encoded data removed]"
     },
     "metadata": {},
     "output_type": "display_data"
    }
   ],
   "source": [
    "def dupe(a):\n",
    "    acc = []\n",
    "    amount = a[1]\n",
    "    for x in range(amount):\n",
    "        acc.append(a[0] * 1.0)\n",
    "    return acc\n",
    "\n",
    "men4 = []\n",
    "for x in menResult[1:]:\n",
    "    men4.extend(dupe(x))\n",
    "\n",
    "women4 = []\n",
    "for x in womenResult[1:]:\n",
    "    women4.extend(dupe(x))\n",
    "\n",
    "bins = numpy.linspace(\n",
    "    min(min(women4), min(men4)),\n",
    "    max(max(women4), max(men4)),\n",
    "    40)\n",
    "plt.hist(men4, bins, label='men', alpha=0.5, color='deepskyblue')\n",
    "\n",
    "plt.hist(women4, bins, label='women', alpha=0.5, color='orangered')\n",
    "\n",
    "plt.legend()\n",
    "plt.title('DP')\n",
    "plt.show()\n"
   ],
   "metadata": {
    "collapsed": false
   }
  },
  {
   "cell_type": "code",
   "execution_count": 27,
   "outputs": [],
   "source": [],
   "metadata": {
    "collapsed": false
   }
  },
  {
   "cell_type": "code",
   "execution_count": null,
   "outputs": [],
   "source": [],
   "metadata": {
    "collapsed": false
   }
  }
 ],
 "metadata": {
  "kernelspec": {
   "display_name": "Python 3",
   "language": "python",
   "name": "python3"
  },
  "language_info": {
   "codemirror_mode": {
    "name": "ipython",
    "version": 2
   },
   "file_extension": ".py",
   "mimetype": "text/x-python",
   "name": "python",
   "nbconvert_exporter": "python",
   "pygments_lexer": "ipython2",
   "version": "2.7.6"
  }
 },
 "nbformat": 4,
 "nbformat_minor": 0
}
